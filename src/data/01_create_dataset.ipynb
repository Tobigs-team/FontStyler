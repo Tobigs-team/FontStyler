{
 "cells": [
  {
   "cell_type": "markdown",
   "metadata": {},
   "source": [
    "# Create Dataset"
   ]
  },
  {
   "cell_type": "markdown",
   "metadata": {},
   "source": [
    "### 폰트 경로 확인"
   ]
  },
  {
   "cell_type": "code",
   "execution_count": 4,
   "metadata": {},
   "outputs": [],
   "source": [
    "import os\n",
    "import shutil\n",
    "from tqdm import tqdm\n",
    "\n",
    "from PIL import Image,ImageDraw,ImageFont\n",
    "import torch\n",
    "import matplotlib.pyplot as plt\n",
    "%matplotlib inline"
   ]
  },
  {
   "cell_type": "code",
   "execution_count": 6,
   "metadata": {},
   "outputs": [
    {
     "data": {
      "text/plain": [
       "['Monospace',\n",
       " 'Serif',\n",
       " '.DS_Store',\n",
       " 'Handwriting',\n",
       " 'Sans Serif',\n",
       " 'README.md',\n",
       " '.gitignore',\n",
       " '.ipynb_checkpoints',\n",
       " 'Display']"
      ]
     },
     "execution_count": 6,
     "metadata": {},
     "output_type": "execute_result"
    }
   ],
   "source": [
    "# check path\n",
    "path = '/Users/youngerous/Desktop/git repos/FontStyler/src/data/collection/fonts/'\n",
    "os.listdir(path)"
   ]
  },
  {
   "cell_type": "code",
   "execution_count": 7,
   "metadata": {},
   "outputs": [],
   "source": [
    "# font storage\n",
    "dict_font = {\n",
    "    'Serif': [],\n",
    "    'Sans Serif': [],\n",
    "    'Display': [],\n",
    "    'Handwriting': [],\n",
    "    'Monospace': []\n",
    "}\n",
    "\n",
    "save_path = '/Users/youngerous/Desktop/git repos/FontStyler/src/data/collection/selected/'"
   ]
  },
  {
   "cell_type": "markdown",
   "metadata": {},
   "source": [
    "### Regular Font 추출"
   ]
  },
  {
   "cell_type": "code",
   "execution_count": 8,
   "metadata": {},
   "outputs": [
    {
     "name": "stderr",
     "output_type": "stream",
     "text": [
      "100%|██████████| 5/5 [00:00<00:00, 25.52it/s]\n"
     ]
    }
   ],
   "source": [
    "categories = ['Serif', 'Sans Serif', 'Display', 'Handwriting', 'Monospace']\n",
    "exclude = ['.DS_Store', '.ipynb_checkpoints' ]\n",
    "\n",
    "for category in tqdm(categories):\n",
    "    ## 각 카테고리 접근\n",
    "    style_dir = path + category + '/'\n",
    "    for files in os.listdir(style_dir):\n",
    "        if (files in exclude) or ('.zip' in files):\n",
    "            continue\n",
    "\n",
    "        ## 4개씩 분할된 폴더 접근\n",
    "        file_dir = style_dir + files + '/'\n",
    "        for fontfolder in os.listdir(file_dir):\n",
    "            if fontfolder in exclude:\n",
    "                continue\n",
    "\n",
    "            ## 세부 폰트 파일 접근\n",
    "            font_dir = file_dir + fontfolder + '/'\n",
    "            for font in os.listdir(font_dir):\n",
    "                if 'Regular' in font:\n",
    "                    dict_font[category].append(font)\n",
    "                    shutil.copy(font_dir+font, save_path + category +'/'+font)"
   ]
  },
  {
   "cell_type": "code",
   "execution_count": 9,
   "metadata": {},
   "outputs": [
    {
     "name": "stdout",
     "output_type": "stream",
     "text": [
      "182\n",
      "263\n",
      "285\n",
      "140\n",
      "19\n"
     ]
    }
   ],
   "source": [
    "# 총 몇 개의 파일을 추출했는가\n",
    "print(len(dict_font['Serif']))\n",
    "print(len(dict_font['Sans Serif']))\n",
    "print(len(dict_font['Display']))\n",
    "print(len(dict_font['Handwriting']))\n",
    "print(len(dict_font['Monospace']))"
   ]
  },
  {
   "cell_type": "markdown",
   "metadata": {},
   "source": [
    "폰트마다, 그리고 알파벳마다 이미지를 수집해보자."
   ]
  },
  {
   "cell_type": "code",
   "execution_count": 10,
   "metadata": {},
   "outputs": [],
   "source": [
    "# user settings: 소문자 a~z, 대문자 A~Z 순\n",
    "words = [chr(i) for i in range(ord('a'),ord('z')+1)] + [chr(i) for i in range(ord('A'), ord('Z')+1)]\n",
    "canvas_size = 256"
   ]
  },
  {
   "cell_type": "code",
   "execution_count": 21,
   "metadata": {},
   "outputs": [],
   "source": [
    "def save_font_word(word, canvas_size, font_style, file_name, cate):\n",
    "    canvas = Image.new('L', (canvas_size, canvas_size), color=255)\n",
    "    draw = ImageDraw.Draw(canvas)\n",
    "    \n",
    "    font_style = './collection/selected/'+ cate + '/' + font_style\n",
    "    try:\n",
    "        font = ImageFont.truetype(font_style, size=150)\n",
    "        w, h = draw.textsize(word, font=font)    \n",
    "        draw.text(((canvas_size-w)/2,(canvas_size-h)/5), word, fill=(0), font=font)\n",
    "\n",
    "        canvas.save(file_name, \"PNG\")\n",
    "    except Exception as e:\n",
    "        print(font_style + '(' + word + ')' + ' : ' + str(e))"
   ]
  },
  {
   "cell_type": "markdown",
   "metadata": {},
   "source": [
    "### 폰트 이미지 수집 코드"
   ]
  },
  {
   "cell_type": "code",
   "execution_count": 16,
   "metadata": {},
   "outputs": [],
   "source": [
    "# Serif (0)\n",
    "for (idx,style) in enumerate(dict_font['Serif']):\n",
    "    for (jdx,word) in enumerate(words):\n",
    "        filename = './collection/img/0/0_{}_{}.png'.format(idx, jdx)\n",
    "        save_font_word(word, canvas_size, style, filename, 'Serif')"
   ]
  },
  {
   "cell_type": "code",
   "execution_count": 17,
   "metadata": {},
   "outputs": [],
   "source": [
    "# Sans Serif (1)\n",
    "for (idx,style) in enumerate(dict_font['Sans Serif']):\n",
    "    for (jdx,word) in enumerate(words):\n",
    "        filename = './collection/img/1/1_{}_{}.png'.format(idx, jdx)\n",
    "        save_font_word(word, canvas_size, style, filename, 'Sans Serif')"
   ]
  },
  {
   "cell_type": "code",
   "execution_count": 18,
   "metadata": {},
   "outputs": [
    {
     "name": "stdout",
     "output_type": "stream",
     "text": [
      "./collection/selected/Display/KumarOneOutline-Regular.ttf(a) : execution context too long\n",
      "./collection/selected/Display/KumarOneOutline-Regular.ttf(b) : execution context too long\n",
      "./collection/selected/Display/KumarOneOutline-Regular.ttf(c) : execution context too long\n",
      "./collection/selected/Display/KumarOneOutline-Regular.ttf(d) : execution context too long\n",
      "./collection/selected/Display/KumarOneOutline-Regular.ttf(e) : execution context too long\n",
      "./collection/selected/Display/KumarOneOutline-Regular.ttf(f) : execution context too long\n",
      "./collection/selected/Display/KumarOneOutline-Regular.ttf(g) : execution context too long\n",
      "./collection/selected/Display/KumarOneOutline-Regular.ttf(h) : execution context too long\n",
      "./collection/selected/Display/KumarOneOutline-Regular.ttf(i) : execution context too long\n",
      "./collection/selected/Display/KumarOneOutline-Regular.ttf(j) : execution context too long\n",
      "./collection/selected/Display/KumarOneOutline-Regular.ttf(k) : execution context too long\n",
      "./collection/selected/Display/KumarOneOutline-Regular.ttf(l) : execution context too long\n",
      "./collection/selected/Display/KumarOneOutline-Regular.ttf(m) : execution context too long\n",
      "./collection/selected/Display/KumarOneOutline-Regular.ttf(n) : execution context too long\n",
      "./collection/selected/Display/KumarOneOutline-Regular.ttf(o) : execution context too long\n",
      "./collection/selected/Display/KumarOneOutline-Regular.ttf(p) : execution context too long\n",
      "./collection/selected/Display/KumarOneOutline-Regular.ttf(q) : execution context too long\n",
      "./collection/selected/Display/KumarOneOutline-Regular.ttf(r) : execution context too long\n",
      "./collection/selected/Display/KumarOneOutline-Regular.ttf(s) : execution context too long\n",
      "./collection/selected/Display/KumarOneOutline-Regular.ttf(t) : execution context too long\n",
      "./collection/selected/Display/KumarOneOutline-Regular.ttf(u) : execution context too long\n",
      "./collection/selected/Display/KumarOneOutline-Regular.ttf(v) : execution context too long\n",
      "./collection/selected/Display/KumarOneOutline-Regular.ttf(w) : execution context too long\n",
      "./collection/selected/Display/KumarOneOutline-Regular.ttf(x) : execution context too long\n",
      "./collection/selected/Display/KumarOneOutline-Regular.ttf(y) : execution context too long\n",
      "./collection/selected/Display/KumarOneOutline-Regular.ttf(z) : execution context too long\n",
      "./collection/selected/Display/KumarOneOutline-Regular.ttf(A) : execution context too long\n",
      "./collection/selected/Display/KumarOneOutline-Regular.ttf(B) : execution context too long\n",
      "./collection/selected/Display/KumarOneOutline-Regular.ttf(C) : execution context too long\n",
      "./collection/selected/Display/KumarOneOutline-Regular.ttf(D) : execution context too long\n",
      "./collection/selected/Display/KumarOneOutline-Regular.ttf(E) : execution context too long\n",
      "./collection/selected/Display/KumarOneOutline-Regular.ttf(F) : execution context too long\n",
      "./collection/selected/Display/KumarOneOutline-Regular.ttf(G) : execution context too long\n",
      "./collection/selected/Display/KumarOneOutline-Regular.ttf(H) : execution context too long\n",
      "./collection/selected/Display/KumarOneOutline-Regular.ttf(I) : execution context too long\n",
      "./collection/selected/Display/KumarOneOutline-Regular.ttf(J) : execution context too long\n",
      "./collection/selected/Display/KumarOneOutline-Regular.ttf(K) : execution context too long\n",
      "./collection/selected/Display/KumarOneOutline-Regular.ttf(L) : execution context too long\n",
      "./collection/selected/Display/KumarOneOutline-Regular.ttf(M) : execution context too long\n",
      "./collection/selected/Display/KumarOneOutline-Regular.ttf(N) : execution context too long\n",
      "./collection/selected/Display/KumarOneOutline-Regular.ttf(O) : execution context too long\n",
      "./collection/selected/Display/KumarOneOutline-Regular.ttf(P) : execution context too long\n",
      "./collection/selected/Display/KumarOneOutline-Regular.ttf(Q) : execution context too long\n",
      "./collection/selected/Display/KumarOneOutline-Regular.ttf(R) : execution context too long\n",
      "./collection/selected/Display/KumarOneOutline-Regular.ttf(S) : execution context too long\n",
      "./collection/selected/Display/KumarOneOutline-Regular.ttf(T) : execution context too long\n",
      "./collection/selected/Display/KumarOneOutline-Regular.ttf(U) : execution context too long\n",
      "./collection/selected/Display/KumarOneOutline-Regular.ttf(V) : execution context too long\n",
      "./collection/selected/Display/KumarOneOutline-Regular.ttf(W) : execution context too long\n",
      "./collection/selected/Display/KumarOneOutline-Regular.ttf(X) : execution context too long\n",
      "./collection/selected/Display/KumarOneOutline-Regular.ttf(Y) : execution context too long\n",
      "./collection/selected/Display/KumarOneOutline-Regular.ttf(Z) : execution context too long\n",
      "./collection/selected/Display/KumarOne-Regular.ttf(a) : execution context too long\n",
      "./collection/selected/Display/KumarOne-Regular.ttf(b) : execution context too long\n",
      "./collection/selected/Display/KumarOne-Regular.ttf(c) : execution context too long\n",
      "./collection/selected/Display/KumarOne-Regular.ttf(d) : execution context too long\n",
      "./collection/selected/Display/KumarOne-Regular.ttf(e) : execution context too long\n",
      "./collection/selected/Display/KumarOne-Regular.ttf(f) : execution context too long\n",
      "./collection/selected/Display/KumarOne-Regular.ttf(g) : execution context too long\n",
      "./collection/selected/Display/KumarOne-Regular.ttf(h) : execution context too long\n",
      "./collection/selected/Display/KumarOne-Regular.ttf(i) : execution context too long\n",
      "./collection/selected/Display/KumarOne-Regular.ttf(j) : execution context too long\n",
      "./collection/selected/Display/KumarOne-Regular.ttf(k) : execution context too long\n",
      "./collection/selected/Display/KumarOne-Regular.ttf(l) : execution context too long\n",
      "./collection/selected/Display/KumarOne-Regular.ttf(m) : execution context too long\n",
      "./collection/selected/Display/KumarOne-Regular.ttf(n) : execution context too long\n",
      "./collection/selected/Display/KumarOne-Regular.ttf(o) : execution context too long\n",
      "./collection/selected/Display/KumarOne-Regular.ttf(p) : execution context too long\n",
      "./collection/selected/Display/KumarOne-Regular.ttf(q) : execution context too long\n",
      "./collection/selected/Display/KumarOne-Regular.ttf(r) : execution context too long\n",
      "./collection/selected/Display/KumarOne-Regular.ttf(s) : execution context too long\n",
      "./collection/selected/Display/KumarOne-Regular.ttf(t) : execution context too long\n",
      "./collection/selected/Display/KumarOne-Regular.ttf(u) : execution context too long\n",
      "./collection/selected/Display/KumarOne-Regular.ttf(v) : execution context too long\n",
      "./collection/selected/Display/KumarOne-Regular.ttf(w) : execution context too long\n",
      "./collection/selected/Display/KumarOne-Regular.ttf(x) : execution context too long\n",
      "./collection/selected/Display/KumarOne-Regular.ttf(y) : execution context too long\n",
      "./collection/selected/Display/KumarOne-Regular.ttf(z) : execution context too long\n",
      "./collection/selected/Display/KumarOne-Regular.ttf(A) : execution context too long\n",
      "./collection/selected/Display/KumarOne-Regular.ttf(B) : execution context too long\n",
      "./collection/selected/Display/KumarOne-Regular.ttf(C) : execution context too long\n",
      "./collection/selected/Display/KumarOne-Regular.ttf(D) : execution context too long\n",
      "./collection/selected/Display/KumarOne-Regular.ttf(E) : execution context too long\n",
      "./collection/selected/Display/KumarOne-Regular.ttf(F) : execution context too long\n",
      "./collection/selected/Display/KumarOne-Regular.ttf(G) : execution context too long\n",
      "./collection/selected/Display/KumarOne-Regular.ttf(H) : execution context too long\n",
      "./collection/selected/Display/KumarOne-Regular.ttf(I) : execution context too long\n",
      "./collection/selected/Display/KumarOne-Regular.ttf(J) : execution context too long\n",
      "./collection/selected/Display/KumarOne-Regular.ttf(K) : execution context too long\n",
      "./collection/selected/Display/KumarOne-Regular.ttf(L) : execution context too long\n",
      "./collection/selected/Display/KumarOne-Regular.ttf(M) : execution context too long\n",
      "./collection/selected/Display/KumarOne-Regular.ttf(N) : execution context too long\n",
      "./collection/selected/Display/KumarOne-Regular.ttf(O) : execution context too long\n",
      "./collection/selected/Display/KumarOne-Regular.ttf(P) : execution context too long\n",
      "./collection/selected/Display/KumarOne-Regular.ttf(Q) : execution context too long\n",
      "./collection/selected/Display/KumarOne-Regular.ttf(R) : execution context too long\n",
      "./collection/selected/Display/KumarOne-Regular.ttf(S) : execution context too long\n",
      "./collection/selected/Display/KumarOne-Regular.ttf(T) : execution context too long\n",
      "./collection/selected/Display/KumarOne-Regular.ttf(U) : execution context too long\n",
      "./collection/selected/Display/KumarOne-Regular.ttf(V) : execution context too long\n",
      "./collection/selected/Display/KumarOne-Regular.ttf(W) : execution context too long\n",
      "./collection/selected/Display/KumarOne-Regular.ttf(X) : execution context too long\n",
      "./collection/selected/Display/KumarOne-Regular.ttf(Y) : execution context too long\n",
      "./collection/selected/Display/KumarOne-Regular.ttf(Z) : execution context too long\n"
     ]
    }
   ],
   "source": [
    "# Display (2)\n",
    "for (idx,style) in enumerate(dict_font['Display']):\n",
    "    for (jdx,word) in enumerate(words):\n",
    "        filename = './collection/img/2/2_{}_{}.png'.format(idx, jdx)\n",
    "        save_font_word(word, canvas_size, style, filename, 'Display')"
   ]
  },
  {
   "cell_type": "markdown",
   "metadata": {},
   "source": [
    "> 카테고리 2(Display)에서 2개의 폰트 배제"
   ]
  },
  {
   "cell_type": "code",
   "execution_count": 20,
   "metadata": {},
   "outputs": [],
   "source": [
    "# Handwriting (3)\n",
    "for (idx,style) in enumerate(dict_font['Handwriting']):\n",
    "    for (jdx,word) in enumerate(words):\n",
    "        filename = './collection/img/3/3_{}_{}.png'.format(idx, jdx)\n",
    "        save_font_word(word, canvas_size, style, filename, 'Handwriting')"
   ]
  },
  {
   "cell_type": "code",
   "execution_count": 15,
   "metadata": {},
   "outputs": [],
   "source": [
    "# Monospace (4)\n",
    "for (idx,style) in enumerate(dict_font['Monospace']):\n",
    "    for (jdx,word) in enumerate(words):\n",
    "        filename = './collection/img/4/4_{}_{}.png'.format(idx, jdx)\n",
    "        save_font_word(word, canvas_size, style, filename, 'Monospace')"
   ]
  },
  {
   "cell_type": "markdown",
   "metadata": {},
   "source": [
    "#### 각 카테고리별 폰트 개수 최종 확인\n",
    "- 카테고리 2에서 두 개의 폰트를 배제했음을 고려\n",
    "- 카테고리 폴더마다 readme를 추가하였으므로 이를 고려"
   ]
  },
  {
   "cell_type": "code",
   "execution_count": 22,
   "metadata": {},
   "outputs": [
    {
     "name": "stdout",
     "output_type": "stream",
     "text": [
      "카테고리 0 폰트 갯수:  182.0\n",
      "카테고리 1 폰트 갯수:  263.0\n",
      "카테고리 2 폰트 갯수:  283.0\n",
      "카테고리 3 폰트 갯수:  140.0\n",
      "카테고리 4 폰트 갯수:  19.0\n"
     ]
    }
   ],
   "source": [
    "print( '카테고리 0 폰트 갯수: ', (len(os.listdir('./collection/img/0'))-1) / 52 )\n",
    "print( '카테고리 1 폰트 갯수: ', (len(os.listdir('./collection/img/1'))-1) / 52 )\n",
    "print( '카테고리 2 폰트 갯수: ', (len(os.listdir('./collection/img/2'))-1) / 52 )\n",
    "print( '카테고리 3 폰트 갯수: ', (len(os.listdir('./collection/img/3'))-1) / 52 )\n",
    "print( '카테고리 4 폰트 갯수: ', (len(os.listdir('./collection/img/4'))-1) / 52 )"
   ]
  },
  {
   "cell_type": "markdown",
   "metadata": {},
   "source": [
    "---\n",
    "### 이미지를 obj 확장자로 변환 \n",
    "\n",
    "#### 두 가지 버전을 만들 예정\n",
    "1. train/val split을 하지 않은 **전체 obj 파일**\n",
    "    → 추후 비율 조절을 쉽게 하기 위함\n",
    "2. 만약의 상황을 대비하여 **train/val split(0.1)을 실행**한 obj 파일"
   ]
  },
  {
   "cell_type": "code",
   "execution_count": 23,
   "metadata": {},
   "outputs": [],
   "source": [
    "# -*- coding: utf-8 -*-\n",
    "from __future__ import print_function\n",
    "from __future__ import absolute_import\n",
    "\n",
    "import argparse\n",
    "import glob\n",
    "import os\n",
    "import pickle as pickle\n",
    "import random\n",
    "import torch\n",
    "\n",
    "def pickle_examples_integrated(from_dir, train_path):\n",
    "    \"\"\"\n",
    "    Compile a list of examples into pickled format, so during\n",
    "    the training, all io will happen in memory\n",
    "    \"\"\"\n",
    "    paths = glob.glob(os.path.join(from_dir, '*.png')) # 카테고리 폴더 내 모든 png 파일\n",
    "    with open(train_path, 'wb') as ft:\n",
    "        train_count = 0\n",
    "        \n",
    "        for p in paths:\n",
    "            label = os.path.basename(p) # 파일 이름을 저장(추후 DataSet에서 분리)\n",
    "            with open(p, 'rb') as f:\n",
    "                img_bytes = f.read()\n",
    "                r = random.random()\n",
    "                example = (label, img_bytes)\n",
    "                \n",
    "                # pickle.dump(example, ft)\n",
    "                torch.save(example, ft)\n",
    "                train_count += 1\n",
    "    print('{} imgs saved in train.obj, end'.format(train_count))\n",
    "    return\n",
    "\n",
    "def pickle_examples_separated(from_dir, train_path, val_path, train_val_split=0.1):\n",
    "    \"\"\"\n",
    "    Compile a list of examples into pickled format, so during\n",
    "    the training, all io will happen in memory\n",
    "    \"\"\"\n",
    "    paths = glob.glob(os.path.join(from_dir, '*.png'))\n",
    "    with open(train_path, 'wb') as ft:\n",
    "        with open(val_path, 'wb') as fv:\n",
    "            train_count, val_count = 0, 0\n",
    "            \n",
    "            for p in paths:\n",
    "                label = os.path.basename(p)\n",
    "                with open(p, 'rb') as f:\n",
    "                    img_bytes = f.read()\n",
    "                    r = random.random()\n",
    "                    example = (label, img_bytes)\n",
    "                    \n",
    "                    if r < train_val_split:\n",
    "                        # pickle.dump(example, fv)\n",
    "                        torch.save(example, fv)\n",
    "                        val_count += 1\n",
    "                    else:\n",
    "                        # pickle.dump(example, ft)\n",
    "                        torch.save(example, ft)\n",
    "                        train_count += 1\n",
    "    print('{} imgs saved in train.obj, end'.format(train_count))\n",
    "    print('{} imgs saved in val.obj, end'.format(val_count))\n",
    "    return"
   ]
  },
  {
   "cell_type": "markdown",
   "metadata": {},
   "source": [
    "#### Integrated 버전\n",
    "'integrated' 폴더에 'train_{카테고리}.obj' 파일이 생성된다."
   ]
  },
  {
   "cell_type": "code",
   "execution_count": 25,
   "metadata": {},
   "outputs": [
    {
     "name": "stderr",
     "output_type": "stream",
     "text": [
      " 20%|██        | 1/5 [00:00<00:02,  1.44it/s]"
     ]
    },
    {
     "name": "stdout",
     "output_type": "stream",
     "text": [
      "9464 imgs saved in train.obj, end\n"
     ]
    },
    {
     "name": "stderr",
     "output_type": "stream",
     "text": [
      " 40%|████      | 2/5 [00:01<00:02,  1.31it/s]"
     ]
    },
    {
     "name": "stdout",
     "output_type": "stream",
     "text": [
      "13676 imgs saved in train.obj, end\n"
     ]
    },
    {
     "name": "stderr",
     "output_type": "stream",
     "text": [
      " 60%|██████    | 3/5 [00:02<00:01,  1.18it/s]"
     ]
    },
    {
     "name": "stdout",
     "output_type": "stream",
     "text": [
      "14716 imgs saved in train.obj, end\n"
     ]
    },
    {
     "name": "stderr",
     "output_type": "stream",
     "text": [
      "100%|██████████| 5/5 [00:03<00:00,  1.54it/s]"
     ]
    },
    {
     "name": "stdout",
     "output_type": "stream",
     "text": [
      "7280 imgs saved in train.obj, end\n",
      "988 imgs saved in train.obj, end\n"
     ]
    },
    {
     "name": "stderr",
     "output_type": "stream",
     "text": [
      "\n"
     ]
    }
   ],
   "source": [
    "save_dir_integrated = './dataset/integrated/'\n",
    "\n",
    "for i in tqdm(range(5)):\n",
    "    from_dir = './collection/img/{}/'.format(str(i))\n",
    "    train_path = os.path.join(save_dir_integrated, 'train_{}.obj'.format(str(i)))\n",
    "    \n",
    "    pickle_examples_integrated(from_dir, train_path)"
   ]
  },
  {
   "cell_type": "markdown",
   "metadata": {},
   "source": [
    "#### Separated 버전\n",
    "'separated' 폴더에 'train_{카테고리}.obj' 파일과 'val_{카테고리}.obj' 파일이 생성된다."
   ]
  },
  {
   "cell_type": "code",
   "execution_count": 26,
   "metadata": {},
   "outputs": [
    {
     "name": "stderr",
     "output_type": "stream",
     "text": [
      " 20%|██        | 1/5 [00:00<00:02,  1.39it/s]"
     ]
    },
    {
     "name": "stdout",
     "output_type": "stream",
     "text": [
      "8535 imgs saved in train.obj, end\n",
      "929 imgs saved in val.obj, end\n"
     ]
    },
    {
     "name": "stderr",
     "output_type": "stream",
     "text": [
      " 40%|████      | 2/5 [00:01<00:02,  1.29it/s]"
     ]
    },
    {
     "name": "stdout",
     "output_type": "stream",
     "text": [
      "12338 imgs saved in train.obj, end\n",
      "1338 imgs saved in val.obj, end\n"
     ]
    },
    {
     "name": "stderr",
     "output_type": "stream",
     "text": [
      " 60%|██████    | 3/5 [00:02<00:01,  1.16it/s]"
     ]
    },
    {
     "name": "stdout",
     "output_type": "stream",
     "text": [
      "13160 imgs saved in train.obj, end\n",
      "1556 imgs saved in val.obj, end\n"
     ]
    },
    {
     "name": "stderr",
     "output_type": "stream",
     "text": [
      "100%|██████████| 5/5 [00:03<00:00,  1.52it/s]"
     ]
    },
    {
     "name": "stdout",
     "output_type": "stream",
     "text": [
      "6581 imgs saved in train.obj, end\n",
      "699 imgs saved in val.obj, end\n",
      "887 imgs saved in train.obj, end\n",
      "101 imgs saved in val.obj, end\n"
     ]
    },
    {
     "name": "stderr",
     "output_type": "stream",
     "text": [
      "\n"
     ]
    }
   ],
   "source": [
    "save_dir_separated = './dataset/separated/'\n",
    "\n",
    "for i in tqdm(range(5)):\n",
    "    from_dir = './collection/img/{}/'.format(str(i))\n",
    "    train_path = os.path.join(save_dir_separated, 'train_{}.obj'.format(str(i)))\n",
    "    val_path = os.path.join(save_dir_separated, 'val_{}.obj'.format(str(i)))\n",
    "    \n",
    "    pickle_examples_separated(from_dir, train_path, val_path)"
   ]
  },
  {
   "cell_type": "markdown",
   "metadata": {},
   "source": [
    "---\n",
    "obj 데이터가 잘 불러와지는 지 확인하자."
   ]
  },
  {
   "cell_type": "code",
   "execution_count": 27,
   "metadata": {},
   "outputs": [
    {
     "data": {
      "text/plain": [
       "['.DS_Store',\n",
       " 'train_1.obj',\n",
       " 'train_0.obj',\n",
       " 'train_2.obj',\n",
       " 'train_3.obj',\n",
       " 'train_4.obj']"
      ]
     },
     "execution_count": 27,
     "metadata": {},
     "output_type": "execute_result"
    }
   ],
   "source": [
    "example_dir = './dataset/integrated/'\n",
    "os.listdir(example_dir)"
   ]
  },
  {
   "cell_type": "code",
   "execution_count": 28,
   "metadata": {},
   "outputs": [],
   "source": [
    "from common.dataset import PickledImageProvider"
   ]
  },
  {
   "cell_type": "code",
   "execution_count": 29,
   "metadata": {},
   "outputs": [
    {
     "name": "stdout",
     "output_type": "stream",
     "text": [
      "processed 1000 examples\n",
      "processed 2000 examples\n",
      "processed 3000 examples\n",
      "processed 4000 examples\n",
      "processed 5000 examples\n",
      "processed 6000 examples\n",
      "processed 7000 examples\n",
      "processed 8000 examples\n",
      "processed 9000 examples\n",
      "processed 10000 examples\n",
      "processed 11000 examples\n",
      "processed 12000 examples\n",
      "processed 13000 examples\n",
      "processed 14000 examples\n",
      "processed 15000 examples\n",
      "processed 16000 examples\n",
      "processed 17000 examples\n",
      "processed 18000 examples\n",
      "processed 19000 examples\n",
      "processed 20000 examples\n",
      "processed 21000 examples\n",
      "processed 22000 examples\n",
      "processed 23000 examples\n",
      "processed 24000 examples\n",
      "processed 25000 examples\n",
      "processed 26000 examples\n",
      "processed 27000 examples\n",
      "processed 28000 examples\n",
      "processed 29000 examples\n",
      "processed 30000 examples\n",
      "processed 31000 examples\n",
      "processed 32000 examples\n",
      "processed 33000 examples\n",
      "processed 34000 examples\n",
      "processed 35000 examples\n",
      "processed 36000 examples\n",
      "unpickled total 36400 examples\n",
      "saved total 7280 examples only for byte\n"
     ]
    }
   ],
   "source": [
    "sample = PickledImageProvider(example_dir+'train_3.obj')"
   ]
  },
  {
   "cell_type": "code",
   "execution_count": 30,
   "metadata": {},
   "outputs": [
    {
     "data": {
      "text/plain": [
       "7280"
      ]
     },
     "execution_count": 30,
     "metadata": {},
     "output_type": "execute_result"
    }
   ],
   "source": [
    "len(sample.examples) "
   ]
  },
  {
   "cell_type": "code",
   "execution_count": 31,
   "metadata": {},
   "outputs": [
    {
     "data": {
      "text/plain": [
       "('3_31_11.png',\n",
       " b'\\x89PNG\\r\\n\\x1a\\n\\x00\\x00\\x00\\rIHDR\\x00\\x00\\x01\\x00\\x00\\x00\\x01\\x00\\x08\\x00\\x00\\x00\\x00y\\x19\\xf7\\xba\\x00\\x00\\x05(IDATx\\x9c\\xed\\x9dMh]E\\x18\\x86\\xe7Z\\xa3\\xc4\\xf4\\'\\x11C\\xc0\\xdfJ\\x15\\xa3\\xa5\\xb4\\xd2\\x08q\\xe1\\xce\\x1f0\\x82Z\\xb4\"\\x15\\x04\\xb1R\\x04\\x97\\x15\\xa4 \\xd8Mw\\xddTZ-\\x85\\xc6\\x8d\\x0b\\xa9\\xe8B\\xa4\\x8b\\xd8E\\x84\\xba)u\\xa1$*b\\x03Q\\xb4\\x8d \\xfd\\x05\\xdb4u\\x11b33\\xe7&\\xab\\xfb>\\x85\\xef}6\\xc97\\'\\xf0\\xbd\\xf7\\xe9\\xcc\\xb9\\xe7\\x9c\\xe4N[\\xd7Rln\\xa2\\x03\\xd0X\\x00\\x1d\\x80\\xc6\\x02\\xe8\\x004\\x16@\\x07\\xa0\\xb1\\x00:\\x00\\x8d\\x05\\xd0\\x01h,\\x80\\x0e@c\\x01t\\x00\\x1a\\x0b\\xa0\\x03\\xd0X\\x00\\x1d\\x80\\xc6\\x02\\xe8\\x004\\x16@\\x07\\xa0\\xb1\\x00:\\x00\\x8d\\x05\\xd0\\x01h,\\x80\\x0e@c\\x01t\\x00\\x1a\\x0b\\xa0\\x03\\xd0X\\x00\\x1d\\x80\\xc6\\x02\\xe8\\x004\\x16@\\x07\\xa0\\xb1\\x00:\\x00\\x8d\\x05\\xd0\\x01h,\\x80\\x0e@c\\x01t\\x00\\x1a\\x0b\\xa0\\x03\\xd0\\xdc\\x0c\\xf4<\\x7f\\xfaL\\xab\\x7f]\\x0b\\xe8\\xdc\\x80Z\\xc0\\xec\\xd1\\xa3\\xc7&SJ\\xa9o\\xeb{\\xf7\\x89{7\\xd2\\x92~fhz\\xff\\xe8_\\xff\\x17k\\x8e<\\xa9\\xec\\xdd\\x06\\xa5\\x80S{>\\xb9\\xbc\\xb8^5\\xbeI\\xd7\\xbc\\x1d:\\x01gw\\xef\\xbbR\\x0c\\xdd\\xfdK\\xb7\\xaa{[d\\xef\\x02\\x87\\x1f\\xdc[\\xbe\\xfe\\xf4\\xfb~U\\xf7\\xf6\\x88f\\xc0\\xa9\\xb7\\xc6\\x9a\\x86\\xfb\\xff\\xe8\\x92\\xb4_\\x02\\xcd\\x0c8\\xb8\\xa1\\xf1\\xf5\\xa7\\x99o%\\xed\\x97B!`\\xe6\\xf9\\x1d\\xfdC\\x83\\xb75\\x1d\\xfaZ\\xd0~i\\x04K\\xe0\\xf87\\xc3\\x8f\\xafL)\\x8d\\xef;R\\x1d\\x1b\\xfe\\xae\\xe3\\xed\\x97\\xa1\\xf3\\x02.]\\xebY\\xf8\\xf6\\xf0\\x8e\\xcb\\xc5\\xc1\\xfe3\\x9dn\\xbf\\x1c\\xda\\x0b\\xa1C\\xdb\\xcb\\x91s\\xab\\x94\\xfd\\x1b\\xd0\\xde\\x0c\\xbd\\xf9\\\\9rZ\\xda\\xbf\\x01\\xf1\\xdd\\xe0\\xeer\\xe0\\x9c\\xb6\\x7f\\x8dX\\xc0\\xa3O\\x14\\x03\\xe7\\xb5\\xfdk\\xd4\\xcf\\x03\\xb6\\x16\\xf5\\xbf\\xe2\\xfe\\x15j\\x01\\xe5\\r`uy\\xacF-`p \\xaf\\xaf\\x8a\\xfbW\\xc8\\x1f\\x89=\\x94\\x97\\xc4\\x13\\xa9\\x0c\\xb9\\x80uy\\x19\\xe4fh\\x11k\\xf32\\xde\\x0c(\\xae\\xfc\\xe2\\t(n\\n\\xe3-\\x81\\x9e\\xbc\\x8c\\'`E^\\xc6[\\x02\\x05\\xf1\\x04\\x14\\xb7\\xdf\\xe1\\x05\\xc4;\\x07\\xcc\\xe5e\\xbc\\x19\\x10^@q\\xf7\\x13O@\\xf8s\\xc0l^Z\\x80\\xba\\x7f\\t}\\x0e\\x88.\\xa0E_\\x89\\xea\\x05\\xe4\\x0f\\x01\\xf1\\t`\\x01\\xf0I0\\xa0\\x80\\xf03 \\x17\\x80_\\x08\\xea\\x05\\xe4\\xbf \\x0f?\\x03\\x02\\n\\xc8g@\\xc0%\\xe0\\x19\\x90U\\x01\\x05\\x84\\x9f\\x01\\xe1\\x05\\x84_\\x02\\x16\\x90U\\x01\\xdf\\x06\\xc3\\xcf\\x00\\x9f\\x04\\xb3\\xcaK@\\xdd\\xbe\\xc2\\x02\\xd4\\r}\\x0e\\xc8*\\x9f\\x03\\xd4\\xed+,@\\xdd0\\xfc\\x12\\x88\\xfeX\\xbc\\xf8\\xd0Px\\x01\\xf1\\x96@\\xf8\\x19P|@\\xc23@\\xdc\\xbe\\xc6\\xe7\\x00q\\xbf\\xf0\\x02\\x8as\\x80\\x97\\x80\\xb8}\\x8d\\x05\\x88\\xfb\\x85\\x7f\\x17\\x08\\x7f\\x1dP\\xfc\\x9dd<\\x01\\x9e\\x01y\\x19^@\\xbc\\x93\\xa0g@^\\x86\\x9f\\x01\\xf1\\x04\\x14\\x7f-\\x7f\\x8b\\xb8}\\x8d\\x05\\x88\\xfb\\x15\\x02n\\x15\\xb7\\xafQ\\x0b(>3\\x15o\\x06\\x14\\x02\\xf8\\x9dU\\xd5\\x02\\xe6\\x96\\xff\\x11-\\xf0\\x0c\\xc07\\x91\\xa1\\x05\\xe0\\x1bI\\xd1K\\x00\\xdfJ\\x8c\\xde@a\\x86m\\x9f\\xf4\\x02\\x8a~\\xd3\\xe2\\xf65j\\x01\\xc5\\xed\\xdf\\x94\\xb8}\\x8dZ@q\\xf7\\xf3\\x83\\xb8}\\x8dZ@q\\xe9\\xf7\\xbd\\xb8}\\x8dZ\\xc0\\xca\\xbc\\x9c\\x9e\\x12\\xf7\\xafP\\x0bX]\\xd4\\xcd\\x1b.\\x0bQ\\x0bXS\\xd4\\x9f\\x8b\\xfbW\\xa8\\x05\\xdcQ\\xd4c\\xf4\\xb6\\xb2j\\x01w\\x16\\xf5,\\xbd\\xc1\\xbcvc\\xe5\\x94R\\xef\\xd9\\xbc\\xee\\xfb\\xf5vq\\x82\\x1c\\xf9\\xa5\\xf0\\xfdE\\xfd\\xcf.u\\x82\\x1c\\xb9\\x80\\x87\\xcb\\x81\\x8f\\xbeTG\\xc8\\x90\\x0bx\\xa4\\x1ay\\xedx5\\xf4g\\xb9\\t{\\xe7\\x90\\x0bx\\xac\\x1a\\xb9\\xf8\\xd4g\\xf9\\xc0\\xc4\\x17\\xdd\\xbag\\x85r\\x01\\xc3\\xf5c\\xc0K\\xafl\\xb9~Opa\\xf4\\x85\\x89\\x17{uy\\xe4\\xef\\x02i\\xf3\\xc9\\xa6\\xd1\\xa1g6\\x0et\\xfd=39~\\xf2\\xd9\\x83\\x03M?\\xd0)\\xf4\\xbf\\x9d\\x1ci\\x14p\\xe2\\xc4\\xfc\\xd7\\xdeC\\xaf+\\xc3\\x10O\\x84\\xb6,up\\xe4G\\xf1\\xeb\\x07\\x04l\\xda\\xd8\\xf6P\\xdf\\xe8Ww\\t\\x93\\xa4\\x94\\x90g\\x82\\xef\\xb4;\\xf0\\xd2\\xa4\\xfa\\x9f?\\x11\\'\\xc1te\\xf0\\xb7\\xa6\\xe1\\xb5\\x1f\\x8e\\xa8\\x93\\xa4\\x84\\xcc\\x80\\xae\\x03\\r\\x83\\xdd\\xefO \\xaf\\x1fy,\\xfe\\xf4\\xcer\\xa4\\xb5\\xed\\xa7\\x0f\\xa0\\xffw\\rX\\x02)\\xcd\\xbd\\xfd\\xf1\\xe2\\xb2\\xeb\\xd5w\\xd7\\x03)\\xe6A\\x04\\xa4\\xf4\\xe9\\xae\\xa9\\x85o\\xd7\\xbf\\xfc\\xc6=H\\x86y \\x01\\xe9\\xea\\xb1\\xb1\\x9f/\\xf4\\xac\\xbew\\xc3\\xd0\\x03L\\x80\\x05(\\x017\\x0c\\xf8\\x96\\x964\\x16@\\x07\\xa0\\xb1\\x00:\\x00\\x8d\\x05\\xd0\\x01h,\\x80\\x0e@c\\x01t\\x00\\x1a\\x0b\\xa0\\x03\\xd0X\\x00\\x1d\\x80\\xc6\\x02\\xe8\\x004\\x16@\\x07\\xa0\\xb1\\x00:\\x00\\x8d\\x05\\xd0\\x01h,\\x80\\x0e@c\\x01t\\x00\\x1a\\x0b\\xa0\\x03\\xd0X\\x00\\x1d\\x80\\xc6\\x02\\xe8\\x004\\x16@\\x07\\xa0\\xb1\\x00:\\x00\\x8d\\x05\\xd0\\x01h,\\x80\\x0e@c\\x01t\\x00\\x1a\\x0b\\xa0\\x03\\xd0X\\x00\\x1d\\x80\\xc6\\x02\\xe8\\x004\\x16@\\x07\\xa0\\xb1\\x00:\\x00\\x8d\\x05\\xd0\\x01h,\\x80\\x0e@c\\x01t\\x00\\x1a\\x0b\\xa0\\x03\\xd0X\\x00\\x1d\\x80\\xc6\\x02\\xe8\\x004\\x16@\\x07\\xa0\\xb1\\x00:\\x00\\x8d\\x05\\xd0\\x01h,\\x80\\x0e@c\\x01t\\x00\\x1a\\x0b\\xa0\\x03\\xd0X\\x00\\x1d\\x80\\xc6\\x02\\xe8\\x004\\x16@\\x07\\xa0\\xb1\\x00:\\x00\\x8d\\x05\\xd0\\x01h\\xc2\\x0b\\xf8\\x0f\\x95\\xc8\\xc9S\\xbeM_K\\x00\\x00\\x00\\x00IEND\\xaeB`\\x82')"
      ]
     },
     "execution_count": 31,
     "metadata": {},
     "output_type": "execute_result"
    }
   ],
   "source": [
    "sample.examples[0] # (파일명, byte) 형태"
   ]
  },
  {
   "cell_type": "code",
   "execution_count": 32,
   "metadata": {},
   "outputs": [],
   "source": [
    "import io\n",
    "\n",
    "sample_img = sample.examples[1][1]\n",
    "img = Image.open(io.BytesIO(sample_img))"
   ]
  },
  {
   "cell_type": "code",
   "execution_count": 33,
   "metadata": {},
   "outputs": [
    {
     "data": {
      "image/png": "[encoded data removed]",
      "text/plain": [
       "<Figure size 432x288 with 1 Axes>"
      ]
     },
     "metadata": {
      "needs_background": "light"
     },
     "output_type": "display_data"
    }
   ],
   "source": [
    "plt.imshow(img, cmap='gray')\n",
    "plt.show()"
   ]
  },
  {
   "cell_type": "markdown",
   "metadata": {},
   "source": [
    "### 샘플 출력 (Handwriting)"
   ]
  },
  {
   "cell_type": "code",
   "execution_count": 34,
   "metadata": {},
   "outputs": [
    {
     "data": {
      "image/png": "[encoded data removed]",
      "text/plain": [
       "<Figure size 864x504 with 32 Axes>"
      ]
     },
     "metadata": {
      "needs_background": "light"
     },
     "output_type": "display_data"
    }
   ],
   "source": [
    "plt.figure(figsize=(12, 7))\n",
    "for idx, image in enumerate(sample.examples[:32]):\n",
    "    plt.subplot(4, 8, idx+1)\n",
    "    plt.imshow(Image.open(io.BytesIO(sample.examples[idx][1])), cmap='gray')\n",
    "plt.show()"
   ]
  },
  {
   "cell_type": "code",
   "execution_count": null,
   "metadata": {},
   "outputs": [],
   "source": []
  }
 ],
 "metadata": {
  "kernelspec": {
   "display_name": "Python 3",
   "language": "python",
   "name": "python3"
  },
  "language_info": {
   "codemirror_mode": {
    "name": "ipython",
    "version": 3
   },
   "file_extension": ".py",
   "mimetype": "text/x-python",
   "name": "python",
   "nbconvert_exporter": "python",
   "pygments_lexer": "ipython3",
   "version": "3.7.3"
  }
 },
 "nbformat": 4,
 "nbformat_minor": 4
}
