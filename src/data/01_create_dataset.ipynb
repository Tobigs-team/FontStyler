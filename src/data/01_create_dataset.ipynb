{
 "cells": [
  {
   "cell_type": "markdown",
   "metadata": {},
   "source": [
    "# Generate Font Data"
   ]
  },
  {
   "cell_type": "markdown",
   "metadata": {},
   "source": [
    "### 폰트 경로 확인"
   ]
  },
  {
   "cell_type": "code",
   "execution_count": 28,
   "metadata": {},
   "outputs": [],
   "source": [
    "import os\n",
    "import shutil\n",
    "from tqdm import tqdm"
   ]
  },
  {
   "cell_type": "code",
   "execution_count": 4,
   "metadata": {},
   "outputs": [
    {
     "data": {
      "text/plain": [
       "['Monospace',\n",
       " 'Serif',\n",
       " '.DS_Store',\n",
       " 'Handwriting',\n",
       " 'Sans Serif',\n",
       " 'README.md',\n",
       " '.gitignore',\n",
       " '.ipynb_checkpoints',\n",
       " 'Display']"
      ]
     },
     "execution_count": 4,
     "metadata": {},
     "output_type": "execute_result"
    }
   ],
   "source": [
    "# check path\n",
    "path = '/Users/youngerous/Desktop/git repos/FontStyler/src/data/fonts/'\n",
    "os.listdir(path)"
   ]
  },
  {
   "cell_type": "code",
   "execution_count": 5,
   "metadata": {},
   "outputs": [],
   "source": [
    "# font storage\n",
    "dict_font = {\n",
    "    'Serif': [],\n",
    "    'Sans Serif': [],\n",
    "    'Display': [],\n",
    "    'Handwriting': [],\n",
    "    'Monospace': []\n",
    "}\n",
    "\n",
    "save_path = '/Users/youngerous/Desktop/git repos/FontStyler/src/data/selected/'"
   ]
  },
  {
   "cell_type": "markdown",
   "metadata": {},
   "source": [
    "### Regular Font 추출"
   ]
  },
  {
   "cell_type": "code",
   "execution_count": 9,
   "metadata": {},
   "outputs": [
    {
     "name": "stderr",
     "output_type": "stream",
     "text": [
      "100%|██████████| 5/5 [00:01<00:00,  3.38it/s]\n"
     ]
    }
   ],
   "source": [
    "categories = ['Serif', 'Sans Serif', 'Display', 'Handwriting', 'Monospace']\n",
    "exclude = ['.DS_Store', '.ipynb_checkpoints' ]\n",
    "\n",
    "for category in tqdm(categories):\n",
    "    ## 각 카테고리 접근\n",
    "    style_dir = path + category + '/'\n",
    "    for files in os.listdir(style_dir):\n",
    "        if (files in exclude) or ('.zip' in files):\n",
    "            continue\n",
    "\n",
    "        ## 4개씩 분할된 폴더 접근\n",
    "        file_dir = style_dir + files + '/'\n",
    "        for fontfolder in os.listdir(file_dir):\n",
    "            if fontfolder in exclude:\n",
    "                continue\n",
    "\n",
    "            ## 세부 폰트 파일 접근\n",
    "            font_dir = file_dir + fontfolder + '/'\n",
    "            for font in os.listdir(font_dir):\n",
    "                if 'Regular' in font:\n",
    "                    dict_font[category].append(font)\n",
    "                    shutil.copy(font_dir+font, save_path + category +'/'+font)"
   ]
  },
  {
   "cell_type": "code",
   "execution_count": 10,
   "metadata": {},
   "outputs": [
    {
     "name": "stdout",
     "output_type": "stream",
     "text": [
      "182\n",
      "263\n",
      "285\n",
      "140\n",
      "19\n"
     ]
    }
   ],
   "source": [
    "print(len(dict_font['Serif']))\n",
    "print(len(dict_font['Sans Serif']))\n",
    "print(len(dict_font['Display']))\n",
    "print(len(dict_font['Handwriting']))\n",
    "print(len(dict_font['Monospace']))"
   ]
  },
  {
   "cell_type": "code",
   "execution_count": 11,
   "metadata": {},
   "outputs": [],
   "source": [
    "from PIL import Image,ImageDraw,ImageFont"
   ]
  },
  {
   "cell_type": "code",
   "execution_count": 30,
   "metadata": {},
   "outputs": [],
   "source": [
    "# user settings\n",
    "words = [chr(i) for i in range(ord('a'),ord('z')+1)] + [chr(i) for i in range(ord('A'), ord('Z')+1)]\n",
    "canvas_size = 256"
   ]
  },
  {
   "cell_type": "code",
   "execution_count": 31,
   "metadata": {},
   "outputs": [],
   "source": [
    "def save_font_word(word, canvas_size, font_style, file_name, cate):\n",
    "    canvas = Image.new('L', (canvas_size, canvas_size), color=255)\n",
    "    draw = ImageDraw.Draw(canvas)\n",
    "    \n",
    "    font_style = './selected/'+ cate + '/' + font_style\n",
    "    try:\n",
    "        font = ImageFont.truetype(font_style, size=150)\n",
    "        w, h = draw.textsize(word, font=font)    \n",
    "        draw.text(((canvas_size-w)/2,(canvas_size-h)/5), word, fill=(0), font=font)\n",
    "\n",
    "        canvas.save(file_name, \"PNG\")\n",
    "    except Exception as e:\n",
    "        print(font_style + '(' + word + ')' + ' : ' + str(e))"
   ]
  },
  {
   "cell_type": "markdown",
   "metadata": {},
   "source": [
    "### 폰트 이미지 수집 코드"
   ]
  },
  {
   "cell_type": "code",
   "execution_count": 35,
   "metadata": {},
   "outputs": [],
   "source": [
    "# Serif (0)\n",
    "for (idx,style) in enumerate(dict_font['Serif']):\n",
    "    for (jdx,word) in enumerate(words):\n",
    "        filename = './img/0/0_{}_{}.png'.format(idx, jdx)\n",
    "        save_font_word(word, canvas_size, style, filename, 'Serif')"
   ]
  },
  {
   "cell_type": "code",
   "execution_count": 37,
   "metadata": {},
   "outputs": [],
   "source": [
    "# Sans Serif (1)\n",
    "for (idx,style) in enumerate(dict_font['Sans Serif']):\n",
    "    for (jdx,word) in enumerate(words):\n",
    "        filename = './img/1/1_{}_{}.png'.format(idx, jdx)\n",
    "        save_font_word(word, canvas_size, style, filename, 'Sans Serif')"
   ]
  },
  {
   "cell_type": "code",
   "execution_count": 47,
   "metadata": {},
   "outputs": [
    {
     "name": "stdout",
     "output_type": "stream",
     "text": [
      "./selected/Display/KumarOneOutline-Regular.ttf(a) : execution context too long\n",
      "./selected/Display/KumarOneOutline-Regular.ttf(b) : execution context too long\n",
      "./selected/Display/KumarOneOutline-Regular.ttf(c) : execution context too long\n",
      "./selected/Display/KumarOneOutline-Regular.ttf(d) : execution context too long\n",
      "./selected/Display/KumarOneOutline-Regular.ttf(e) : execution context too long\n",
      "./selected/Display/KumarOneOutline-Regular.ttf(f) : execution context too long\n",
      "./selected/Display/KumarOneOutline-Regular.ttf(g) : execution context too long\n",
      "./selected/Display/KumarOneOutline-Regular.ttf(h) : execution context too long\n",
      "./selected/Display/KumarOneOutline-Regular.ttf(i) : execution context too long\n",
      "./selected/Display/KumarOneOutline-Regular.ttf(j) : execution context too long\n",
      "./selected/Display/KumarOneOutline-Regular.ttf(k) : execution context too long\n",
      "./selected/Display/KumarOneOutline-Regular.ttf(l) : execution context too long\n",
      "./selected/Display/KumarOneOutline-Regular.ttf(m) : execution context too long\n",
      "./selected/Display/KumarOneOutline-Regular.ttf(n) : execution context too long\n",
      "./selected/Display/KumarOneOutline-Regular.ttf(o) : execution context too long\n",
      "./selected/Display/KumarOneOutline-Regular.ttf(p) : execution context too long\n",
      "./selected/Display/KumarOneOutline-Regular.ttf(q) : execution context too long\n",
      "./selected/Display/KumarOneOutline-Regular.ttf(r) : execution context too long\n",
      "./selected/Display/KumarOneOutline-Regular.ttf(s) : execution context too long\n",
      "./selected/Display/KumarOneOutline-Regular.ttf(t) : execution context too long\n",
      "./selected/Display/KumarOneOutline-Regular.ttf(u) : execution context too long\n",
      "./selected/Display/KumarOneOutline-Regular.ttf(v) : execution context too long\n",
      "./selected/Display/KumarOneOutline-Regular.ttf(w) : execution context too long\n",
      "./selected/Display/KumarOneOutline-Regular.ttf(x) : execution context too long\n",
      "./selected/Display/KumarOneOutline-Regular.ttf(y) : execution context too long\n",
      "./selected/Display/KumarOneOutline-Regular.ttf(z) : execution context too long\n",
      "./selected/Display/KumarOneOutline-Regular.ttf(A) : execution context too long\n",
      "./selected/Display/KumarOneOutline-Regular.ttf(B) : execution context too long\n",
      "./selected/Display/KumarOneOutline-Regular.ttf(C) : execution context too long\n",
      "./selected/Display/KumarOneOutline-Regular.ttf(D) : execution context too long\n",
      "./selected/Display/KumarOneOutline-Regular.ttf(E) : execution context too long\n",
      "./selected/Display/KumarOneOutline-Regular.ttf(F) : execution context too long\n",
      "./selected/Display/KumarOneOutline-Regular.ttf(G) : execution context too long\n",
      "./selected/Display/KumarOneOutline-Regular.ttf(H) : execution context too long\n",
      "./selected/Display/KumarOneOutline-Regular.ttf(I) : execution context too long\n",
      "./selected/Display/KumarOneOutline-Regular.ttf(J) : execution context too long\n",
      "./selected/Display/KumarOneOutline-Regular.ttf(K) : execution context too long\n",
      "./selected/Display/KumarOneOutline-Regular.ttf(L) : execution context too long\n",
      "./selected/Display/KumarOneOutline-Regular.ttf(M) : execution context too long\n",
      "./selected/Display/KumarOneOutline-Regular.ttf(N) : execution context too long\n",
      "./selected/Display/KumarOneOutline-Regular.ttf(O) : execution context too long\n",
      "./selected/Display/KumarOneOutline-Regular.ttf(P) : execution context too long\n",
      "./selected/Display/KumarOneOutline-Regular.ttf(Q) : execution context too long\n",
      "./selected/Display/KumarOneOutline-Regular.ttf(R) : execution context too long\n",
      "./selected/Display/KumarOneOutline-Regular.ttf(S) : execution context too long\n",
      "./selected/Display/KumarOneOutline-Regular.ttf(T) : execution context too long\n",
      "./selected/Display/KumarOneOutline-Regular.ttf(U) : execution context too long\n",
      "./selected/Display/KumarOneOutline-Regular.ttf(V) : execution context too long\n",
      "./selected/Display/KumarOneOutline-Regular.ttf(W) : execution context too long\n",
      "./selected/Display/KumarOneOutline-Regular.ttf(X) : execution context too long\n",
      "./selected/Display/KumarOneOutline-Regular.ttf(Y) : execution context too long\n",
      "./selected/Display/KumarOneOutline-Regular.ttf(Z) : execution context too long\n",
      "./selected/Display/KumarOne-Regular.ttf(a) : execution context too long\n",
      "./selected/Display/KumarOne-Regular.ttf(b) : execution context too long\n",
      "./selected/Display/KumarOne-Regular.ttf(c) : execution context too long\n",
      "./selected/Display/KumarOne-Regular.ttf(d) : execution context too long\n",
      "./selected/Display/KumarOne-Regular.ttf(e) : execution context too long\n",
      "./selected/Display/KumarOne-Regular.ttf(f) : execution context too long\n",
      "./selected/Display/KumarOne-Regular.ttf(g) : execution context too long\n",
      "./selected/Display/KumarOne-Regular.ttf(h) : execution context too long\n",
      "./selected/Display/KumarOne-Regular.ttf(i) : execution context too long\n",
      "./selected/Display/KumarOne-Regular.ttf(j) : execution context too long\n",
      "./selected/Display/KumarOne-Regular.ttf(k) : execution context too long\n",
      "./selected/Display/KumarOne-Regular.ttf(l) : execution context too long\n",
      "./selected/Display/KumarOne-Regular.ttf(m) : execution context too long\n",
      "./selected/Display/KumarOne-Regular.ttf(n) : execution context too long\n",
      "./selected/Display/KumarOne-Regular.ttf(o) : execution context too long\n",
      "./selected/Display/KumarOne-Regular.ttf(p) : execution context too long\n",
      "./selected/Display/KumarOne-Regular.ttf(q) : execution context too long\n",
      "./selected/Display/KumarOne-Regular.ttf(r) : execution context too long\n",
      "./selected/Display/KumarOne-Regular.ttf(s) : execution context too long\n",
      "./selected/Display/KumarOne-Regular.ttf(t) : execution context too long\n",
      "./selected/Display/KumarOne-Regular.ttf(u) : execution context too long\n",
      "./selected/Display/KumarOne-Regular.ttf(v) : execution context too long\n",
      "./selected/Display/KumarOne-Regular.ttf(w) : execution context too long\n",
      "./selected/Display/KumarOne-Regular.ttf(x) : execution context too long\n",
      "./selected/Display/KumarOne-Regular.ttf(y) : execution context too long\n",
      "./selected/Display/KumarOne-Regular.ttf(z) : execution context too long\n",
      "./selected/Display/KumarOne-Regular.ttf(A) : execution context too long\n",
      "./selected/Display/KumarOne-Regular.ttf(B) : execution context too long\n",
      "./selected/Display/KumarOne-Regular.ttf(C) : execution context too long\n",
      "./selected/Display/KumarOne-Regular.ttf(D) : execution context too long\n",
      "./selected/Display/KumarOne-Regular.ttf(E) : execution context too long\n",
      "./selected/Display/KumarOne-Regular.ttf(F) : execution context too long\n",
      "./selected/Display/KumarOne-Regular.ttf(G) : execution context too long\n",
      "./selected/Display/KumarOne-Regular.ttf(H) : execution context too long\n",
      "./selected/Display/KumarOne-Regular.ttf(I) : execution context too long\n",
      "./selected/Display/KumarOne-Regular.ttf(J) : execution context too long\n",
      "./selected/Display/KumarOne-Regular.ttf(K) : execution context too long\n",
      "./selected/Display/KumarOne-Regular.ttf(L) : execution context too long\n",
      "./selected/Display/KumarOne-Regular.ttf(M) : execution context too long\n",
      "./selected/Display/KumarOne-Regular.ttf(N) : execution context too long\n",
      "./selected/Display/KumarOne-Regular.ttf(O) : execution context too long\n",
      "./selected/Display/KumarOne-Regular.ttf(P) : execution context too long\n",
      "./selected/Display/KumarOne-Regular.ttf(Q) : execution context too long\n",
      "./selected/Display/KumarOne-Regular.ttf(R) : execution context too long\n",
      "./selected/Display/KumarOne-Regular.ttf(S) : execution context too long\n",
      "./selected/Display/KumarOne-Regular.ttf(T) : execution context too long\n",
      "./selected/Display/KumarOne-Regular.ttf(U) : execution context too long\n",
      "./selected/Display/KumarOne-Regular.ttf(V) : execution context too long\n",
      "./selected/Display/KumarOne-Regular.ttf(W) : execution context too long\n",
      "./selected/Display/KumarOne-Regular.ttf(X) : execution context too long\n",
      "./selected/Display/KumarOne-Regular.ttf(Y) : execution context too long\n",
      "./selected/Display/KumarOne-Regular.ttf(Z) : execution context too long\n"
     ]
    }
   ],
   "source": [
    "# Display (2)\n",
    "for (idx,style) in enumerate(dict_font['Display']):\n",
    "    for (jdx,word) in enumerate(words):\n",
    "        filename = './img/2/2_{}_{}.png'.format(idx, jdx)\n",
    "        save_font_word(word, canvas_size, style, filename, 'Display')"
   ]
  },
  {
   "cell_type": "markdown",
   "metadata": {},
   "source": [
    "> 카테고리 2(Display)에서 2개의 폰트 배제"
   ]
  },
  {
   "cell_type": "code",
   "execution_count": 48,
   "metadata": {},
   "outputs": [],
   "source": [
    "# Handwriting (3)\n",
    "for (idx,style) in enumerate(dict_font['Handwriting']):\n",
    "    for (jdx,word) in enumerate(words):\n",
    "        filename = './img/3/3_{}_{}.png'.format(idx, jdx)\n",
    "        save_font_word(word, canvas_size, style, filename, 'Handwriting')"
   ]
  },
  {
   "cell_type": "code",
   "execution_count": 32,
   "metadata": {},
   "outputs": [],
   "source": [
    "# Monospace (4)\n",
    "for (idx,style) in enumerate(dict_font['Monospace']):\n",
    "    for (jdx,word) in enumerate(words):\n",
    "        filename = './img/4/4_{}_{}.png'.format(idx, jdx)\n",
    "        save_font_word(word, canvas_size, style, filename, 'Monospace')"
   ]
  },
  {
   "cell_type": "markdown",
   "metadata": {},
   "source": [
    "#### 각 카테고리별 폰트 개수 최종 확인\n",
    "카테고리 폴더마다 readme를 추가하였으므로 이를 고려"
   ]
  },
  {
   "cell_type": "code",
   "execution_count": 13,
   "metadata": {},
   "outputs": [
    {
     "name": "stdout",
     "output_type": "stream",
     "text": [
      "카테고리 0 폰트 갯수:  182.0\n",
      "카테고리 1 폰트 갯수:  263.0\n",
      "카테고리 2 폰트 갯수:  283.0192307692308\n",
      "카테고리 3 폰트 갯수:  140.0\n",
      "카테고리 4 폰트 갯수:  19.0\n"
     ]
    }
   ],
   "source": [
    "print( '카테고리 0 폰트 갯수: ', (len(os.listdir('./img/0'))-1) / 52 )\n",
    "print( '카테고리 1 폰트 갯수: ', (len(os.listdir('./img/1'))-1) / 52 )\n",
    "print( '카테고리 2 폰트 갯수: ', (len(os.listdir('./img/2'))-1) / 52 )\n",
    "print( '카테고리 3 폰트 갯수: ', (len(os.listdir('./img/3'))-1) / 52 )\n",
    "print( '카테고리 4 폰트 갯수: ', (len(os.listdir('./img/4'))-1) / 52 )"
   ]
  },
  {
   "cell_type": "markdown",
   "metadata": {},
   "source": [
    "카테고리 2는 왜 숫자가 딱 안떨어지지?"
   ]
  },
  {
   "cell_type": "code",
   "execution_count": 18,
   "metadata": {},
   "outputs": [
    {
     "name": "stdout",
     "output_type": "stream",
     "text": [
      ".DS_Store\n",
      "readme.md\n"
     ]
    }
   ],
   "source": [
    "import re\n",
    "\n",
    "p = re.compile('(\\d+[_]\\d+[_]\\d+)')\n",
    "for filename in os.listdir('./img/2'):\n",
    "    if p.search(filename):\n",
    "        pass\n",
    "    else:\n",
    "        print(filename)"
   ]
  },
  {
   "cell_type": "markdown",
   "metadata": {},
   "source": [
    "애증의 ds store... **카테고리 2**에서만 두 개를 빼 주고 폰트 갯수를 다시 정리한다.\n"
   ]
  },
  {
   "cell_type": "code",
   "execution_count": 19,
   "metadata": {},
   "outputs": [
    {
     "name": "stdout",
     "output_type": "stream",
     "text": [
      "카테고리 0 폰트 갯수:  182.0\n",
      "카테고리 1 폰트 갯수:  263.0\n",
      "카테고리 2 폰트 갯수:  283.0\n",
      "카테고리 3 폰트 갯수:  140.0\n",
      "카테고리 4 폰트 갯수:  19.0\n"
     ]
    }
   ],
   "source": [
    "print( '카테고리 0 폰트 갯수: ', (len(os.listdir('./img/0'))-1) / 52 )\n",
    "print( '카테고리 1 폰트 갯수: ', (len(os.listdir('./img/1'))-1) / 52 )\n",
    "print( '카테고리 2 폰트 갯수: ', (len(os.listdir('./img/2'))-2) / 52 )\n",
    "print( '카테고리 3 폰트 갯수: ', (len(os.listdir('./img/3'))-1) / 52 )\n",
    "print( '카테고리 4 폰트 갯수: ', (len(os.listdir('./img/4'))-1) / 52 )"
   ]
  },
  {
   "cell_type": "markdown",
   "metadata": {},
   "source": [
    "### 이미지를 obj 확장자로 변환\n",
    "\n",
    "#### 두 가지 버전을 만들 예정\n",
    "1. train/val split을 하지 않은 **전체 obj 파일**\n",
    "    => 추후 비율 조절을 쉽게 하기 위함\n",
    "2. 만약의 상황을 대비하여 **train/val split(0.1)을 실행**한 obj 파일"
   ]
  },
  {
   "cell_type": "code",
   "execution_count": 39,
   "metadata": {},
   "outputs": [],
   "source": [
    "# -*- coding: utf-8 -*-\n",
    "from __future__ import print_function\n",
    "from __future__ import absolute_import\n",
    "\n",
    "import argparse\n",
    "import glob\n",
    "import os\n",
    "import pickle as pickle\n",
    "import random\n",
    "\n",
    "# 각 카테고리 폴더마다 동작\n",
    "\n",
    "def pickle_examples_integrated(from_dir, train_path):\n",
    "    \"\"\"\n",
    "    Compile a list of examples into pickled format, so during\n",
    "    the training, all io will happen in memory\n",
    "    \"\"\"\n",
    "    paths = glob.glob(os.path.join(from_dir, '*.png')) # 카테고리 폴더 내 모든 png 파일\n",
    "    with open(train_path, 'wb') as ft:\n",
    "        train_count = 0\n",
    "        \n",
    "        for p in paths:\n",
    "            label = int(os.path.basename(p).split(\"_\")[0])\n",
    "            with open(p, 'rb') as f:\n",
    "                img_bytes = f.read()\n",
    "                r = random.random()\n",
    "                example = (label, img_bytes)\n",
    "                \n",
    "                pickle.dump(example, ft)\n",
    "                train_count += 1\n",
    "    print('{} imgs saved in train.obj, end'.format(train_count))\n",
    "    return\n",
    "\n",
    "def pickle_examples_separated(from_dir, train_path, val_path, train_val_split=0.1):\n",
    "    \"\"\"\n",
    "    Compile a list of examples into pickled format, so during\n",
    "    the training, all io will happen in memory\n",
    "    \"\"\"\n",
    "    paths = glob.glob(os.path.join(from_dir, '*.png'))\n",
    "    with open(train_path, 'wb') as ft:\n",
    "        with open(val_path, 'wb') as fv:\n",
    "            train_count, val_count = 0, 0\n",
    "            \n",
    "            for p in paths:\n",
    "                label = int(os.path.basename(p).split(\"_\")[0])\n",
    "                with open(p, 'rb') as f:\n",
    "                    img_bytes = f.read()\n",
    "                    r = random.random()\n",
    "                    example = (label, img_bytes)\n",
    "                    \n",
    "                    if r < train_val_split:\n",
    "                        pickle.dump(example, fv)\n",
    "                        val_count += 1\n",
    "                    else:\n",
    "                        pickle.dump(example, ft)\n",
    "                        train_count += 1\n",
    "    print('{} imgs saved in train.obj, end'.format(train_count))\n",
    "    print('{} imgs saved in val.obj, end'.format(val_count))\n",
    "    return"
   ]
  },
  {
   "cell_type": "markdown",
   "metadata": {},
   "source": [
    "#### Integrated 버전"
   ]
  },
  {
   "cell_type": "code",
   "execution_count": 36,
   "metadata": {},
   "outputs": [
    {
     "name": "stderr",
     "output_type": "stream",
     "text": [
      " 20%|██        | 1/5 [00:00<00:01,  2.40it/s]"
     ]
    },
    {
     "name": "stdout",
     "output_type": "stream",
     "text": [
      "9464 imgs saved in train.obj, end\n"
     ]
    },
    {
     "name": "stderr",
     "output_type": "stream",
     "text": [
      " 40%|████      | 2/5 [00:00<00:01,  2.19it/s]"
     ]
    },
    {
     "name": "stdout",
     "output_type": "stream",
     "text": [
      "13676 imgs saved in train.obj, end\n"
     ]
    },
    {
     "name": "stderr",
     "output_type": "stream",
     "text": [
      " 60%|██████    | 3/5 [00:01<00:00,  2.02it/s]"
     ]
    },
    {
     "name": "stdout",
     "output_type": "stream",
     "text": [
      "14716 imgs saved in train.obj, end\n"
     ]
    },
    {
     "name": "stderr",
     "output_type": "stream",
     "text": [
      "100%|██████████| 5/5 [00:01<00:00,  2.66it/s]"
     ]
    },
    {
     "name": "stdout",
     "output_type": "stream",
     "text": [
      "7280 imgs saved in train.obj, end\n",
      "988 imgs saved in train.obj, end\n"
     ]
    },
    {
     "name": "stderr",
     "output_type": "stream",
     "text": [
      "\n"
     ]
    }
   ],
   "source": [
    "save_dir_integrated = './dataset/integrated/'\n",
    "\n",
    "for i in tqdm(range(5)):\n",
    "    from_dir = './img/{}/'.format(str(i))\n",
    "    train_path = os.path.join(save_dir_integrated, 'train_{}.obj'.format(str(i)))\n",
    "    \n",
    "    pickle_examples_integrated(from_dir, train_path)"
   ]
  },
  {
   "cell_type": "markdown",
   "metadata": {},
   "source": [
    "#### Separated 버전"
   ]
  },
  {
   "cell_type": "code",
   "execution_count": 40,
   "metadata": {},
   "outputs": [
    {
     "name": "stderr",
     "output_type": "stream",
     "text": [
      " 20%|██        | 1/5 [00:00<00:02,  1.76it/s]"
     ]
    },
    {
     "name": "stdout",
     "output_type": "stream",
     "text": [
      "8521 imgs saved in train.obj, end\n",
      "943 imgs saved in val.obj, end\n"
     ]
    },
    {
     "name": "stderr",
     "output_type": "stream",
     "text": [
      " 40%|████      | 2/5 [00:01<00:01,  1.77it/s]"
     ]
    },
    {
     "name": "stdout",
     "output_type": "stream",
     "text": [
      "12293 imgs saved in train.obj, end\n",
      "1383 imgs saved in val.obj, end\n"
     ]
    },
    {
     "name": "stderr",
     "output_type": "stream",
     "text": [
      " 60%|██████    | 3/5 [00:01<00:01,  1.71it/s]"
     ]
    },
    {
     "name": "stdout",
     "output_type": "stream",
     "text": [
      "13219 imgs saved in train.obj, end\n",
      "1497 imgs saved in val.obj, end\n"
     ]
    },
    {
     "name": "stderr",
     "output_type": "stream",
     "text": [
      "100%|██████████| 5/5 [00:02<00:00,  2.39it/s]"
     ]
    },
    {
     "name": "stdout",
     "output_type": "stream",
     "text": [
      "6586 imgs saved in train.obj, end\n",
      "694 imgs saved in val.obj, end\n",
      "894 imgs saved in train.obj, end\n",
      "94 imgs saved in val.obj, end\n"
     ]
    },
    {
     "name": "stderr",
     "output_type": "stream",
     "text": [
      "\n"
     ]
    }
   ],
   "source": [
    "save_dir_separated = './dataset/separated/'\n",
    "\n",
    "for i in tqdm(range(5)):\n",
    "    from_dir = './img/{}/'.format(str(i))\n",
    "    train_path = os.path.join(save_dir_separated, 'train_{}.obj'.format(str(i)))\n",
    "    val_path = os.path.join(save_dir_separated, 'val_{}.obj'.format(str(i)))\n",
    "    \n",
    "    pickle_examples_separated(from_dir, train_path, val_path)"
   ]
  },
  {
   "cell_type": "code",
   "execution_count": null,
   "metadata": {},
   "outputs": [],
   "source": []
  }
 ],
 "metadata": {
  "kernelspec": {
   "display_name": "Python 3",
   "language": "python",
   "name": "python3"
  },
  "language_info": {
   "codemirror_mode": {
    "name": "ipython",
    "version": 3
   },
   "file_extension": ".py",
   "mimetype": "text/x-python",
   "name": "python",
   "nbconvert_exporter": "python",
   "pygments_lexer": "ipython3",
   "version": "3.7.3"
  }
 },
 "nbformat": 4,
 "nbformat_minor": 4
}
