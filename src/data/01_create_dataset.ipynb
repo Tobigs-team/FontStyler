{
 "cells": [
  {
   "cell_type": "markdown",
   "metadata": {},
   "source": [
    "# Create Dataset"
   ]
  },
  {
   "cell_type": "markdown",
   "metadata": {},
   "source": [
    "### 폰트 경로 확인"
   ]
  },
  {
   "cell_type": "code",
   "execution_count": 1,
   "metadata": {},
   "outputs": [],
   "source": [
    "import os\n",
    "import shutil\n",
    "from tqdm import tqdm\n",
    "\n",
    "from PIL import Image,ImageDraw,ImageFont\n",
    "import torch\n",
    "import matplotlib.pyplot as plt\n",
    "%matplotlib inline"
   ]
  },
  {
   "cell_type": "code",
   "execution_count": 42,
   "metadata": {},
   "outputs": [
    {
     "data": {
      "text/plain": [
       "['Monospace',\n",
       " 'Serif',\n",
       " 'Handwriting',\n",
       " 'Sans Serif',\n",
       " 'README.md',\n",
       " '.gitignore',\n",
       " '.ipynb_checkpoints',\n",
       " 'Display']"
      ]
     },
     "execution_count": 42,
     "metadata": {},
     "output_type": "execute_result"
    }
   ],
   "source": [
    "# check path\n",
    "path = '/Users/youngerous/Desktop/git repos/FontStyler/src/data/fonts/'\n",
    "os.listdir(path)"
   ]
  },
  {
   "cell_type": "code",
   "execution_count": 5,
   "metadata": {},
   "outputs": [],
   "source": [
    "# font storage\n",
    "dict_font = {\n",
    "    'Serif': [],\n",
    "    'Sans Serif': [],\n",
    "    'Display': [],\n",
    "    'Handwriting': [],\n",
    "    'Monospace': []\n",
    "}\n",
    "\n",
    "save_path = '/Users/youngerous/Desktop/git repos/FontStyler/src/data/selected/'"
   ]
  },
  {
   "cell_type": "markdown",
   "metadata": {},
   "source": [
    "### Regular Font 추출"
   ]
  },
  {
   "cell_type": "code",
   "execution_count": 9,
   "metadata": {},
   "outputs": [
    {
     "name": "stderr",
     "output_type": "stream",
     "text": [
      "100%|██████████| 5/5 [00:01<00:00,  3.38it/s]\n"
     ]
    }
   ],
   "source": [
    "categories = ['Serif', 'Sans Serif', 'Display', 'Handwriting', 'Monospace']\n",
    "exclude = ['.DS_Store', '.ipynb_checkpoints' ]\n",
    "\n",
    "for category in tqdm(categories):\n",
    "    ## 각 카테고리 접근\n",
    "    style_dir = path + category + '/'\n",
    "    for files in os.listdir(style_dir):\n",
    "        if (files in exclude) or ('.zip' in files):\n",
    "            continue\n",
    "\n",
    "        ## 4개씩 분할된 폴더 접근\n",
    "        file_dir = style_dir + files + '/'\n",
    "        for fontfolder in os.listdir(file_dir):\n",
    "            if fontfolder in exclude:\n",
    "                continue\n",
    "\n",
    "            ## 세부 폰트 파일 접근\n",
    "            font_dir = file_dir + fontfolder + '/'\n",
    "            for font in os.listdir(font_dir):\n",
    "                if 'Regular' in font:\n",
    "                    dict_font[category].append(font)\n",
    "                    shutil.copy(font_dir+font, save_path + category +'/'+font)"
   ]
  },
  {
   "cell_type": "code",
   "execution_count": 10,
   "metadata": {},
   "outputs": [
    {
     "name": "stdout",
     "output_type": "stream",
     "text": [
      "182\n",
      "263\n",
      "285\n",
      "140\n",
      "19\n"
     ]
    }
   ],
   "source": [
    "# 총 몇 개의 파일을 추출했는가\n",
    "print(len(dict_font['Serif']))\n",
    "print(len(dict_font['Sans Serif']))\n",
    "print(len(dict_font['Display']))\n",
    "print(len(dict_font['Handwriting']))\n",
    "print(len(dict_font['Monospace']))"
   ]
  },
  {
   "cell_type": "markdown",
   "metadata": {},
   "source": [
    "폰트마다, 그리고 알파벳마다 이미지를 수집해보자."
   ]
  },
  {
   "cell_type": "code",
   "execution_count": 30,
   "metadata": {},
   "outputs": [],
   "source": [
    "# user settings: 소문자 a~z, 대문자 A~Z 순\n",
    "words = [chr(i) for i in range(ord('a'),ord('z')+1)] + [chr(i) for i in range(ord('A'), ord('Z')+1)]\n",
    "canvas_size = 256"
   ]
  },
  {
   "cell_type": "code",
   "execution_count": 31,
   "metadata": {},
   "outputs": [],
   "source": [
    "def save_font_word(word, canvas_size, font_style, file_name, cate):\n",
    "    canvas = Image.new('L', (canvas_size, canvas_size), color=255)\n",
    "    draw = ImageDraw.Draw(canvas)\n",
    "    \n",
    "    font_style = './selected/'+ cate + '/' + font_style\n",
    "    try:\n",
    "        font = ImageFont.truetype(font_style, size=150)\n",
    "        w, h = draw.textsize(word, font=font)    \n",
    "        draw.text(((canvas_size-w)/2,(canvas_size-h)/5), word, fill=(0), font=font)\n",
    "\n",
    "        canvas.save(file_name, \"PNG\")\n",
    "    except Exception as e:\n",
    "        print(font_style + '(' + word + ')' + ' : ' + str(e))"
   ]
  },
  {
   "cell_type": "markdown",
   "metadata": {},
   "source": [
    "### 폰트 이미지 수집 코드"
   ]
  },
  {
   "cell_type": "code",
   "execution_count": 35,
   "metadata": {},
   "outputs": [],
   "source": [
    "# Serif (0)\n",
    "for (idx,style) in enumerate(dict_font['Serif']):\n",
    "    for (jdx,word) in enumerate(words):\n",
    "        filename = './img/0/0_{}_{}.png'.format(idx, jdx)\n",
    "        save_font_word(word, canvas_size, style, filename, 'Serif')"
   ]
  },
  {
   "cell_type": "code",
   "execution_count": 37,
   "metadata": {},
   "outputs": [],
   "source": [
    "# Sans Serif (1)\n",
    "for (idx,style) in enumerate(dict_font['Sans Serif']):\n",
    "    for (jdx,word) in enumerate(words):\n",
    "        filename = './img/1/1_{}_{}.png'.format(idx, jdx)\n",
    "        save_font_word(word, canvas_size, style, filename, 'Sans Serif')"
   ]
  },
  {
   "cell_type": "code",
   "execution_count": 47,
   "metadata": {},
   "outputs": [
    {
     "name": "stdout",
     "output_type": "stream",
     "text": [
      "./selected/Display/KumarOneOutline-Regular.ttf(a) : execution context too long\n",
      "./selected/Display/KumarOneOutline-Regular.ttf(b) : execution context too long\n",
      "./selected/Display/KumarOneOutline-Regular.ttf(c) : execution context too long\n",
      "./selected/Display/KumarOneOutline-Regular.ttf(d) : execution context too long\n",
      "./selected/Display/KumarOneOutline-Regular.ttf(e) : execution context too long\n",
      "./selected/Display/KumarOneOutline-Regular.ttf(f) : execution context too long\n",
      "./selected/Display/KumarOneOutline-Regular.ttf(g) : execution context too long\n",
      "./selected/Display/KumarOneOutline-Regular.ttf(h) : execution context too long\n",
      "./selected/Display/KumarOneOutline-Regular.ttf(i) : execution context too long\n",
      "./selected/Display/KumarOneOutline-Regular.ttf(j) : execution context too long\n",
      "./selected/Display/KumarOneOutline-Regular.ttf(k) : execution context too long\n",
      "./selected/Display/KumarOneOutline-Regular.ttf(l) : execution context too long\n",
      "./selected/Display/KumarOneOutline-Regular.ttf(m) : execution context too long\n",
      "./selected/Display/KumarOneOutline-Regular.ttf(n) : execution context too long\n",
      "./selected/Display/KumarOneOutline-Regular.ttf(o) : execution context too long\n",
      "./selected/Display/KumarOneOutline-Regular.ttf(p) : execution context too long\n",
      "./selected/Display/KumarOneOutline-Regular.ttf(q) : execution context too long\n",
      "./selected/Display/KumarOneOutline-Regular.ttf(r) : execution context too long\n",
      "./selected/Display/KumarOneOutline-Regular.ttf(s) : execution context too long\n",
      "./selected/Display/KumarOneOutline-Regular.ttf(t) : execution context too long\n",
      "./selected/Display/KumarOneOutline-Regular.ttf(u) : execution context too long\n",
      "./selected/Display/KumarOneOutline-Regular.ttf(v) : execution context too long\n",
      "./selected/Display/KumarOneOutline-Regular.ttf(w) : execution context too long\n",
      "./selected/Display/KumarOneOutline-Regular.ttf(x) : execution context too long\n",
      "./selected/Display/KumarOneOutline-Regular.ttf(y) : execution context too long\n",
      "./selected/Display/KumarOneOutline-Regular.ttf(z) : execution context too long\n",
      "./selected/Display/KumarOneOutline-Regular.ttf(A) : execution context too long\n",
      "./selected/Display/KumarOneOutline-Regular.ttf(B) : execution context too long\n",
      "./selected/Display/KumarOneOutline-Regular.ttf(C) : execution context too long\n",
      "./selected/Display/KumarOneOutline-Regular.ttf(D) : execution context too long\n",
      "./selected/Display/KumarOneOutline-Regular.ttf(E) : execution context too long\n",
      "./selected/Display/KumarOneOutline-Regular.ttf(F) : execution context too long\n",
      "./selected/Display/KumarOneOutline-Regular.ttf(G) : execution context too long\n",
      "./selected/Display/KumarOneOutline-Regular.ttf(H) : execution context too long\n",
      "./selected/Display/KumarOneOutline-Regular.ttf(I) : execution context too long\n",
      "./selected/Display/KumarOneOutline-Regular.ttf(J) : execution context too long\n",
      "./selected/Display/KumarOneOutline-Regular.ttf(K) : execution context too long\n",
      "./selected/Display/KumarOneOutline-Regular.ttf(L) : execution context too long\n",
      "./selected/Display/KumarOneOutline-Regular.ttf(M) : execution context too long\n",
      "./selected/Display/KumarOneOutline-Regular.ttf(N) : execution context too long\n",
      "./selected/Display/KumarOneOutline-Regular.ttf(O) : execution context too long\n",
      "./selected/Display/KumarOneOutline-Regular.ttf(P) : execution context too long\n",
      "./selected/Display/KumarOneOutline-Regular.ttf(Q) : execution context too long\n",
      "./selected/Display/KumarOneOutline-Regular.ttf(R) : execution context too long\n",
      "./selected/Display/KumarOneOutline-Regular.ttf(S) : execution context too long\n",
      "./selected/Display/KumarOneOutline-Regular.ttf(T) : execution context too long\n",
      "./selected/Display/KumarOneOutline-Regular.ttf(U) : execution context too long\n",
      "./selected/Display/KumarOneOutline-Regular.ttf(V) : execution context too long\n",
      "./selected/Display/KumarOneOutline-Regular.ttf(W) : execution context too long\n",
      "./selected/Display/KumarOneOutline-Regular.ttf(X) : execution context too long\n",
      "./selected/Display/KumarOneOutline-Regular.ttf(Y) : execution context too long\n",
      "./selected/Display/KumarOneOutline-Regular.ttf(Z) : execution context too long\n",
      "./selected/Display/KumarOne-Regular.ttf(a) : execution context too long\n",
      "./selected/Display/KumarOne-Regular.ttf(b) : execution context too long\n",
      "./selected/Display/KumarOne-Regular.ttf(c) : execution context too long\n",
      "./selected/Display/KumarOne-Regular.ttf(d) : execution context too long\n",
      "./selected/Display/KumarOne-Regular.ttf(e) : execution context too long\n",
      "./selected/Display/KumarOne-Regular.ttf(f) : execution context too long\n",
      "./selected/Display/KumarOne-Regular.ttf(g) : execution context too long\n",
      "./selected/Display/KumarOne-Regular.ttf(h) : execution context too long\n",
      "./selected/Display/KumarOne-Regular.ttf(i) : execution context too long\n",
      "./selected/Display/KumarOne-Regular.ttf(j) : execution context too long\n",
      "./selected/Display/KumarOne-Regular.ttf(k) : execution context too long\n",
      "./selected/Display/KumarOne-Regular.ttf(l) : execution context too long\n",
      "./selected/Display/KumarOne-Regular.ttf(m) : execution context too long\n",
      "./selected/Display/KumarOne-Regular.ttf(n) : execution context too long\n",
      "./selected/Display/KumarOne-Regular.ttf(o) : execution context too long\n",
      "./selected/Display/KumarOne-Regular.ttf(p) : execution context too long\n",
      "./selected/Display/KumarOne-Regular.ttf(q) : execution context too long\n",
      "./selected/Display/KumarOne-Regular.ttf(r) : execution context too long\n",
      "./selected/Display/KumarOne-Regular.ttf(s) : execution context too long\n",
      "./selected/Display/KumarOne-Regular.ttf(t) : execution context too long\n",
      "./selected/Display/KumarOne-Regular.ttf(u) : execution context too long\n",
      "./selected/Display/KumarOne-Regular.ttf(v) : execution context too long\n",
      "./selected/Display/KumarOne-Regular.ttf(w) : execution context too long\n",
      "./selected/Display/KumarOne-Regular.ttf(x) : execution context too long\n",
      "./selected/Display/KumarOne-Regular.ttf(y) : execution context too long\n",
      "./selected/Display/KumarOne-Regular.ttf(z) : execution context too long\n",
      "./selected/Display/KumarOne-Regular.ttf(A) : execution context too long\n",
      "./selected/Display/KumarOne-Regular.ttf(B) : execution context too long\n",
      "./selected/Display/KumarOne-Regular.ttf(C) : execution context too long\n",
      "./selected/Display/KumarOne-Regular.ttf(D) : execution context too long\n",
      "./selected/Display/KumarOne-Regular.ttf(E) : execution context too long\n",
      "./selected/Display/KumarOne-Regular.ttf(F) : execution context too long\n",
      "./selected/Display/KumarOne-Regular.ttf(G) : execution context too long\n",
      "./selected/Display/KumarOne-Regular.ttf(H) : execution context too long\n",
      "./selected/Display/KumarOne-Regular.ttf(I) : execution context too long\n",
      "./selected/Display/KumarOne-Regular.ttf(J) : execution context too long\n",
      "./selected/Display/KumarOne-Regular.ttf(K) : execution context too long\n",
      "./selected/Display/KumarOne-Regular.ttf(L) : execution context too long\n",
      "./selected/Display/KumarOne-Regular.ttf(M) : execution context too long\n",
      "./selected/Display/KumarOne-Regular.ttf(N) : execution context too long\n",
      "./selected/Display/KumarOne-Regular.ttf(O) : execution context too long\n",
      "./selected/Display/KumarOne-Regular.ttf(P) : execution context too long\n",
      "./selected/Display/KumarOne-Regular.ttf(Q) : execution context too long\n",
      "./selected/Display/KumarOne-Regular.ttf(R) : execution context too long\n",
      "./selected/Display/KumarOne-Regular.ttf(S) : execution context too long\n",
      "./selected/Display/KumarOne-Regular.ttf(T) : execution context too long\n",
      "./selected/Display/KumarOne-Regular.ttf(U) : execution context too long\n",
      "./selected/Display/KumarOne-Regular.ttf(V) : execution context too long\n",
      "./selected/Display/KumarOne-Regular.ttf(W) : execution context too long\n",
      "./selected/Display/KumarOne-Regular.ttf(X) : execution context too long\n",
      "./selected/Display/KumarOne-Regular.ttf(Y) : execution context too long\n",
      "./selected/Display/KumarOne-Regular.ttf(Z) : execution context too long\n"
     ]
    }
   ],
   "source": [
    "# Display (2)\n",
    "for (idx,style) in enumerate(dict_font['Display']):\n",
    "    for (jdx,word) in enumerate(words):\n",
    "        filename = './img/2/2_{}_{}.png'.format(idx, jdx)\n",
    "        save_font_word(word, canvas_size, style, filename, 'Display')"
   ]
  },
  {
   "cell_type": "markdown",
   "metadata": {},
   "source": [
    "> 카테고리 2(Display)에서 2개의 폰트 배제"
   ]
  },
  {
   "cell_type": "code",
   "execution_count": 48,
   "metadata": {},
   "outputs": [],
   "source": [
    "# Handwriting (3)\n",
    "for (idx,style) in enumerate(dict_font['Handwriting']):\n",
    "    for (jdx,word) in enumerate(words):\n",
    "        filename = './img/3/3_{}_{}.png'.format(idx, jdx)\n",
    "        save_font_word(word, canvas_size, style, filename, 'Handwriting')"
   ]
  },
  {
   "cell_type": "code",
   "execution_count": 32,
   "metadata": {},
   "outputs": [],
   "source": [
    "# Monospace (4)\n",
    "for (idx,style) in enumerate(dict_font['Monospace']):\n",
    "    for (jdx,word) in enumerate(words):\n",
    "        filename = './img/4/4_{}_{}.png'.format(idx, jdx)\n",
    "        save_font_word(word, canvas_size, style, filename, 'Monospace')"
   ]
  },
  {
   "cell_type": "markdown",
   "metadata": {},
   "source": [
    "#### 각 카테고리별 폰트 개수 최종 확인\n",
    "- 카테고리 2에서 두 개의 폰트를 배제했음을 고려\n",
    "- 카테고리 폴더마다 readme를 추가하였으므로 이를 고려"
   ]
  },
  {
   "cell_type": "code",
   "execution_count": 43,
   "metadata": {},
   "outputs": [
    {
     "name": "stdout",
     "output_type": "stream",
     "text": [
      "카테고리 0 폰트 갯수:  182.0\n",
      "카테고리 1 폰트 갯수:  263.0\n",
      "카테고리 2 폰트 갯수:  283.0\n",
      "카테고리 3 폰트 갯수:  140.0\n",
      "카테고리 4 폰트 갯수:  19.0\n"
     ]
    }
   ],
   "source": [
    "print( '카테고리 0 폰트 갯수: ', (len(os.listdir('./img/0'))-1) / 52 )\n",
    "print( '카테고리 1 폰트 갯수: ', (len(os.listdir('./img/1'))-1) / 52 )\n",
    "print( '카테고리 2 폰트 갯수: ', (len(os.listdir('./img/2'))-1) / 52 )\n",
    "print( '카테고리 3 폰트 갯수: ', (len(os.listdir('./img/3'))-1) / 52 )\n",
    "print( '카테고리 4 폰트 갯수: ', (len(os.listdir('./img/4'))-1) / 52 )"
   ]
  },
  {
   "cell_type": "markdown",
   "metadata": {},
   "source": [
    "---\n",
    "### 이미지를 obj 확장자로 변환 \n",
    "\n",
    "#### 두 가지 버전을 만들 예정\n",
    "1. train/val split을 하지 않은 **전체 obj 파일**\n",
    "    → 추후 비율 조절을 쉽게 하기 위함\n",
    "2. 만약의 상황을 대비하여 **train/val split(0.1)을 실행**한 obj 파일"
   ]
  },
  {
   "cell_type": "code",
   "execution_count": 28,
   "metadata": {},
   "outputs": [],
   "source": [
    "# -*- coding: utf-8 -*-\n",
    "from __future__ import print_function\n",
    "from __future__ import absolute_import\n",
    "\n",
    "import argparse\n",
    "import glob\n",
    "import os\n",
    "import pickle as pickle\n",
    "import random\n",
    "import torch\n",
    "\n",
    "def pickle_examples_integrated(from_dir, train_path):\n",
    "    \"\"\"\n",
    "    Compile a list of examples into pickled format, so during\n",
    "    the training, all io will happen in memory\n",
    "    \"\"\"\n",
    "    paths = glob.glob(os.path.join(from_dir, '*.png')) # 카테고리 폴더 내 모든 png 파일\n",
    "    with open(train_path, 'wb') as ft:\n",
    "        train_count = 0\n",
    "        \n",
    "        for p in paths:\n",
    "            label = os.path.basename(p) # 파일 이름을 저장(추후 DataSet에서 분리)\n",
    "            with open(p, 'rb') as f:\n",
    "                img_bytes = f.read()\n",
    "                r = random.random()\n",
    "                example = (label, img_bytes)\n",
    "                \n",
    "                # pickle.dump(example, ft)\n",
    "                torch.save(example, ft)\n",
    "                train_count += 1\n",
    "    print('{} imgs saved in train.obj, end'.format(train_count))\n",
    "    return\n",
    "\n",
    "def pickle_examples_separated(from_dir, train_path, val_path, train_val_split=0.1):\n",
    "    \"\"\"\n",
    "    Compile a list of examples into pickled format, so during\n",
    "    the training, all io will happen in memory\n",
    "    \"\"\"\n",
    "    paths = glob.glob(os.path.join(from_dir, '*.png'))\n",
    "    with open(train_path, 'wb') as ft:\n",
    "        with open(val_path, 'wb') as fv:\n",
    "            train_count, val_count = 0, 0\n",
    "            \n",
    "            for p in paths:\n",
    "                label = os.path.basename(p)\n",
    "                with open(p, 'rb') as f:\n",
    "                    img_bytes = f.read()\n",
    "                    r = random.random()\n",
    "                    example = (label, img_bytes)\n",
    "                    \n",
    "                    if r < train_val_split:\n",
    "                        # pickle.dump(example, fv)\n",
    "                        torch.save(example, fv)\n",
    "                        val_count += 1\n",
    "                    else:\n",
    "                        # pickle.dump(example, ft)\n",
    "                        torch.save(example, ft)\n",
    "                        train_count += 1\n",
    "    print('{} imgs saved in train.obj, end'.format(train_count))\n",
    "    print('{} imgs saved in val.obj, end'.format(val_count))\n",
    "    return"
   ]
  },
  {
   "cell_type": "markdown",
   "metadata": {},
   "source": [
    "#### Integrated 버전\n",
    "'integrated' 폴더에 'train_{카테고리}.obj' 파일이 생성된다."
   ]
  },
  {
   "cell_type": "code",
   "execution_count": 29,
   "metadata": {},
   "outputs": [
    {
     "name": "stderr",
     "output_type": "stream",
     "text": [
      " 20%|██        | 1/5 [00:03<00:12,  3.20s/it]"
     ]
    },
    {
     "name": "stdout",
     "output_type": "stream",
     "text": [
      "9464 imgs saved in train.obj, end\n"
     ]
    },
    {
     "name": "stderr",
     "output_type": "stream",
     "text": [
      " 40%|████      | 2/5 [00:07<00:10,  3.57s/it]"
     ]
    },
    {
     "name": "stdout",
     "output_type": "stream",
     "text": [
      "13676 imgs saved in train.obj, end\n"
     ]
    },
    {
     "name": "stderr",
     "output_type": "stream",
     "text": [
      " 60%|██████    | 3/5 [00:12<00:07,  3.94s/it]"
     ]
    },
    {
     "name": "stdout",
     "output_type": "stream",
     "text": [
      "14716 imgs saved in train.obj, end\n"
     ]
    },
    {
     "name": "stderr",
     "output_type": "stream",
     "text": [
      " 80%|████████  | 4/5 [00:14<00:03,  3.42s/it]"
     ]
    },
    {
     "name": "stdout",
     "output_type": "stream",
     "text": [
      "7280 imgs saved in train.obj, end\n"
     ]
    },
    {
     "name": "stderr",
     "output_type": "stream",
     "text": [
      "100%|██████████| 5/5 [00:14<00:00,  2.47s/it]"
     ]
    },
    {
     "name": "stdout",
     "output_type": "stream",
     "text": [
      "988 imgs saved in train.obj, end\n"
     ]
    },
    {
     "name": "stderr",
     "output_type": "stream",
     "text": [
      "\n"
     ]
    }
   ],
   "source": [
    "save_dir_integrated = './dataset/integrated/'\n",
    "\n",
    "for i in tqdm(range(5)):\n",
    "    from_dir = './img/{}/'.format(str(i))\n",
    "    train_path = os.path.join(save_dir_integrated, 'train_{}.obj'.format(str(i)))\n",
    "    \n",
    "    pickle_examples_integrated(from_dir, train_path)"
   ]
  },
  {
   "cell_type": "markdown",
   "metadata": {},
   "source": [
    "#### Separated 버전\n",
    "'separated' 폴더에 'train_{카테고리}.obj' 파일과 'val_{카테고리}.obj' 파일이 생성된다."
   ]
  },
  {
   "cell_type": "code",
   "execution_count": 30,
   "metadata": {},
   "outputs": [
    {
     "name": "stderr",
     "output_type": "stream",
     "text": [
      " 20%|██        | 1/5 [00:00<00:02,  1.43it/s]"
     ]
    },
    {
     "name": "stdout",
     "output_type": "stream",
     "text": [
      "8556 imgs saved in train.obj, end\n",
      "908 imgs saved in val.obj, end\n"
     ]
    },
    {
     "name": "stderr",
     "output_type": "stream",
     "text": [
      " 40%|████      | 2/5 [00:01<00:02,  1.24it/s]"
     ]
    },
    {
     "name": "stdout",
     "output_type": "stream",
     "text": [
      "12321 imgs saved in train.obj, end\n",
      "1355 imgs saved in val.obj, end\n"
     ]
    },
    {
     "name": "stderr",
     "output_type": "stream",
     "text": [
      " 60%|██████    | 3/5 [00:02<00:01,  1.12it/s]"
     ]
    },
    {
     "name": "stdout",
     "output_type": "stream",
     "text": [
      "13219 imgs saved in train.obj, end\n",
      "1497 imgs saved in val.obj, end\n"
     ]
    },
    {
     "name": "stderr",
     "output_type": "stream",
     "text": [
      "100%|██████████| 5/5 [00:03<00:00,  1.43it/s]"
     ]
    },
    {
     "name": "stdout",
     "output_type": "stream",
     "text": [
      "6604 imgs saved in train.obj, end\n",
      "676 imgs saved in val.obj, end\n",
      "884 imgs saved in train.obj, end\n",
      "104 imgs saved in val.obj, end\n"
     ]
    },
    {
     "name": "stderr",
     "output_type": "stream",
     "text": [
      "\n"
     ]
    }
   ],
   "source": [
    "save_dir_separated = './dataset/separated/'\n",
    "\n",
    "for i in tqdm(range(5)):\n",
    "    from_dir = './img/{}/'.format(str(i))\n",
    "    train_path = os.path.join(save_dir_separated, 'train_{}.obj'.format(str(i)))\n",
    "    val_path = os.path.join(save_dir_separated, 'val_{}.obj'.format(str(i)))\n",
    "    \n",
    "    pickle_examples_separated(from_dir, train_path, val_path)"
   ]
  },
  {
   "cell_type": "markdown",
   "metadata": {},
   "source": [
    "---\n",
    "obj 데이터가 잘 불러와지는 지 확인하자."
   ]
  },
  {
   "cell_type": "code",
   "execution_count": 31,
   "metadata": {},
   "outputs": [
    {
     "data": {
      "text/plain": [
       "['.DS_Store',\n",
       " 'train_1.obj',\n",
       " 'train_0.obj',\n",
       " 'train_2.obj',\n",
       " 'train_3.obj',\n",
       " 'train_4.obj']"
      ]
     },
     "execution_count": 31,
     "metadata": {},
     "output_type": "execute_result"
    }
   ],
   "source": [
    "example_dir = './dataset/integrated/'\n",
    "os.listdir(example_dir)"
   ]
  },
  {
   "cell_type": "code",
   "execution_count": 32,
   "metadata": {},
   "outputs": [],
   "source": [
    "from common.dataset import PickledImageProvider"
   ]
  },
  {
   "cell_type": "code",
   "execution_count": 33,
   "metadata": {},
   "outputs": [
    {
     "name": "stdout",
     "output_type": "stream",
     "text": [
      "processed 1000 examples\n",
      "processed 2000 examples\n",
      "processed 3000 examples\n",
      "processed 4000 examples\n",
      "processed 5000 examples\n",
      "processed 6000 examples\n",
      "processed 7000 examples\n",
      "processed 8000 examples\n",
      "processed 9000 examples\n",
      "processed 10000 examples\n",
      "processed 11000 examples\n",
      "processed 12000 examples\n",
      "processed 13000 examples\n",
      "processed 14000 examples\n",
      "processed 15000 examples\n",
      "processed 16000 examples\n",
      "processed 17000 examples\n",
      "processed 18000 examples\n",
      "processed 19000 examples\n",
      "processed 20000 examples\n",
      "processed 21000 examples\n",
      "processed 22000 examples\n",
      "processed 23000 examples\n",
      "processed 24000 examples\n",
      "processed 25000 examples\n",
      "processed 26000 examples\n",
      "processed 27000 examples\n",
      "processed 28000 examples\n",
      "processed 29000 examples\n",
      "processed 30000 examples\n",
      "processed 31000 examples\n",
      "processed 32000 examples\n",
      "processed 33000 examples\n",
      "processed 34000 examples\n",
      "processed 35000 examples\n",
      "processed 36000 examples\n",
      "unpickled total 36400 examples\n",
      "saved total 7280 examples only for byte\n"
     ]
    }
   ],
   "source": [
    "sample = PickledImageProvider(example_dir+'train_3.obj')"
   ]
  },
  {
   "cell_type": "code",
   "execution_count": 34,
   "metadata": {},
   "outputs": [
    {
     "data": {
      "text/plain": [
       "7280"
      ]
     },
     "execution_count": 34,
     "metadata": {},
     "output_type": "execute_result"
    }
   ],
   "source": [
    "len(sample.examples) "
   ]
  },
  {
   "cell_type": "code",
   "execution_count": 38,
   "metadata": {},
   "outputs": [
    {
     "data": {
      "text/plain": [
       "('3_31_11.png',\n",
       " b'\\x89PNG\\r\\n\\x1a\\n\\x00\\x00\\x00\\rIHDR\\x00\\x00\\x01\\x00\\x00\\x00\\x01\\x00\\x08\\x00\\x00\\x00\\x00y\\x19\\xf7\\xba\\x00\\x00\\x05\\xc9IDATx\\x9c\\xed\\x9d]h\\xd5u\\x18\\xc7\\x7f\\xc7\\xb4\\x95\\xa9[!HN\\x88\\x95$\\xa2\\xa9\\xc1nF\\x91\\x17\\x8d(\\xa2ZwA\\x17\\x13B\\x19\\x81\\x84P\\x17\\xa5\\x1b\\x85\\xdd\\xf4J\\xd0\\x0bDe\\t\\xb5 \\xb27\\xb0\\xe8FH{\\x15\\x07\\xa2\\xc1\\x88Y\\xa6I\\xaf\\x8b\\\\\\x8b5\\xdd\\xcb\\xe9\"\\xcd\\xd5\\xf3\\xfcv\\xceE\\xbf\\xef\\xf7\\xc0\\xf3\\xfd\\\\\\xed<\\xfb\\xc3\\xf3=\\x1f\\x9e\\xff\\x7f\\xff\\x97\\x9d\\xf3\\xabTSl\\xe6\\xb0\\x03\\xb0\\x91\\x00v\\x006\\x12\\xc0\\x0e\\xc0F\\x02\\xd8\\x01\\xd8H\\x00;\\x00\\x1b\\t`\\x07`#\\x01\\xec\\x00l$\\x80\\x1d\\x80\\x8d\\x04\\xb0\\x03\\xb0\\x91\\x00v\\x006\\x12\\xc0\\x0e\\xc0F\\x02\\xd8\\x01\\xd8H\\x00;\\x00\\x1b\\t`\\x07`#\\x01\\xec\\x00l$\\x80\\x1d\\x80\\x8d\\x04\\xb0\\x03\\xb0\\x91\\x00v\\x006\\x12\\xc0\\x0e\\xc0F\\x02\\xd8\\x01\\xd8H\\x00;\\x00\\x1b\\t`\\x07`#\\x01\\xec\\x00l$\\x80\\x1d\\x80\\x8d\\x04\\xb0\\x03\\xb0\\x99\\x8bmw\\xfa\\xe0\\xe0\\xf1\\x91\\xea\\xc5\\x97u,\\xc7\\xf6\\xcd\\x83\\x14\\xf0\\xdb\\xeb\\xef~t\\xea\\xcc\\xcf\\xed\\x0f\\xdc\\x0e\\xec<\\x0b\\x15\\xd8g\\x86\\xf6\\xbc\\xf4\\xd6\\xf8\\xcc\\xd7\\xdd/\\xccC\\xb5\\x9e\\r\\x90\\x80\\xea{\\xdb\\x07\\xfe[\\xeb\\xda\\xd5\\x08\\x07 L\\x86\\xddWw\\x99\\xf7\\x9f\\xde\\xe9\\x85\\xf4\\xae\\x01b\\x02\\x06\\xb7|\\xe8\\xd6\\xe7\\x0c\\xac+\\xdf\\xbc\\x16\\xe5\\'`\\xec\\xde5\\xfe\\xfbO\\xd3\\xf7\\x17o^\\x9b\\xe2\\x13\\xb0g\\xe37\\xf9\\xe6\\x83+\\nw\\xafM\\xe1\\t\\xf8\\xa3\\xa73\\xff\\xfeS\\xf5\\xed\\xb2\\xdd\\xeb\\xa1\\xac\\x80O\\xd7=?\\xeb\\x84}P\\xb4{]\\x94\\xdc\\x05&\\x1e|b\\xc5\\xda\\xd6\\xe6\\xb1\\xa3\\x9f\\x1c\\xcdl1\\xf7\\xd7E\\xe5\\xda\\xd7G\\xc13\\xc1#\\xfd\\xab~l\\xf9\\xfb\\xc7}\\xdb\\xf6\\xba\\x9bL\\x1e\\xbe\\xa6\\\\\\xff:\\xa9\\x96b\\xfc\\xc4\\x8c\\x17\\xd3\\x0f\\xf9\\xddw\\x16k_/\\xe5\\x8e\\x01M\\xad3^T\\xfa\\xb6\\xbb\\x1b}]\\xac}\\xbd\\xc0\\xceF\\xb7\\xde\\xe0U\\x8f\\xa1\\xdag\\x81\\t\\xa8<{\\x9eS=\\x89j\\x9f\\x05w=\\xb2\\xfcV\\xa7\\xf8;\\xac}\\x0e\\xe0\\x05\\xd9=Nm\\x04\\xd7>\\x03P\\xc0\\xfa6[\\xfb\\x13\\xd7>\\x03\\xf2\\x92\\xfcz[\\x9a\\x00\\xb6\\xf7\\x91\\x00`\\xaf\\xf5\\xb6\\xc4\\xff\\x12\\x1f\\xa4\\x80K\\x17\\x98\\x12\\xf8\\xa6\\xb4\\x03\\xf4\\xb6\\xdc\\xe5\\xa6\\x12L\\xc0\\x15\\xa6\\x12L\\xc0RS\\xe1\\xdf\\x19\\x87\\n\\x98o*\\xc1& \\xbc\\x80\\x8bL%\\xd8.p\\x81\\xa9\\x04\\x9b\\x00K0\\x01\\xf6\\xbcO\\x02\\x90\\xed]\\xc8\\x02\\x82\\x1d\\x04\\xa7M%\\xd8\\x04X\\x01\\xe1\\' \\xbc\\x80`\\xbb@\\xf8\\x83\\xe0\\xa4\\xa9H\\x00\\xb2\\xbd\\x0bT\\xc0\\x94\\xa9\\x04\\x13\\xa0\\t0\\x95`\\x02\\xecS\\x80`\\x02\\xc2\\xef\\x02\\xe1\\' \\xbc\\x00\\xbb\\x0b\\x04;\\x15>m*\\xc1& \\xfc.\\xa0\\t0\\x95`\\x02\\xec\\x04\\x04;\\x08j\\x02LE\\x02\\x90\\xed]\\xb4\\x0b \\x9bi\\x02L%\\x98\\x80S\\xa6\\x12\\xec\\xcf`\\xf8]@\\x02L%\\xd8.\\x10\\xfd 8\\x19\\xfd\\xd9\\xa0\\xdd\\x03\\x82M\\x80#@\\x13\\x00l\\xef\\xa3\\t\\x00\\xf6\\xb2\\x7f\\x04*\\xdeG\\xe9\\xb0p\\'\\x80?\\x00\\xe4\\t\\xe0\\x1f\\x024\\x01\\x9a\\x00`\\xafF\\xbc\\x16\"O@\\xb0] \\xfc\\x04\\xe8 h*\\x9a\\x00`\\xf7\\x0c\\x9a\\x00`/M\\x80\\xa9h\\x02\\x80\\xdd3\\xe8D\\x08\\xd8+\\xfc\\x89\\x90&\\xc0T\\x82\\t\\xd0\\x04\\x98J0\\x01\\xe1\\'\\xa0\\x11\\xffUXg\\x82\\x9a\\x00`\\xafF\\xfc\\xc0\\x88&@\\x13\\x00\\xec%\\x01\\xa6\\x12^\\xc0\\xf9\\xc0\\xee\\x19$\\x00\\xd8\\xcb~r6\\x98\\x00\\xfbObM\\xc0\\xee\\x19$\\x00\\xd8\\xab\\x11\\xbfA\\x83<\\x01\\r\\x00w\\x02\\xf8_*+\\x01\\xdc]`\\x0c\\xd8=\\x03w\\x02\\xf8_.O\\x160\\n\\xec\\x9e\\x81+`\\x18\\xd8=\\x03R@\\xc5T\\x8e\\x03\\xbbg@\\n\\xb0\\xf7\\x7f\\xbe\\x03v\\xcf\\xc0\\x15p\\x84\\xffw\\x90+`4\\xb7\\x04\\x15\\x0e\\xa4\\x00\\xe7\\xe2\\xf7 \\xb0\\xbd\\x0fR\\x80]^ }\\x0cl\\xef\\x83\\x14\\xb0\\xd0\\x96\\xf6\\x00\\xdb\\xfb \\x058+\\xcb\\x1d\\xfa\\x01\\xd8\\xdf\\x05)\\xa0\\xd9\\x96\\xaao\\x00\\xfb\\xbb \\x05,vj\\xfd\\xc0\\xfe.H\\x01v\\x81\\x89\\x94\\xf6\\xef\\x07\\x06\\xf0\\x80\\xae2\\xe3\\x15\\x1f\\x07\\x06\\xf0`O@z\\xf3s`\\x02\\x07\\xdc\\xda\\xe3)M\\xcc\\xb7\\x8fFRj\\xff\\x8c\\xfa\\x8c\\x189\\x01\\xf3\\xec2;)\\xa5\\x03[\\x81\\x11,\\xd0\\xef\\x0fX\\xe9V\\x1f\\xdb\\x91\\xd9|<S\\xff_\\x81\\nX\\xebV\\xab\\x9b^\\xf4\\xca\\xdf~\\t\\xf9\\\\-T@\\x87_\\x9e\\xdax\\xb7\\xb97v\\xe8\\xe1_VC\\x1e\\x9b \\x0f\\x82i\\xe4\\x92\\xdc\\xb3\\x91\\xd6m\\xdd\\x17\\x9e{5\\xbc\\xeb\\xb5\\xab\\x1e\\xb5k\\xf2\\x14\\x01* \\xb5\\x0fd\\x7f\\xd5rs\\xe7\\x9ae\\x8b\\xa6GO\\x0c\\r\\xec=\\xd0\\xba\\xa3\\x13\\x96\\t\\xba\\xcaqo}\\x996\\x9c\\xc4E\\xc2\\xae3tK=\\x1b-\\xdd\\xfd\\xb2s\\xd9T\\n\\xec.\\x90\\xae\\x1c\\xaa\\xb9I\\xf7S-\\xe5s\\x9c\\x03\\xbc\\xd2\\xd4\\x86Z\\x1b,{\\xff\\x95\\x96\\xf21f\\x00\\x9e\\x80\\x9f\\xdaf]h\\xb7\\xd2\\xf3\\x88s\\xdb\\xa8(\\xe0\\tX\\xd23\\xdboW\\xef{\\x0e\\xfd\\xfe\\xd1\\x13\\x90\\x86Wf\\x1f\\x87-\\xe8\\xdbB\\xb8,B\\xaf6\\xb7\\xf8\\xe9\\xdco\\xee\\xfc\\xea>\\xc6e!|\\xb9\\xbd;6\\xbb\\xe5\\xeb\\xbex\\xd5\\xbd]P\\x1c\\xf4.\\x90\\xd2\\xd4];M\\xad\\xa3\\xefFt\\x8c\\xb3\\xe0\\x05\\xa4\\xf4d\\xef\\xbf\\xfe3\\xa4\\xe9\\xb6\\xcd\\xd7\\xe2C\\x9c\\x85! }\\xffL\\xff\\xb13\\xed\\xdb\\xdao\\xeaj!D\\xf8\\x07\\x8a\\x80\\x94\\xd2\\xd0\\xe1\\x9f\\xab\\x0b\\x9b\\x97\\xac\\x02]\\xf3\\xe5a\\th\\x18\\xc8\\x8b\\xae\\xf2\\x91\\x00v\\x006\\x12\\xc0\\x0e\\xc0F\\x02\\xd8\\x01\\xd8H\\x00;\\x00\\x1b\\t`\\x07`#\\x01\\xec\\x00l$\\x80\\x1d\\x80\\x8d\\x04\\xb0\\x03\\xb0\\x91\\x00v\\x006\\x12\\xc0\\x0e\\xc0F\\x02\\xd8\\x01\\xd8H\\x00;\\x00\\x1b\\t`\\x07`#\\x01\\xec\\x00l$\\x80\\x1d\\x80\\x8d\\x04\\xb0\\x03\\xb0\\x91\\x00v\\x006\\x12\\xc0\\x0e\\xc0F\\x02\\xd8\\x01\\xd8H\\x00;\\x00\\x1b\\t`\\x07`#\\x01\\xec\\x00l$\\x80\\x1d\\x80\\x8d\\x04\\xb0\\x03\\xb0\\x91\\x00v\\x006\\x12\\xc0\\x0e\\xc0F\\x02\\xd8\\x01\\xd8H\\x00;\\x00\\x1b\\t`\\x07`\\xf3\\x170=\\xbel(\\x0bW\\x93\\x00\\x00\\x00\\x00IEND\\xaeB`\\x82')"
      ]
     },
     "execution_count": 38,
     "metadata": {},
     "output_type": "execute_result"
    }
   ],
   "source": [
    "sample.examples[0] # (파일명, byte) 형태"
   ]
  },
  {
   "cell_type": "code",
   "execution_count": 35,
   "metadata": {},
   "outputs": [],
   "source": [
    "import io\n",
    "\n",
    "sample_img = sample.examples[1][1]\n",
    "img = Image.open(io.BytesIO(sample_img))"
   ]
  },
  {
   "cell_type": "code",
   "execution_count": 36,
   "metadata": {},
   "outputs": [
    {
     "data": {
      "image/png": "[encoded data removed]",
      "text/plain": [
       "<Figure size 432x288 with 1 Axes>"
      ]
     },
     "metadata": {
      "needs_background": "light"
     },
     "output_type": "display_data"
    }
   ],
   "source": [
    "plt.imshow(img, cmap='gray')\n",
    "plt.show()"
   ]
  },
  {
   "cell_type": "markdown",
   "metadata": {},
   "source": [
    "### 샘플 출력 (Handwriting)"
   ]
  },
  {
   "cell_type": "code",
   "execution_count": 37,
   "metadata": {},
   "outputs": [
    {
     "data": {
      "image/png": "[encoded data removed]",
      "text/plain": [
       "<Figure size 864x504 with 32 Axes>"
      ]
     },
     "metadata": {
      "needs_background": "light"
     },
     "output_type": "display_data"
    }
   ],
   "source": [
    "plt.figure(figsize=(12, 7))\n",
    "for idx, image in enumerate(sample.examples[:32]):\n",
    "    plt.subplot(4, 8, idx+1)\n",
    "    plt.imshow(Image.open(io.BytesIO(sample.examples[idx][1])), cmap='gray')\n",
    "plt.show()"
   ]
  },
  {
   "cell_type": "code",
   "execution_count": null,
   "metadata": {},
   "outputs": [],
   "source": []
  }
 ],
 "metadata": {
  "kernelspec": {
   "display_name": "Python 3",
   "language": "python",
   "name": "python3"
  },
  "language_info": {
   "codemirror_mode": {
    "name": "ipython",
    "version": 3
   },
   "file_extension": ".py",
   "mimetype": "text/x-python",
   "name": "python",
   "nbconvert_exporter": "python",
   "pygments_lexer": "ipython3",
   "version": "3.7.3"
  }
 },
 "nbformat": 4,
 "nbformat_minor": 4
}
