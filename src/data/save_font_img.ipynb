{
 "cells": [
  {
   "cell_type": "markdown",
   "metadata": {},
   "source": [
    "# Generate Font Data"
   ]
  },
  {
   "cell_type": "markdown",
   "metadata": {},
   "source": [
    "### TODO\n",
    "- correctly centering words regardless of font-style"
   ]
  },
  {
   "cell_type": "code",
   "execution_count": 1,
   "metadata": {},
   "outputs": [],
   "source": [
    "from PIL import Image,ImageDraw,ImageFont"
   ]
  },
  {
   "cell_type": "code",
   "execution_count": 6,
   "metadata": {},
   "outputs": [],
   "source": [
    "# user settings\n",
    "words = [chr(i) for i in range(ord('a'),ord('z')+1)] + [chr(i) for i in range(ord('A'), ord('Z')+1)]\n",
    "canvas_size = 256\n",
    "\n",
    "category = ['Serif', 'Sans Serif', 'Display', 'Handwriting', 'Monospace']\n",
    "font_styles = ['./AmaticSC-Regular.ttf', './Mukta-Medium.ttf']"
   ]
  },
  {
   "cell_type": "code",
   "execution_count": 7,
   "metadata": {},
   "outputs": [],
   "source": [
    "def save_font_word(word, canvas_size, font_style, file_name):\n",
    "    canvas = Image.new('L', (canvas_size, canvas_size), color=255)\n",
    "    draw = ImageDraw.Draw(canvas)\n",
    "    \n",
    "    font = ImageFont.truetype(font_style, size=150)\n",
    "    w, h = draw.textsize(word, font=font)    \n",
    "    draw.text(((canvas_size-w)/2,(canvas_size-h)/5), word, font=font)\n",
    "\n",
    "    canvas.save(file_name, \"PNG\")\n",
    "#     canvas.show()"
   ]
  },
  {
   "cell_type": "markdown",
   "metadata": {},
   "source": [
    "### 폰트 이미지 수집 코드"
   ]
  },
  {
   "cell_type": "code",
   "execution_count": 4,
   "metadata": {},
   "outputs": [],
   "source": [
    "for (idx,style) in enumerate(font_styles):\n",
    "    for (jdx,word) in enumerate(words):\n",
    "        filename = './img/{}_{}.png'.format(idx, jdx)\n",
    "        save_font_word(word, canvas_size, style, filename)"
   ]
  },
  {
   "cell_type": "code",
   "execution_count": null,
   "metadata": {},
   "outputs": [],
   "source": []
  }
 ],
 "metadata": {
  "kernelspec": {
   "display_name": "Python 3",
   "language": "python",
   "name": "python3"
  },
  "language_info": {
   "codemirror_mode": {
    "name": "ipython",
    "version": 3
   },
   "file_extension": ".py",
   "mimetype": "text/x-python",
   "name": "python",
   "nbconvert_exporter": "python",
   "pygments_lexer": "ipython3",
   "version": "3.7.3"
  }
 },
 "nbformat": 4,
 "nbformat_minor": 4
}
