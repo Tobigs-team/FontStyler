{
 "cells": [
  {
   "cell_type": "markdown",
   "metadata": {},
   "source": [
    "# Generate Font Data"
   ]
  },
  {
   "cell_type": "markdown",
   "metadata": {},
   "source": [
    "### 폰트 경로 확인"
   ]
  },
  {
   "cell_type": "code",
   "execution_count": 10,
   "metadata": {},
   "outputs": [],
   "source": [
    "import os\n",
    "import re\n",
    "import shutil\n",
    "from tqdm import tqdm"
   ]
  },
  {
   "cell_type": "code",
   "execution_count": 11,
   "metadata": {},
   "outputs": [
    {
     "data": {
      "text/plain": [
       "['Monospace',\n",
       " 'Serif',\n",
       " '.DS_Store',\n",
       " 'Handwriting',\n",
       " 'Sans Serif',\n",
       " 'README.md',\n",
       " 'selected',\n",
       " '.ipynb_checkpoints',\n",
       " 'Display']"
      ]
     },
     "execution_count": 11,
     "metadata": {},
     "output_type": "execute_result"
    }
   ],
   "source": [
    "# check path\n",
    "path = '/Users/youngerous/Desktop/git repos/FontStyler/src/data/fonts/'\n",
    "os.listdir(path)"
   ]
  },
  {
   "cell_type": "code",
   "execution_count": 18,
   "metadata": {},
   "outputs": [],
   "source": [
    "# font storage\n",
    "dict_font = {\n",
    "    'Serif': [],\n",
    "    'Sans Serif': [],\n",
    "    'Display': [],\n",
    "    'Handwriting': [],\n",
    "    'Monospace': []\n",
    "}\n",
    "\n",
    "save_path = path + 'selected/'"
   ]
  },
  {
   "cell_type": "markdown",
   "metadata": {},
   "source": [
    "### Regular Font 추출"
   ]
  },
  {
   "cell_type": "code",
   "execution_count": 19,
   "metadata": {},
   "outputs": [
    {
     "name": "stderr",
     "output_type": "stream",
     "text": [
      "100%|██████████| 5/5 [00:01<00:00,  2.66it/s]\n"
     ]
    }
   ],
   "source": [
    "for category in tqdm(categories):\n",
    "    ## 각 카테고리 접근\n",
    "    style_dir = path + category + '/'\n",
    "    for files in os.listdir(style_dir):\n",
    "        if (files in exclude) or ('.zip' in files):\n",
    "            continue\n",
    "\n",
    "        ## 4개씩 분할된 폴더 접근\n",
    "        file_dir = style_dir + files + '/'\n",
    "        for fontfolder in os.listdir(file_dir):\n",
    "            if fontfolder in exclude:\n",
    "                continue\n",
    "\n",
    "            ## 세부 폰트 파일 접근\n",
    "            font_dir = file_dir + fontfolder + '/'\n",
    "            for font in os.listdir(font_dir):\n",
    "                if 'Regular' in font:\n",
    "                    dict_font[category].append(font)\n",
    "                    shutil.copy(font_dir+font, save_path + category +'/'+font)"
   ]
  },
  {
   "cell_type": "code",
   "execution_count": 22,
   "metadata": {},
   "outputs": [
    {
     "name": "stdout",
     "output_type": "stream",
     "text": [
      "182\n",
      "263\n",
      "285\n",
      "140\n",
      "19\n"
     ]
    }
   ],
   "source": [
    "print(len(dict_font['Serif']))\n",
    "print(len(dict_font['Sans Serif']))\n",
    "print(len(dict_font['Display']))\n",
    "print(len(dict_font['Handwriting']))\n",
    "print(len(dict_font['Monospace']))"
   ]
  },
  {
   "cell_type": "markdown",
   "metadata": {},
   "source": [
    "### TODO\n",
    "- correctly centering words regardless of font-style"
   ]
  },
  {
   "cell_type": "code",
   "execution_count": 1,
   "metadata": {},
   "outputs": [],
   "source": [
    "from PIL import Image,ImageDraw,ImageFont"
   ]
  },
  {
   "cell_type": "code",
   "execution_count": 14,
   "metadata": {},
   "outputs": [],
   "source": [
    "# user settings\n",
    "words = [chr(i) for i in range(ord('a'),ord('z')+1)] + [chr(i) for i in range(ord('A'), ord('Z')+1)]\n",
    "canvas_size = 256\n",
    "\n",
    "font_styles = ['./AmaticSC-Regular.ttf', './Mukta-Medium.ttf']"
   ]
  },
  {
   "cell_type": "code",
   "execution_count": 7,
   "metadata": {},
   "outputs": [],
   "source": [
    "def save_font_word(word, canvas_size, font_style, file_name):\n",
    "    canvas = Image.new('L', (canvas_size, canvas_size), color=255)\n",
    "    draw = ImageDraw.Draw(canvas)\n",
    "    \n",
    "    font = ImageFont.truetype(font_style, size=150)\n",
    "    w, h = draw.textsize(word, font=font)    \n",
    "    draw.text(((canvas_size-w)/2,(canvas_size-h)/5), word, font=font)\n",
    "\n",
    "    canvas.save(file_name, \"PNG\")\n",
    "#     canvas.show()"
   ]
  },
  {
   "cell_type": "markdown",
   "metadata": {},
   "source": [
    "### 폰트 이미지 수집 코드"
   ]
  },
  {
   "cell_type": "code",
   "execution_count": 4,
   "metadata": {},
   "outputs": [],
   "source": [
    "for (idx,style) in enumerate(font_styles):\n",
    "    for (jdx,word) in enumerate(words):\n",
    "        filename = './img/{}_{}.png'.format(idx, jdx)\n",
    "        save_font_word(word, canvas_size, style, filename)"
   ]
  },
  {
   "cell_type": "code",
   "execution_count": null,
   "metadata": {},
   "outputs": [],
   "source": []
  }
 ],
 "metadata": {
  "kernelspec": {
   "display_name": "Python 3",
   "language": "python",
   "name": "python3"
  },
  "language_info": {
   "codemirror_mode": {
    "name": "ipython",
    "version": 3
   },
   "file_extension": ".py",
   "mimetype": "text/x-python",
   "name": "python",
   "nbconvert_exporter": "python",
   "pygments_lexer": "ipython3",
   "version": "3.7.3"
  }
 },
 "nbformat": 4,
 "nbformat_minor": 4
}
