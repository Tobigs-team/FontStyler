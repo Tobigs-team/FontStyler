{
 "cells": [
  {
   "cell_type": "markdown",
   "metadata": {},
   "source": [
    "# Restart\n",
    "데이터셋 분류를 잘못했다. <br/>\n",
    "\n",
    "test에 포함된 폰트의 글자가 train, val에도 섞여들었음을 확인했다. <br/>\n",
    "생성한 이미지에서 '폰트'를 기준으로 train / val / test 개수를 설정한 후 별도의 폴더에 저장하자.\n",
    "<br/>\n",
    "**obj 파일을 만들기 전에 나누는 것, 이미지 파일이 아닌 폰트를 기준으로 개수를 나누는 것** 이 핵심이다.\n",
    "\n",
    "---\n",
    "\n",
    "또한 test셋을 출력할 때에는 같은 폰트(카테고리 말고!)끼리 묶여서 출력하도록 sorting하자.<br/>\n",
    "- a\\~Z 이미지를 만들어내기 전에, 폰트별로 먼저 split하고 a\\~Z를 만들자.\n",
    "\n",
    "\n",
    "---"
   ]
  },
  {
   "cell_type": "code",
   "execution_count": 18,
   "metadata": {},
   "outputs": [],
   "source": [
    "import os\n",
    "import glob\n",
    "import shutil\n",
    "import numpy as np\n",
    "from tqdm import tqdm\n",
    "from PIL import Image,ImageDraw,ImageFont\n",
    "import torch\n",
    "import matplotlib.pyplot as plt\n",
    "%matplotlib inline"
   ]
  },
  {
   "cell_type": "code",
   "execution_count": 2,
   "metadata": {},
   "outputs": [
    {
     "data": {
      "text/plain": [
       "['.DS_Store',\n",
       " '0',\n",
       " '1',\n",
       " 'readme.md',\n",
       " '.gitignore',\n",
       " '.ipynb_checkpoints',\n",
       " '4',\n",
       " '3',\n",
       " '2']"
      ]
     },
     "execution_count": 2,
     "metadata": {},
     "output_type": "execute_result"
    }
   ],
   "source": [
    "# 현재 폰트 위치 확인하기\n",
    "path = '/Users/youngerous/Desktop/git repos/FontStyler/src/data/collection/img/'\n",
    "os.listdir(path)"
   ]
  },
  {
   "cell_type": "code",
   "execution_count": 3,
   "metadata": {},
   "outputs": [
    {
     "name": "stdout",
     "output_type": "stream",
     "text": [
      "카테고리 0: 9464개\n",
      "카테고리 1: 13676개\n",
      "카테고리 2: 14716개\n",
      "카테고리 3: 7280개\n",
      "카테고리 4: 988개\n"
     ]
    }
   ],
   "source": [
    "for i in range(5):\n",
    "    print('카테고리 {}: {}개'.format(i, len(glob.glob(path + str(i) + '/*.png'))))"
   ]
  },
  {
   "cell_type": "markdown",
   "metadata": {},
   "source": [
    "- 182 * 52 = 9464\n",
    "- 263 * 52 = 13676\n",
    "- 283 * 52 = 14716\n",
    "- 140 * 52 = 7280\n",
    "- 19 * 52 = 988"
   ]
  },
  {
   "cell_type": "markdown",
   "metadata": {},
   "source": [
    "---\n",
    "\n",
    "## 이미지 파일 split\n",
    "train / val / test = 0.8 / 0.15 / 0.05 비율을 폰트 파일에 적용하여 나누자 <br/>\n",
    "7번 노트북의 코드를 사용할 것이다."
   ]
  },
  {
   "cell_type": "code",
   "execution_count": 16,
   "metadata": {},
   "outputs": [],
   "source": [
    "r_train = 0.8\n",
    "r_val   = 0.15\n",
    "r_test  = 0.05"
   ]
  },
  {
   "cell_type": "code",
   "execution_count": 5,
   "metadata": {},
   "outputs": [],
   "source": [
    "def extract_filename(path):\n",
    "    filenames = []\n",
    "    for filename in glob.iglob(path + '*.png'):\n",
    "        filenames.append(filename[17:])\n",
    "    return filenames"
   ]
  },
  {
   "cell_type": "code",
   "execution_count": 6,
   "metadata": {},
   "outputs": [],
   "source": [
    "# 원본 이미지 파일명\n",
    "original_serif       = extract_filename('collection/img/0/')\n",
    "original_display     = extract_filename('collection/img/2/')\n",
    "original_handwriting = extract_filename('collection/img/3/')"
   ]
  },
  {
   "cell_type": "code",
   "execution_count": 11,
   "metadata": {},
   "outputs": [],
   "source": [
    "# 카테고리별 파일 개수\n",
    "size_serif       = int(len(original_serif)/52)       # 182 \n",
    "size_display     = int(len(original_display)/52)     # 283 \n",
    "size_handwriting = int(len(original_handwriting)/52) # 140 "
   ]
  },
  {
   "cell_type": "code",
   "execution_count": 19,
   "metadata": {},
   "outputs": [],
   "source": [
    "def split_each_font(size, splt_test, splt_val):\n",
    "    test = int(np.floor(splt_test * size))\n",
    "    val  = int(np.floor((splt_test + splt_val) * size))\n",
    "    return test, val"
   ]
  },
  {
   "cell_type": "code",
   "execution_count": 20,
   "metadata": {},
   "outputs": [],
   "source": [
    "# serif split\n",
    "split_test_serif, split_valid_serif = split_each_font(size_serif, r_test, r_val)\n",
    "\n",
    "# display split\n",
    "split_test_display, split_valid_display = split_each_font(size_display, r_test, r_val)\n",
    "\n",
    "# serif split\n",
    "split_test_handwriting, split_valid_handwriting = split_each_font(size_handwriting, r_test, r_val)"
   ]
  },
  {
   "cell_type": "code",
   "execution_count": 21,
   "metadata": {},
   "outputs": [],
   "source": [
    "def get_idx_sampler(size, splt_test, splt_val):\n",
    "    idx = list(range(size))\n",
    "    train_idxs = idx[splt_val:]\n",
    "    val_idxs   = idx[splt_test: splt_val]\n",
    "    test_idxs  = idx[: splt_test]\n",
    "    return train_idxs, val_idxs, test_idxs"
   ]
  },
  {
   "cell_type": "code",
   "execution_count": 22,
   "metadata": {},
   "outputs": [],
   "source": [
    "train_i_serif, val_i_serif, test_i_serif = get_idx_sampler(size_serif, split_test_serif, split_valid_serif)\n",
    "train_i_disp, val_i_disp, test_i_disp    = get_idx_sampler(size_display, split_test_display, split_valid_display)\n",
    "train_i_hand, val_i_hand, test_i_hand    = get_idx_sampler(size_handwriting, split_test_handwriting, split_valid_handwriting)"
   ]
  },
  {
   "cell_type": "code",
   "execution_count": 25,
   "metadata": {},
   "outputs": [
    {
     "name": "stdout",
     "output_type": "stream",
     "text": [
      "           train val test\n",
      "serif:        146 27 9\n",
      "display:      227 42 14\n",
      "handwriting:  112 21 7\n"
     ]
    }
   ],
   "source": [
    "print('           train val test')\n",
    "print('serif:       ', len(train_i_serif), len(val_i_serif), len(test_i_serif))\n",
    "print('display:     ', len(train_i_disp), len(val_i_disp), len(test_i_disp))\n",
    "print('handwriting: ', len(train_i_hand), len(val_i_hand), len(test_i_hand))"
   ]
  },
  {
   "cell_type": "code",
   "execution_count": null,
   "metadata": {},
   "outputs": [],
   "source": []
  },
  {
   "cell_type": "code",
   "execution_count": null,
   "metadata": {},
   "outputs": [],
   "source": []
  },
  {
   "cell_type": "code",
   "execution_count": null,
   "metadata": {},
   "outputs": [],
   "source": []
  },
  {
   "cell_type": "code",
   "execution_count": null,
   "metadata": {},
   "outputs": [],
   "source": []
  },
  {
   "cell_type": "code",
   "execution_count": null,
   "metadata": {},
   "outputs": [],
   "source": []
  },
  {
   "cell_type": "code",
   "execution_count": null,
   "metadata": {},
   "outputs": [],
   "source": []
  },
  {
   "cell_type": "code",
   "execution_count": null,
   "metadata": {},
   "outputs": [],
   "source": []
  },
  {
   "cell_type": "code",
   "execution_count": null,
   "metadata": {},
   "outputs": [],
   "source": []
  },
  {
   "cell_type": "code",
   "execution_count": null,
   "metadata": {},
   "outputs": [],
   "source": []
  },
  {
   "cell_type": "code",
   "execution_count": null,
   "metadata": {},
   "outputs": [],
   "source": []
  },
  {
   "cell_type": "code",
   "execution_count": null,
   "metadata": {},
   "outputs": [],
   "source": []
  }
 ],
 "metadata": {
  "kernelspec": {
   "display_name": "Python 3",
   "language": "python",
   "name": "python3"
  },
  "language_info": {
   "codemirror_mode": {
    "name": "ipython",
    "version": 3
   },
   "file_extension": ".py",
   "mimetype": "text/x-python",
   "name": "python",
   "nbconvert_exporter": "python",
   "pygments_lexer": "ipython3",
   "version": "3.7.3"
  }
 },
 "nbformat": 4,
 "nbformat_minor": 4
}
