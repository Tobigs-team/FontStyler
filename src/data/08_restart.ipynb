{
 "cells": [
  {
   "cell_type": "markdown",
   "metadata": {},
   "source": [
    "# Restart\n",
    "데이터셋 분류를 잘못했다. <br/>\n",
    "\n",
    "test에 포함된 폰트의 글자가 train, val에도 섞여들었음을 확인했다. <br/>\n",
    "생성한 이미지에서 '폰트'를 기준으로 train / val / test 개수를 설정한 후 별도의 폴더에 저장하자.\n",
    "<br/>\n",
    "**obj 파일을 만들기 전에 나누는 것, 이미지 파일이 아닌 폰트를 기준으로 개수를 나누는 것** 이 핵심이다.\n",
    "\n",
    "---\n",
    "\n",
    "또한 test셋을 출력할 때에는 같은 폰트(카테고리 말고!)끼리 묶여서 출력하도록 sorting하자.<br/>\n",
    "- a\\~Z 이미지를 만들어내기 전에, 폰트별로 먼저 split하고 a\\~Z를 만들자.\n",
    "\n",
    "\n",
    "---"
   ]
  },
  {
   "cell_type": "code",
   "execution_count": 2,
   "metadata": {},
   "outputs": [],
   "source": [
    "import os\n",
    "import glob\n",
    "import shutil\n",
    "import numpy as np\n",
    "from tqdm import tqdm\n",
    "from PIL import Image,ImageDraw,ImageFont\n",
    "import torch\n",
    "import matplotlib.pyplot as plt\n",
    "%matplotlib inline"
   ]
  },
  {
   "cell_type": "markdown",
   "metadata": {},
   "source": [
    "---\n",
    "\n",
    "## 이미지 파일 split\n",
    "train / val / test = 0.8 / 0.15 / 0.05 비율을 폰트 파일에 적용하여 나누자 <br/>\n",
    "7번 노트북의 코드를 사용할 것이다. <br/>\n",
    "이전과 같이, **serif, display, handwriting** 카테고리만 생성한다."
   ]
  },
  {
   "cell_type": "code",
   "execution_count": 1,
   "metadata": {},
   "outputs": [],
   "source": [
    "r_train = 0.8\n",
    "r_val   = 0.15\n",
    "r_test  = 0.05"
   ]
  },
  {
   "cell_type": "code",
   "execution_count": 3,
   "metadata": {},
   "outputs": [],
   "source": [
    "def extract_filename(path):\n",
    "    filenames = []\n",
    "    for filename in glob.iglob(path + '*.png'):\n",
    "        filenames.append(filename[17:])\n",
    "    return filenames"
   ]
  },
  {
   "cell_type": "code",
   "execution_count": 4,
   "metadata": {},
   "outputs": [],
   "source": [
    "# 원본 이미지 파일명\n",
    "original_serif       = extract_filename('collection/img/0/')\n",
    "original_display     = extract_filename('collection/img/2/')\n",
    "original_handwriting = extract_filename('collection/img/3/')"
   ]
  },
  {
   "cell_type": "code",
   "execution_count": 5,
   "metadata": {},
   "outputs": [],
   "source": [
    "# 카테고리별 파일 개수\n",
    "size_serif       = int(len(original_serif)/52)       # 182 \n",
    "size_display     = int(len(original_display)/52)     # 283 \n",
    "size_handwriting = int(len(original_handwriting)/52) # 140 "
   ]
  },
  {
   "cell_type": "code",
   "execution_count": 6,
   "metadata": {},
   "outputs": [],
   "source": [
    "def split_each_font(size, splt_test, splt_val):\n",
    "    test = int(np.floor(splt_test * size))\n",
    "    val  = int(np.floor((splt_test + splt_val) * size))\n",
    "    return test, val"
   ]
  },
  {
   "cell_type": "code",
   "execution_count": 7,
   "metadata": {},
   "outputs": [],
   "source": [
    "# serif split\n",
    "split_test_serif, split_valid_serif = split_each_font(size_serif, r_test, r_val)\n",
    "\n",
    "# display split\n",
    "split_test_display, split_valid_display = split_each_font(size_display, r_test, r_val)\n",
    "\n",
    "# serif split\n",
    "split_test_handwriting, split_valid_handwriting = split_each_font(size_handwriting, r_test, r_val)"
   ]
  },
  {
   "cell_type": "code",
   "execution_count": 8,
   "metadata": {},
   "outputs": [],
   "source": [
    "def get_idx_sampler(size, splt_test, splt_val):\n",
    "    idx = list(range(size))\n",
    "    train_idxs = idx[splt_val:]\n",
    "    val_idxs   = idx[splt_test: splt_val]\n",
    "    test_idxs  = idx[: splt_test]\n",
    "    return train_idxs, val_idxs, test_idxs"
   ]
  },
  {
   "cell_type": "code",
   "execution_count": 9,
   "metadata": {},
   "outputs": [],
   "source": [
    "train_i_serif, val_i_serif, test_i_serif = get_idx_sampler(size_serif, split_test_serif, split_valid_serif)\n",
    "train_i_disp, val_i_disp, test_i_disp    = get_idx_sampler(size_display, split_test_display, split_valid_display)\n",
    "train_i_hand, val_i_hand, test_i_hand    = get_idx_sampler(size_handwriting, split_test_handwriting, split_valid_handwriting)"
   ]
  },
  {
   "cell_type": "code",
   "execution_count": 10,
   "metadata": {},
   "outputs": [
    {
     "name": "stdout",
     "output_type": "stream",
     "text": [
      "           train val test\n",
      "serif:        146 27 9\n",
      "display:      227 42 14\n",
      "handwriting:  112 21 7\n"
     ]
    }
   ],
   "source": [
    "print('           train val test')\n",
    "print('serif:       ', len(train_i_serif), len(val_i_serif), len(test_i_serif))\n",
    "print('display:     ', len(train_i_disp), len(val_i_disp), len(test_i_disp))\n",
    "print('handwriting: ', len(train_i_hand), len(val_i_hand), len(test_i_hand))"
   ]
  },
  {
   "cell_type": "markdown",
   "metadata": {},
   "source": [
    "위 갯수는 '폰트의 개수'를 의미한다. 이제 이미지가 담긴 폴더에서 해당 갯수만큼 추출해 별도의 폴더로 옮기자"
   ]
  },
  {
   "cell_type": "markdown",
   "metadata": {},
   "source": [
    "---\n",
    "## Separate folders\n"
   ]
  },
  {
   "cell_type": "code",
   "execution_count": 16,
   "metadata": {},
   "outputs": [],
   "source": [
    "from_dir = 'collection/img/' # + index\n",
    "to_dir = 'collection/img/'   # + train/val/test"
   ]
  },
  {
   "cell_type": "code",
   "execution_count": 12,
   "metadata": {},
   "outputs": [
    {
     "data": {
      "text/plain": [
       "9464"
      ]
     },
     "execution_count": 12,
     "metadata": {},
     "output_type": "execute_result"
    }
   ],
   "source": [
    "len(glob.glob('collection/img/0/*.png'))"
   ]
  },
  {
   "cell_type": "code",
   "execution_count": 13,
   "metadata": {},
   "outputs": [],
   "source": [
    "def move_img(cateIdx, purpose, fromDir, toDir, filename):\n",
    "    fromDir += str(cateIdx) + '/' + filename\n",
    "    toDir   += purpose + '/' + filename\n",
    "    shutil.move(fromDir, toDir)"
   ]
  },
  {
   "cell_type": "code",
   "execution_count": 23,
   "metadata": {},
   "outputs": [],
   "source": [
    "categories   = [0, 2, 3] # serif, display, handwriting\n",
    "purposes     = ['train', 'val', 'test']"
   ]
  },
  {
   "cell_type": "code",
   "execution_count": 21,
   "metadata": {},
   "outputs": [],
   "source": [
    "dict_params = {\n",
    "    0 : {\n",
    "        'train': len(train_i_serif),\n",
    "        'val'  : len(val_i_serif),\n",
    "        'test' : len(test_i_serif)\n",
    "    },\n",
    "    2 : {\n",
    "        'train': len(train_i_disp),\n",
    "        'val'  : len(val_i_disp),\n",
    "        'test' : len(test_i_disp)\n",
    "    },\n",
    "    3 : {\n",
    "        'train': len(train_i_hand),\n",
    "        'val'  : len(val_i_hand),\n",
    "        'test' : len(test_i_hand)\n",
    "    },\n",
    "}"
   ]
  },
  {
   "cell_type": "markdown",
   "metadata": {},
   "source": [
    "안전하게 따로 작업하자...ㅎ"
   ]
  },
  {
   "cell_type": "code",
   "execution_count": 86,
   "metadata": {},
   "outputs": [],
   "source": [
    "# spliting - Serif\n",
    "for purpose in purposes: # train, val, test\n",
    "    for (idx, img) in enumerate(sorted(glob.glob('collection/img/{}/*.png'.format(0)))): # sorted를 하면 정렬된다는 것을 잊고 살았다.\n",
    "        img_name = img[17:]\n",
    "        num_file = dict_params[0][purpose] * 52\n",
    "        move_img(0, purpose, from_dir, to_dir, img_name)\n",
    "        if idx+1 == num_file:\n",
    "            break"
   ]
  },
  {
   "cell_type": "code",
   "execution_count": 91,
   "metadata": {},
   "outputs": [],
   "source": [
    "# spliting - Display\n",
    "for purpose in purposes: # train, val, test\n",
    "    for (idx, img) in enumerate(sorted(glob.glob('collection/img/{}/*.png'.format(2)))):\n",
    "        img_name = img[17:]\n",
    "        num_file = dict_params[2][purpose] * 52\n",
    "        move_img(2, purpose, from_dir, to_dir, img_name)\n",
    "        if idx+1 == num_file:\n",
    "            break"
   ]
  },
  {
   "cell_type": "code",
   "execution_count": 95,
   "metadata": {},
   "outputs": [],
   "source": [
    "# spliting - Handwriting\n",
    "for purpose in purposes: # train, val, test\n",
    "    for (idx, img) in enumerate(sorted(glob.glob('collection/img/{}/*.png'.format(3)))):\n",
    "        img_name = img[17:]\n",
    "        num_file = dict_params[3][purpose] * 52\n",
    "        move_img(3, purpose, from_dir, to_dir, img_name)\n",
    "        if idx+1 == num_file:\n",
    "            break"
   ]
  },
  {
   "cell_type": "code",
   "execution_count": 106,
   "metadata": {},
   "outputs": [
    {
     "name": "stdout",
     "output_type": "stream",
     "text": [
      "train 폰트 개수: 485.0개, 데이터 개수: 25220개\n",
      "val   폰트 개수: 90.0개, 데이터 개수: 4680개\n",
      "test  폰트 개수: 30.0개, 데이터 개수: 1560개\n"
     ]
    }
   ],
   "source": [
    "# 개수 확인\n",
    "num_train = len(glob.glob('collection/img/train/*.png')) # 146 + 227 + 112 = 485개 폰트\n",
    "num_val   = len(glob.glob('collection/img/val/*.png'))   # 27 + 42 + 21 = 90개 폰트\n",
    "num_test  = len(glob.glob('collection/img/test/*.png')) # 9 + 14 + 7 = 30개 폰트\n",
    "\n",
    "print('train 폰트 개수: {}개, 데이터 개수: {}개'.format(num_train/52, num_train))\n",
    "print('val   폰트 개수: {}개, 데이터 개수: {}개'.format(num_val/52, num_val))\n",
    "print('test  폰트 개수: {}개, 데이터 개수: {}개'.format(num_test/52, num_test))"
   ]
  },
  {
   "cell_type": "markdown",
   "metadata": {},
   "source": [
    "---\n",
    "## obj 파일 만들기\n",
    "드디어 정렬된, 폰트별로 분리된 이미지 폴더를 얻었다. <br/>\n",
    "기존의 FontDataset을 사용할 수도 있겠다는 느낌이 든다 (NewFontDataset을 안써도 된다는 소리). <br/>\n",
    "01번 노트북의 코드를 재활용하겠다."
   ]
  },
  {
   "cell_type": "code",
   "execution_count": 108,
   "metadata": {},
   "outputs": [],
   "source": [
    "# -*- coding: utf-8 -*-\n",
    "from __future__ import print_function\n",
    "from __future__ import absolute_import\n",
    "\n",
    "import argparse\n",
    "import glob\n",
    "import os\n",
    "import pickle as pickle\n",
    "import random\n",
    "import torch\n",
    "\n",
    "def pickle_examples_final(from_dir, train_path):\n",
    "    \"\"\"\n",
    "    Compile a list of examples into pickled format, so during\n",
    "    the training, all io will happen in memory\n",
    "    \"\"\"\n",
    "    paths = glob.glob(os.path.join(from_dir, '*.png')) # 카테고리 폴더 내 모든 png 파일\n",
    "    with open(train_path, 'wb') as ft:\n",
    "        train_count = 0\n",
    "        \n",
    "        for p in sorted(paths): # sorted 추가!!\n",
    "            label = os.path.basename(p) # 파일 이름을 저장(추후 DataSet에서 분리)\n",
    "            with open(p, 'rb') as f:\n",
    "                img_bytes = f.read()\n",
    "                r = random.random()\n",
    "                example = (label, img_bytes)\n",
    "                \n",
    "                # pickle.dump(example, ft)\n",
    "                torch.save(example, ft)\n",
    "                train_count += 1\n",
    "    print('{} imgs saved in .obj, end'.format(train_count))\n",
    "    return"
   ]
  },
  {
   "cell_type": "code",
   "execution_count": 113,
   "metadata": {},
   "outputs": [
    {
     "name": "stdout",
     "output_type": "stream",
     "text": [
      "25220 imgs saved in .obj, end\n",
      "4680 imgs saved in .obj, end\n",
      "1560 imgs saved in .obj, end\n"
     ]
    }
   ],
   "source": [
    "save_dir = './dataset/allfonts/'\n",
    "purposes = ['train', 'val', 'test']\n",
    "\n",
    "for purpose in purposes:\n",
    "    from_dir = './collection/img/{}/'.format(purpose)\n",
    "    train_path = os.path.join(save_dir, '{}.obj'.format(purpose))\n",
    "    \n",
    "    pickle_examples_final(from_dir, train_path)"
   ]
  },
  {
   "cell_type": "markdown",
   "metadata": {},
   "source": [
    "---\n",
    "## 데이터 최종 점검\n",
    "FontDataset 클래스를 사용할 것이다."
   ]
  },
  {
   "cell_type": "code",
   "execution_count": 115,
   "metadata": {},
   "outputs": [],
   "source": [
    "from common.dataset import FontDataset\n",
    "from common.dataset import PickledImageProvider"
   ]
  },
  {
   "cell_type": "code",
   "execution_count": 116,
   "metadata": {
    "collapsed": true,
    "jupyter": {
     "outputs_hidden": true
    }
   },
   "outputs": [
    {
     "name": "stdout",
     "output_type": "stream",
     "text": [
      "processed 1000 examples\n",
      "processed 2000 examples\n",
      "processed 3000 examples\n",
      "processed 4000 examples\n",
      "processed 5000 examples\n",
      "processed 6000 examples\n",
      "processed 7000 examples\n",
      "processed 8000 examples\n",
      "processed 9000 examples\n",
      "processed 10000 examples\n",
      "processed 11000 examples\n",
      "processed 12000 examples\n",
      "processed 13000 examples\n",
      "processed 14000 examples\n",
      "processed 15000 examples\n",
      "processed 16000 examples\n",
      "processed 17000 examples\n",
      "processed 18000 examples\n",
      "processed 19000 examples\n",
      "processed 20000 examples\n",
      "processed 21000 examples\n",
      "processed 22000 examples\n",
      "processed 23000 examples\n",
      "processed 24000 examples\n",
      "processed 25000 examples\n",
      "processed 26000 examples\n",
      "processed 27000 examples\n",
      "processed 28000 examples\n",
      "processed 29000 examples\n",
      "processed 30000 examples\n",
      "processed 31000 examples\n",
      "processed 32000 examples\n",
      "processed 33000 examples\n",
      "processed 34000 examples\n",
      "processed 35000 examples\n",
      "processed 36000 examples\n",
      "processed 37000 examples\n",
      "processed 38000 examples\n",
      "processed 39000 examples\n",
      "processed 40000 examples\n",
      "processed 41000 examples\n",
      "processed 42000 examples\n",
      "processed 43000 examples\n",
      "processed 44000 examples\n",
      "processed 45000 examples\n",
      "processed 46000 examples\n",
      "processed 47000 examples\n",
      "processed 48000 examples\n",
      "processed 49000 examples\n",
      "processed 50000 examples\n",
      "processed 51000 examples\n",
      "processed 52000 examples\n",
      "processed 53000 examples\n",
      "processed 54000 examples\n",
      "processed 55000 examples\n",
      "processed 56000 examples\n",
      "processed 57000 examples\n",
      "processed 58000 examples\n",
      "processed 59000 examples\n",
      "processed 60000 examples\n",
      "processed 61000 examples\n",
      "processed 62000 examples\n",
      "processed 63000 examples\n",
      "processed 64000 examples\n",
      "processed 65000 examples\n",
      "processed 66000 examples\n",
      "processed 67000 examples\n",
      "processed 68000 examples\n",
      "processed 69000 examples\n",
      "processed 70000 examples\n",
      "processed 71000 examples\n",
      "processed 72000 examples\n",
      "processed 73000 examples\n",
      "processed 74000 examples\n",
      "processed 75000 examples\n",
      "processed 76000 examples\n",
      "processed 77000 examples\n",
      "processed 78000 examples\n",
      "processed 79000 examples\n",
      "processed 80000 examples\n",
      "processed 81000 examples\n",
      "processed 82000 examples\n",
      "processed 83000 examples\n",
      "processed 84000 examples\n",
      "processed 85000 examples\n",
      "processed 86000 examples\n",
      "processed 87000 examples\n",
      "processed 88000 examples\n",
      "processed 89000 examples\n",
      "processed 90000 examples\n",
      "processed 91000 examples\n",
      "processed 92000 examples\n",
      "processed 93000 examples\n",
      "processed 94000 examples\n",
      "processed 95000 examples\n",
      "processed 96000 examples\n",
      "processed 97000 examples\n",
      "processed 98000 examples\n",
      "processed 99000 examples\n",
      "processed 100000 examples\n",
      "processed 101000 examples\n",
      "processed 102000 examples\n",
      "processed 103000 examples\n",
      "processed 104000 examples\n",
      "processed 105000 examples\n",
      "processed 106000 examples\n",
      "processed 107000 examples\n",
      "processed 108000 examples\n",
      "processed 109000 examples\n",
      "processed 110000 examples\n",
      "processed 111000 examples\n",
      "processed 112000 examples\n",
      "processed 113000 examples\n",
      "processed 114000 examples\n",
      "processed 115000 examples\n",
      "processed 116000 examples\n",
      "processed 117000 examples\n",
      "processed 118000 examples\n",
      "processed 119000 examples\n",
      "processed 120000 examples\n",
      "processed 121000 examples\n",
      "processed 122000 examples\n",
      "processed 123000 examples\n",
      "processed 124000 examples\n",
      "processed 125000 examples\n",
      "processed 126000 examples\n",
      "unpickled total 126100 examples\n",
      "saved total 25220 examples only for byte\n",
      "processed 1000 examples\n",
      "processed 2000 examples\n",
      "processed 3000 examples\n",
      "processed 4000 examples\n",
      "processed 5000 examples\n",
      "processed 6000 examples\n",
      "processed 7000 examples\n",
      "processed 8000 examples\n",
      "processed 9000 examples\n",
      "processed 10000 examples\n",
      "processed 11000 examples\n",
      "processed 12000 examples\n",
      "processed 13000 examples\n",
      "processed 14000 examples\n",
      "processed 15000 examples\n",
      "processed 16000 examples\n",
      "processed 17000 examples\n",
      "processed 18000 examples\n",
      "processed 19000 examples\n",
      "processed 20000 examples\n",
      "processed 21000 examples\n",
      "processed 22000 examples\n",
      "processed 23000 examples\n",
      "unpickled total 23400 examples\n",
      "saved total 4680 examples only for byte\n",
      "processed 1000 examples\n",
      "processed 2000 examples\n",
      "processed 3000 examples\n",
      "processed 4000 examples\n",
      "processed 5000 examples\n",
      "processed 6000 examples\n",
      "processed 7000 examples\n",
      "unpickled total 7800 examples\n",
      "saved total 1560 examples only for byte\n"
     ]
    }
   ],
   "source": [
    "directory = 'dataset/allfonts/'\n",
    "\n",
    "dset_train = FontDataset(PickledImageProvider(directory + 'train.obj'))\n",
    "dset_val   = FontDataset(PickledImageProvider(directory + 'val.obj'))\n",
    "dset_test  = FontDataset(PickledImageProvider(directory + 'test.obj'))"
   ]
  },
  {
   "cell_type": "code",
   "execution_count": 133,
   "metadata": {},
   "outputs": [
    {
     "data": {
      "image/png": "[encoded data removed]",
      "text/plain": [
       "<Figure size 1440x720 with 80 Axes>"
      ]
     },
     "metadata": {
      "needs_background": "light"
     },
     "output_type": "display_data"
    }
   ],
   "source": [
    "plt.figure(figsize=(20, 10))\n",
    "for idx in range(80):\n",
    "    plt.subplot(10, 8, idx+1)\n",
    "    plt.imshow(dset_test[idx+1144][1], cmap='gray', label=idx)\n",
    "plt.show()"
   ]
  },
  {
   "cell_type": "markdown",
   "metadata": {},
   "source": [
    "소문자 알파벳 c~j가 이상한 순서로 배치되긴 하지만 같은 폰트의 52개 글자 모두 붙어서 출력된다. <br/>\n",
    "인덱스의 숫자 정렬 방법에 따라 순서가 약간 바뀐 것이다."
   ]
  },
  {
   "cell_type": "code",
   "execution_count": 134,
   "metadata": {},
   "outputs": [
    {
     "data": {
      "text/plain": [
       "({'category_vector': array([1, 0, 0, 0, 0]),\n",
       "  'font': 92,\n",
       "  'alphabet_vector': array([1, 0, 0, 0, 0, 0, 0, 0, 0, 0, 0, 0, 0, 0, 0, 0, 0, 0, 0, 0, 0, 0,\n",
       "         0, 0, 0, 0, 0, 0, 0, 0, 0, 0, 0, 0, 0, 0, 0, 0, 0, 0, 0, 0, 0, 0,\n",
       "         0, 0, 0, 0, 0, 0, 0, 0])},\n",
       " array([[1., 1., 1., ..., 1., 1., 1.],\n",
       "        [1., 1., 1., ..., 1., 1., 1.],\n",
       "        [1., 1., 1., ..., 1., 1., 1.],\n",
       "        ...,\n",
       "        [1., 1., 1., ..., 1., 1., 1.],\n",
       "        [1., 1., 1., ..., 1., 1., 1.],\n",
       "        [1., 1., 1., ..., 1., 1., 1.]]),\n",
       " {'category_vector': 5, 'alphabet_vector': 52, 'font_vector': 16384})"
      ]
     },
     "execution_count": 134,
     "metadata": {},
     "output_type": "execute_result"
    }
   ],
   "source": [
    "dset_test[0]"
   ]
  },
  {
   "cell_type": "markdown",
   "metadata": {},
   "source": [
    "---\n",
    "# 정리\n",
    "- 0, 2, 3번 카테고리(serif, display, handwriting)를 사용하여 최종 데이터셋 제작\n",
    "- test 뿐 아니라 train, val에서도 폰트끼리 묶여서 출력됨 (단, 폰트 내에서 c~j는 순서가 다름. 사용하는 데 지장 X)\n",
    "- 이제 NewFontDataset은 사용하지 않아도 된다(주석처리). 기존의 FontDataset을 사용할 것\n",
    "\n",
    "### train.obj\n",
    "    - 폰트 개수: serif(146) + disp(227) + hand(112) = 485개\n",
    "    - 데이터 개수: 25220(485*52)개\n",
    "    \n",
    "### val.obj\n",
    "    - 폰트 개수: serif(27) + disp(42) + hand(21) = 90개\n",
    "    - 데이터 개수: 4680(90*52)개\n",
    "\n",
    "### test.obj\n",
    "    - 폰트 개수: serif(9) + disp(14) + hand(7) = 30개\n",
    "    - 데이터 개수: 1560(30*52)개"
   ]
  }
 ],
 "metadata": {
  "kernelspec": {
   "display_name": "Python 3",
   "language": "python",
   "name": "python3"
  },
  "language_info": {
   "codemirror_mode": {
    "name": "ipython",
    "version": 3
   },
   "file_extension": ".py",
   "mimetype": "text/x-python",
   "name": "python",
   "nbconvert_exporter": "python",
   "pygments_lexer": "ipython3",
   "version": "3.7.3"
  }
 },
 "nbformat": 4,
 "nbformat_minor": 4
}
