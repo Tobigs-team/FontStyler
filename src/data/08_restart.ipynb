{
 "cells": [
  {
   "cell_type": "markdown",
   "metadata": {},
   "source": [
    "# Restart\n",
    "데이터셋 분류를 잘못했다. <br/>\n",
    "\n",
    "test에 포함된 폰트의 글자가 train, val에도 섞여들었음을 확인했다. <br/>\n",
    "다시 데이터셋을 만들텐데, 이번에는 test에 사용할 폰트를 미리 빼 놓자. \n",
    "\n",
    "---\n",
    "\n",
    "또한 test셋을 출력할 때에는 같은 폰트(카테고리 말고!)끼리 묶여서 출력하도록 sorting하자.<br/>\n",
    "- a\\~Z 이미지를 만들어내기 전에, 폰트별로 먼저 split하고 a\\~Z를 만들자.\n",
    "\n",
    "\n",
    "---"
   ]
  },
  {
   "cell_type": "code",
   "execution_count": 9,
   "metadata": {},
   "outputs": [],
   "source": [
    "import os\n",
    "import glob\n",
    "import shutil\n",
    "from tqdm import tqdm\n",
    "from PIL import Image,ImageDraw,ImageFont\n",
    "import torch\n",
    "import matplotlib.pyplot as plt\n",
    "%matplotlib inline"
   ]
  },
  {
   "cell_type": "code",
   "execution_count": 5,
   "metadata": {},
   "outputs": [
    {
     "data": {
      "text/plain": [
       "['Monospace',\n",
       " 'Serif',\n",
       " '.DS_Store',\n",
       " 'Handwriting',\n",
       " 'Sans Serif',\n",
       " '.gitignore',\n",
       " '.ipynb_checkpoints',\n",
       " 'Display']"
      ]
     },
     "execution_count": 5,
     "metadata": {},
     "output_type": "execute_result"
    }
   ],
   "source": [
    "# 현재 폰트 위치 확인하기\n",
    "path = '/Users/youngerous/Desktop/git repos/FontStyler/src/data/collection/selected/'\n",
    "os.listdir(path)"
   ]
  },
  {
   "cell_type": "code",
   "execution_count": 15,
   "metadata": {},
   "outputs": [],
   "source": [
    "categories = ['Serif', 'Sans Serif', 'Display', 'Handwriting', 'Monospace']\n",
    "dict_font = {\n",
    "    'Serif': [],\n",
    "    'Sans Serif': [],\n",
    "    'Display': [],\n",
    "    'Handwriting': [],\n",
    "    'Monospace': []\n",
    "}\n",
    "\n",
    "for category in categories:\n",
    "    fonts = path + category + '/'\n",
    "    for font in glob.glob(fonts+'*.ttf'):\n",
    "        dict_font[category].append(font)"
   ]
  },
  {
   "cell_type": "code",
   "execution_count": 16,
   "metadata": {},
   "outputs": [
    {
     "name": "stdout",
     "output_type": "stream",
     "text": [
      "178\n",
      "259\n",
      "285\n",
      "140\n",
      "19\n"
     ]
    }
   ],
   "source": [
    "for category in categories:\n",
    "    print(len(dict_font[category]))"
   ]
  },
  {
   "cell_type": "markdown",
   "metadata": {},
   "source": [
    "기존 폰트 개수랑 약간 차이가 나는데 .ttf가 아닌 .otf 파일도 섞여 있어서 그런 듯 하다. <br/>\n",
    "\n",
    "큰 차이가 나지 않으니 무시하자."
   ]
  },
  {
   "cell_type": "markdown",
   "metadata": {},
   "source": [
    "---\n",
    "\n",
    "## ttf 파일 split"
   ]
  },
  {
   "cell_type": "code",
   "execution_count": null,
   "metadata": {},
   "outputs": [],
   "source": []
  },
  {
   "cell_type": "code",
   "execution_count": null,
   "metadata": {},
   "outputs": [],
   "source": []
  },
  {
   "cell_type": "code",
   "execution_count": null,
   "metadata": {},
   "outputs": [],
   "source": []
  },
  {
   "cell_type": "code",
   "execution_count": null,
   "metadata": {},
   "outputs": [],
   "source": []
  }
 ],
 "metadata": {
  "kernelspec": {
   "display_name": "Python 3",
   "language": "python",
   "name": "python3"
  },
  "language_info": {
   "codemirror_mode": {
    "name": "ipython",
    "version": 3
   },
   "file_extension": ".py",
   "mimetype": "text/x-python",
   "name": "python",
   "nbconvert_exporter": "python",
   "pygments_lexer": "ipython3",
   "version": "3.7.3"
  }
 },
 "nbformat": 4,
 "nbformat_minor": 4
}
