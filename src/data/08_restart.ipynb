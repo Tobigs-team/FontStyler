{
 "cells": [
  {
   "cell_type": "markdown",
   "metadata": {},
   "source": [
    "# Restart\n",
    "데이터셋 분류를 잘못했다. <br/>\n",
    "\n",
    "test에 포함된 폰트의 글자가 train, val에도 섞여들었음을 확인했다. <br/>\n",
    "생성한 이미지에서 '폰트'를 기준으로 train / val / test 개수를 설정한 후 별도의 폴더에 저장하자.\n",
    "<br/>\n",
    "**obj 파일을 만들기 전에 나누는 것, 이미지 파일이 아닌 폰트를 기준으로 개수를 나누는 것** 이 핵심이다.\n",
    "\n",
    "---\n",
    "\n",
    "또한 test셋을 출력할 때에는 같은 폰트(카테고리 말고!)끼리 묶여서 출력하도록 sorting하자.<br/>\n",
    "- a\\~Z 이미지를 만들어내기 전에, 폰트별로 먼저 split하고 a\\~Z를 만들자.\n",
    "\n",
    "\n",
    "---"
   ]
  },
  {
   "cell_type": "code",
   "execution_count": 2,
   "metadata": {},
   "outputs": [],
   "source": [
    "import os\n",
    "import glob\n",
    "import shutil\n",
    "import numpy as np\n",
    "from tqdm import tqdm\n",
    "from PIL import Image,ImageDraw,ImageFont\n",
    "import torch\n",
    "import matplotlib.pyplot as plt\n",
    "%matplotlib inline"
   ]
  },
  {
   "cell_type": "markdown",
   "metadata": {},
   "source": [
    "---\n",
    "\n",
    "## 이미지 파일 split\n",
    "train / val / test = 0.8 / 0.15 / 0.05 비율을 폰트 파일에 적용하여 나누자 <br/>\n",
    "7번 노트북의 코드를 사용할 것이다. <br/>\n",
    "이전과 같이, **serif, display, handwriting** 카테고리만 생성한다."
   ]
  },
  {
   "cell_type": "code",
   "execution_count": 1,
   "metadata": {},
   "outputs": [],
   "source": [
    "r_train = 0.8\n",
    "r_val   = 0.15\n",
    "r_test  = 0.05"
   ]
  },
  {
   "cell_type": "code",
   "execution_count": 3,
   "metadata": {},
   "outputs": [],
   "source": [
    "def extract_filename(path):\n",
    "    filenames = []\n",
    "    for filename in glob.iglob(path + '*.png'):\n",
    "        filenames.append(filename[17:])\n",
    "    return filenames"
   ]
  },
  {
   "cell_type": "code",
   "execution_count": 4,
   "metadata": {},
   "outputs": [],
   "source": [
    "# 원본 이미지 파일명\n",
    "original_serif       = extract_filename('collection/img/0/')\n",
    "original_display     = extract_filename('collection/img/2/')\n",
    "original_handwriting = extract_filename('collection/img/3/')"
   ]
  },
  {
   "cell_type": "code",
   "execution_count": 5,
   "metadata": {},
   "outputs": [],
   "source": [
    "# 카테고리별 파일 개수\n",
    "size_serif       = int(len(original_serif)/52)       # 182 \n",
    "size_display     = int(len(original_display)/52)     # 283 \n",
    "size_handwriting = int(len(original_handwriting)/52) # 140 "
   ]
  },
  {
   "cell_type": "code",
   "execution_count": 6,
   "metadata": {},
   "outputs": [],
   "source": [
    "def split_each_font(size, splt_test, splt_val):\n",
    "    test = int(np.floor(splt_test * size))\n",
    "    val  = int(np.floor((splt_test + splt_val) * size))\n",
    "    return test, val"
   ]
  },
  {
   "cell_type": "code",
   "execution_count": 7,
   "metadata": {},
   "outputs": [],
   "source": [
    "# serif split\n",
    "split_test_serif, split_valid_serif = split_each_font(size_serif, r_test, r_val)\n",
    "\n",
    "# display split\n",
    "split_test_display, split_valid_display = split_each_font(size_display, r_test, r_val)\n",
    "\n",
    "# serif split\n",
    "split_test_handwriting, split_valid_handwriting = split_each_font(size_handwriting, r_test, r_val)"
   ]
  },
  {
   "cell_type": "code",
   "execution_count": 8,
   "metadata": {},
   "outputs": [],
   "source": [
    "def get_idx_sampler(size, splt_test, splt_val):\n",
    "    idx = list(range(size))\n",
    "    train_idxs = idx[splt_val:]\n",
    "    val_idxs   = idx[splt_test: splt_val]\n",
    "    test_idxs  = idx[: splt_test]\n",
    "    return train_idxs, val_idxs, test_idxs"
   ]
  },
  {
   "cell_type": "code",
   "execution_count": 9,
   "metadata": {},
   "outputs": [],
   "source": [
    "train_i_serif, val_i_serif, test_i_serif = get_idx_sampler(size_serif, split_test_serif, split_valid_serif)\n",
    "train_i_disp, val_i_disp, test_i_disp    = get_idx_sampler(size_display, split_test_display, split_valid_display)\n",
    "train_i_hand, val_i_hand, test_i_hand    = get_idx_sampler(size_handwriting, split_test_handwriting, split_valid_handwriting)"
   ]
  },
  {
   "cell_type": "code",
   "execution_count": 10,
   "metadata": {},
   "outputs": [
    {
     "name": "stdout",
     "output_type": "stream",
     "text": [
      "           train val test\n",
      "serif:        146 27 9\n",
      "display:      227 42 14\n",
      "handwriting:  112 21 7\n"
     ]
    }
   ],
   "source": [
    "print('           train val test')\n",
    "print('serif:       ', len(train_i_serif), len(val_i_serif), len(test_i_serif))\n",
    "print('display:     ', len(train_i_disp), len(val_i_disp), len(test_i_disp))\n",
    "print('handwriting: ', len(train_i_hand), len(val_i_hand), len(test_i_hand))"
   ]
  },
  {
   "cell_type": "markdown",
   "metadata": {},
   "source": [
    "위 갯수는 '폰트의 개수'를 의미한다. 이제 이미지가 담긴 폴더에서 해당 갯수만큼 추출해 별도의 폴더로 옮기자"
   ]
  },
  {
   "cell_type": "markdown",
   "metadata": {},
   "source": [
    "---\n",
    "## Separate folders\n"
   ]
  },
  {
   "cell_type": "code",
   "execution_count": 16,
   "metadata": {},
   "outputs": [],
   "source": [
    "from_dir = 'collection/img/' # + index\n",
    "to_dir = 'collection/img/'   # + train/val/test"
   ]
  },
  {
   "cell_type": "code",
   "execution_count": 12,
   "metadata": {},
   "outputs": [
    {
     "data": {
      "text/plain": [
       "9464"
      ]
     },
     "execution_count": 12,
     "metadata": {},
     "output_type": "execute_result"
    }
   ],
   "source": [
    "len(glob.glob('collection/img/0/*.png'))"
   ]
  },
  {
   "cell_type": "code",
   "execution_count": 13,
   "metadata": {},
   "outputs": [],
   "source": [
    "def move_img(cateIdx, purpose, fromDir, toDir, filename):\n",
    "    fromDir += str(cateIdx) + '/' + filename\n",
    "    toDir   += purpose + '/' + filename\n",
    "    shutil.move(fromDir, toDir)"
   ]
  },
  {
   "cell_type": "code",
   "execution_count": 23,
   "metadata": {},
   "outputs": [],
   "source": [
    "categories   = [0, 2, 3] # serif, display, handwriting\n",
    "purposes     = ['train', 'val', 'test']"
   ]
  },
  {
   "cell_type": "code",
   "execution_count": 21,
   "metadata": {},
   "outputs": [],
   "source": [
    "dict_params = {\n",
    "    0 : {\n",
    "        'train': len(train_i_serif),\n",
    "        'val'  : len(val_i_serif),\n",
    "        'test' : len(test_i_serif)\n",
    "    },\n",
    "    2 : {\n",
    "        'train': len(train_i_disp),\n",
    "        'val'  : len(val_i_disp),\n",
    "        'test' : len(test_i_disp)\n",
    "    },\n",
    "    3 : {\n",
    "        'train': len(train_i_hand),\n",
    "        'val'  : len(val_i_hand),\n",
    "        'test' : len(test_i_hand)\n",
    "    },\n",
    "}"
   ]
  },
  {
   "cell_type": "markdown",
   "metadata": {},
   "source": [
    "안전하게 따로 작업하자...ㅎ"
   ]
  },
  {
   "cell_type": "code",
   "execution_count": 86,
   "metadata": {},
   "outputs": [],
   "source": [
    "# spliting - Serif\n",
    "for purpose in purposes: # train, val, test\n",
    "    for (idx, img) in enumerate(sorted(glob.glob('collection/img/{}/*.png'.format(0)))): # sorted를 하면 정렬된다는 것을 잊고 살았다.\n",
    "        img_name = img[17:]\n",
    "        num_file = dict_params[0][purpose] * 52\n",
    "        move_img(0, purpose, from_dir, to_dir, img_name)\n",
    "        if idx+1 == num_file:\n",
    "            break"
   ]
  },
  {
   "cell_type": "code",
   "execution_count": 91,
   "metadata": {},
   "outputs": [],
   "source": [
    "# spliting - Display\n",
    "for purpose in purposes: # train, val, test\n",
    "    for (idx, img) in enumerate(sorted(glob.glob('collection/img/{}/*.png'.format(2)))):\n",
    "        img_name = img[17:]\n",
    "        num_file = dict_params[2][purpose] * 52\n",
    "        move_img(2, purpose, from_dir, to_dir, img_name)\n",
    "        if idx+1 == num_file:\n",
    "            break"
   ]
  },
  {
   "cell_type": "code",
   "execution_count": 95,
   "metadata": {},
   "outputs": [],
   "source": [
    "# spliting - Handwriting\n",
    "for purpose in purposes: # train, val, test\n",
    "    for (idx, img) in enumerate(sorted(glob.glob('collection/img/{}/*.png'.format(3)))):\n",
    "        img_name = img[17:]\n",
    "        num_file = dict_params[3][purpose] * 52\n",
    "        move_img(3, purpose, from_dir, to_dir, img_name)\n",
    "        if idx+1 == num_file:\n",
    "            break"
   ]
  },
  {
   "cell_type": "code",
   "execution_count": 103,
   "metadata": {},
   "outputs": [
    {
     "name": "stdout",
     "output_type": "stream",
     "text": [
      "485.0\n",
      "90.0\n",
      "30.0\n"
     ]
    }
   ],
   "source": [
    "# 개수 확인\n",
    "print(len(glob.glob('collection/img/train/*.png'))/52) # 146 + 227 + 112 = 485개 폰트\n",
    "print(len(glob.glob('collection/img/val/*.png'))/52)   # 27 + 42 + 21 = 90개 폰트\n",
    "print(len(glob.glob('collection/img/test/*.png'))/52)  # 9 + 14 + 7 = "
   ]
  },
  {
   "cell_type": "code",
   "execution_count": null,
   "metadata": {},
   "outputs": [],
   "source": []
  },
  {
   "cell_type": "code",
   "execution_count": null,
   "metadata": {},
   "outputs": [],
   "source": []
  },
  {
   "cell_type": "code",
   "execution_count": null,
   "metadata": {},
   "outputs": [],
   "source": []
  },
  {
   "cell_type": "code",
   "execution_count": null,
   "metadata": {},
   "outputs": [],
   "source": []
  },
  {
   "cell_type": "code",
   "execution_count": null,
   "metadata": {},
   "outputs": [],
   "source": []
  },
  {
   "cell_type": "code",
   "execution_count": null,
   "metadata": {},
   "outputs": [],
   "source": []
  },
  {
   "cell_type": "code",
   "execution_count": null,
   "metadata": {},
   "outputs": [],
   "source": []
  }
 ],
 "metadata": {
  "kernelspec": {
   "display_name": "Python 3",
   "language": "python",
   "name": "python3"
  },
  "language_info": {
   "codemirror_mode": {
    "name": "ipython",
    "version": 3
   },
   "file_extension": ".py",
   "mimetype": "text/x-python",
   "name": "python",
   "nbconvert_exporter": "python",
   "pygments_lexer": "ipython3",
   "version": "3.7.3"
  }
 },
 "nbformat": 4,
 "nbformat_minor": 4
}
