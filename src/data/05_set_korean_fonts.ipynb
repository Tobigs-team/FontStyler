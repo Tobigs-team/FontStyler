{
 "cells": [
  {
   "cell_type": "markdown",
   "metadata": {},
   "source": [
    "# Crawl Korean fonts\n",
    "\n",
    "한글 폰트를 대상으로 중간 실험을 하게 되었다. <br/>\n",
    "네이버 한글날 손글씨 폰트를 수집하여 테스트해보자. <br/>\n"
   ]
  },
  {
   "cell_type": "code",
   "execution_count": 43,
   "metadata": {},
   "outputs": [],
   "source": [
    "from time import sleep\n",
    "from tqdm import tqdm\n",
    "\n",
    "from selenium import webdriver\n",
    "from selenium.webdriver.chrome.options import Options\n",
    "from selenium.webdriver.common.keys import Keys\n",
    "from selenium.webdriver.support.ui import WebDriverWait\n",
    "from selenium.webdriver.common.action_chains import ActionChains\n",
    "from selenium.webdriver.common.by import By\n",
    "from selenium.webdriver.support import expected_conditions as EC\n",
    "\n",
    "from tqdm import tqdm\n",
    "\n",
    "import warnings\n",
    "warnings.filterwarnings('ignore')"
   ]
  },
  {
   "cell_type": "code",
   "execution_count": 29,
   "metadata": {},
   "outputs": [],
   "source": [
    "t = 0.5 # sleep time\n",
    "url = 'https://clova.ai/handwriting/list.html'\n",
    "download_link = 'https://ssl.pstatic.net/static/clova/service/clova_ai/event/handwriting/download/' # + 폰트명.ttf"
   ]
  },
  {
   "cell_type": "code",
   "execution_count": 45,
   "metadata": {},
   "outputs": [],
   "source": [
    "def font_crawler_kor():\n",
    "    options = webdriver.ChromeOptions()\n",
    "    CHROME_DIR = '/Users/youngerous/young/bin/chromedriver'\n",
    "    driver = webdriver.Chrome(CHROME_DIR, chrome_options=options)\n",
    "    driver.set_window_size(1800,1800)\n",
    "    driver.implicitly_wait(15)\n",
    "    driver.get(url)\n",
    "    sleep(t)\n",
    "    \n",
    "    body = driver.find_element_by_tag_name('body')\n",
    "    \n",
    "    # scroll down to the end\n",
    "    for i in range(5):\n",
    "        body.send_keys(Keys.CONTROL + Keys.END)\n",
    "        sleep(t*5)\n",
    "    \n",
    "    # move to the top of the page\n",
    "    body.send_keys(Keys.CONTROL + Keys.HOME)\n",
    "    sleep(t)\n",
    "\n",
    "    headers = {'User-Agent': 'Mozilla/5.0 (Macintosh; InteSl Mac O X 10_10_1) AppleWebKit/537.36 (KHTML, like Gecko) Chrome/39.0.2171.95 Safari/537.36'}\n",
    "    response = requests.get(url, headers=headers)\n",
    "    print('response code:', response.status_code)\n",
    "    sleep(t)\n",
    "    \n",
    "    # collect all font names\n",
    "    font_names = []\n",
    "    font_items = driver.find_elements_by_class_name('font_item')\n",
    "    for i in range(len(font_items)):\n",
    "        sleep(t)\n",
    "        font_names.append(font_items[i].text)\n",
    "    print('fonts: ', len(font_names))\n",
    "        \n",
    "    # download fonts\n",
    "    for i in tqdm(range(len(font_names))):\n",
    "        driver.get(download_link + font_names[i] + '.ttf')\n",
    "        sleep(t*2)\n",
    "    \n",
    "    sleep(5)\n",
    "    driver.quit()"
   ]
  },
  {
   "cell_type": "code",
   "execution_count": 46,
   "metadata": {},
   "outputs": [
    {
     "name": "stdout",
     "output_type": "stream",
     "text": [
      "response code: 200\n"
     ]
    },
    {
     "name": "stderr",
     "output_type": "stream",
     "text": [
      "  0%|          | 0/109 [00:00<?, ?it/s]"
     ]
    },
    {
     "name": "stdout",
     "output_type": "stream",
     "text": [
      "fonts:  109\n"
     ]
    },
    {
     "name": "stderr",
     "output_type": "stream",
     "text": [
      "100%|██████████| 109/109 [01:54<00:00,  1.05s/it]\n"
     ]
    }
   ],
   "source": [
    "font_crawler_kor() # 저장된 109개의 폰트는 gitignore로 처리하였습니다."
   ]
  },
  {
   "cell_type": "markdown",
   "metadata": {},
   "source": [
    "# Make img\n",
    "폰트 별로 구분하기 쉽도록 '닭'이라는 글자를 폰트별로 비교할 것이다."
   ]
  },
  {
   "cell_type": "code",
   "execution_count": 48,
   "metadata": {},
   "outputs": [],
   "source": [
    "import os\n",
    "import shutil\n",
    "\n",
    "from PIL import Image,ImageDraw,ImageFont"
   ]
  },
  {
   "cell_type": "code",
   "execution_count": 56,
   "metadata": {},
   "outputs": [],
   "source": [
    "path = './collection/fonts_kor/'"
   ]
  },
  {
   "cell_type": "code",
   "execution_count": 53,
   "metadata": {},
   "outputs": [],
   "source": [
    "fonts = [name for name in os.listdir(path) if name != '.DS_Store']"
   ]
  },
  {
   "cell_type": "code",
   "execution_count": 59,
   "metadata": {},
   "outputs": [
    {
     "data": {
      "text/plain": [
       "['나눔손글씨 성실체.ttf',\n",
       " '나눔손글씨 몽돌.ttf',\n",
       " '나눔손글씨 다시 시작해.ttf',\n",
       " '나눔손글씨 둥근인연.ttf',\n",
       " '나눔손글씨 혁이체.ttf',\n",
       " '나눔손글씨 행복한 도비.ttf',\n",
       " '나눔손글씨 바른히피.ttf',\n",
       " '나눔손글씨 손편지체.ttf',\n",
       " '나눔손글씨 희망누리.ttf',\n",
       " '나눔손글씨 백의의 천사.ttf',\n",
       " '나눔손글씨 달의궤도.ttf',\n",
       " '나눔손글씨 아줌마 자유.ttf',\n",
       " '나눔손글씨 세화체.ttf',\n",
       " '나눔손글씨 다채사랑.ttf',\n",
       " '나눔손글씨 하람체.ttf',\n",
       " '나눔손글씨 따악단단.ttf',\n",
       " '나눔손글씨 나의 아내 손글씨.ttf',\n",
       " '나눔손글씨 우리딸 손글씨.ttf',\n",
       " '나눔손글씨 사랑해 아들.ttf',\n",
       " '나눔손글씨 시우 귀여워.ttf',\n",
       " '나눔손글씨 고려글꼴.ttf',\n",
       " '나눔손글씨 갈맷글.ttf',\n",
       " '나눔손글씨 가람연꽃.ttf',\n",
       " '나눔손글씨 정은체.ttf',\n",
       " '나눔손글씨 무궁화.ttf',\n",
       " '나눔손글씨 힘내라는 말보단.ttf',\n",
       " '나눔손글씨 상해찬미체.ttf',\n",
       " '나눔손글씨 따뜻한 작별.ttf',\n",
       " '나눔손글씨 강인한 위로.ttf',\n",
       " '나눔손글씨 진주 박경아체.ttf',\n",
       " '나눔손글씨 엄마사랑.ttf',\n",
       " '나눔손글씨 세아체.ttf',\n",
       " '나눔손글씨 하나손글씨.ttf',\n",
       " '나눔손글씨 혜준체.ttf',\n",
       " '나눔손글씨 북극성.ttf',\n",
       " '나눔손글씨 유니 띵땅띵땅.ttf',\n",
       " '나눔손글씨 왼손잡이도 예뻐.ttf',\n",
       " '나눔손글씨 외할머니글씨.ttf',\n",
       " '나눔손글씨 자부심지우.ttf',\n",
       " '나눔손글씨 코코체.ttf',\n",
       " '나눔손글씨 효남 늘 화이팅.ttf',\n",
       " '나눔손글씨 칼국수.ttf',\n",
       " '나눔손글씨 미래나무.ttf',\n",
       " '나눔손글씨 강부장님체.ttf',\n",
       " '나눔손글씨 중학생.ttf',\n",
       " '나눔손글씨 나무정원.ttf',\n",
       " '나눔손글씨 무진장체.ttf',\n",
       " '나눔손글씨 점꼴체.ttf',\n",
       " '나눔손글씨 마고체.ttf',\n",
       " '나눔손글씨 대광유리.ttf',\n",
       " '나눔손글씨 배은혜체.ttf',\n",
       " '나눔손글씨 잘하고 있어.ttf',\n",
       " '나눔손글씨 소방관의 기도.ttf',\n",
       " '나눔손글씨 비상체.ttf',\n",
       " '나눔손글씨 느릿느릿체.ttf',\n",
       " '나눔손글씨 꽃내음.ttf',\n",
       " '나눔손글씨 아빠의 연애편지.ttf',\n",
       " '나눔손글씨 아인맘 손글씨.ttf',\n",
       " '나눔손글씨 빵구니맘 손글씨.ttf',\n",
       " '나눔손글씨 고딕 아니고 고딩.ttf',\n",
       " '나눔손글씨 옥비체.ttf',\n",
       " '나눔손글씨 반짝반짝 별.ttf',\n",
       " '나눔손글씨 흰꼬리수리.ttf',\n",
       " '나눔손글씨 끄트머리체.ttf',\n",
       " '나눔손글씨 수줍은 대학생.ttf',\n",
       " '나눔손글씨 초딩희망.ttf',\n",
       " '나눔손글씨 와일드.ttf',\n",
       " '나눔손글씨 한윤체.ttf',\n",
       " '나눔손글씨 금은보화.ttf',\n",
       " '나눔손글씨 열아홉의 반짝임.ttf',\n",
       " '나눔손글씨 야채장수 백금례.ttf',\n",
       " '나눔손글씨 규리의 일기.ttf',\n",
       " '나눔손글씨 소미체.ttf',\n",
       " '나눔손글씨 예쁜 민경체.ttf',\n",
       " '나눔손글씨 동화또박.ttf',\n",
       " '나눔손글씨 나는 이겨낸다.ttf',\n",
       " '나눔손글씨 하나되어 손글씨.ttf',\n",
       " '나눔손글씨 엉겅퀴체.ttf',\n",
       " '나눔손글씨 버드나무.ttf',\n",
       " '나눔손글씨 맛있는체.ttf',\n",
       " '나눔손글씨 야근하는 김주임.ttf',\n",
       " '나눔손글씨 아기사랑체.ttf',\n",
       " '나눔손글씨 암스테르담.ttf',\n",
       " '나눔손글씨 다행체.ttf',\n",
       " '나눔손글씨 아빠글씨.ttf',\n",
       " '나눔손글씨 연지체.ttf',\n",
       " '나눔손글씨 범솜체.ttf',\n",
       " '나눔손글씨 바른정신.ttf',\n",
       " '나눔손글씨 아름드리 꽃나무.ttf',\n",
       " '나눔손글씨 신혼부부.ttf',\n",
       " '나눔손글씨 미니 손글씨.ttf',\n",
       " '나눔손글씨 김유이체.ttf',\n",
       " '나눔손글씨 노력하는 동희.ttf',\n",
       " '나눔손글씨 기쁨밝음.ttf',\n",
       " '나눔손글씨 딸에게 엄마가.ttf',\n",
       " '나눔손글씨 대한민국 열사체.ttf',\n",
       " '나눔손글씨 열일체.ttf',\n",
       " '나눔손글씨 다진체.ttf',\n",
       " '나눔손글씨 안쌍체.ttf',\n",
       " '나눔손글씨 부장님 눈치체.ttf',\n",
       " '나눔손글씨 예당체.ttf',\n",
       " '나눔손글씨 여름글씨.ttf',\n",
       " '나눔손글씨 장미체.ttf',\n",
       " '나눔손글씨 철필글씨.ttf',\n",
       " '나눔손글씨 할아버지의나눔.ttf',\n",
       " '나눔손글씨 또박또박.ttf',\n",
       " '나눔손글씨 의미있는 한글.ttf',\n",
       " '나눔손글씨 곰신체.ttf',\n",
       " '나눔손글씨 세계적인 한글.ttf']"
      ]
     },
     "execution_count": 59,
     "metadata": {},
     "output_type": "execute_result"
    }
   ],
   "source": [
    "fonts # 총 폰트 (109개)"
   ]
  },
  {
   "cell_type": "code",
   "execution_count": 47,
   "metadata": {},
   "outputs": [],
   "source": [
    "word = '닭'\n",
    "canvas_size = 128"
   ]
  },
  {
   "cell_type": "code",
   "execution_count": 61,
   "metadata": {},
   "outputs": [],
   "source": [
    "def save_font_word(word, canvas_size, font_style, file_name):\n",
    "    canvas = Image.new('L', (canvas_size, canvas_size), color=255)\n",
    "    draw = ImageDraw.Draw(canvas)\n",
    "    \n",
    "    font_style = './collection/fonts_kor/' + font_style\n",
    "    try:\n",
    "        font = ImageFont.truetype(font_style, size=80) # 150\n",
    "        w, h = draw.textsize(word, font=font)    \n",
    "        draw.text(((canvas_size-w)/2,(canvas_size-h)/5), word, fill=(0), font=font)\n",
    "\n",
    "        canvas.save(file_name, \"PNG\")\n",
    "    except Exception as e:\n",
    "        print(font_style + '(' + word + ')' + ' : ' + str(e))"
   ]
  },
  {
   "cell_type": "code",
   "execution_count": 63,
   "metadata": {},
   "outputs": [
    {
     "name": "stdout",
     "output_type": "stream",
     "text": [
      "./collection/fonts_kor/나눔손글씨 하나손글씨.ttf(닭) : too many function definitions\n",
      "./collection/fonts_kor/나눔손글씨 동화또박.ttf(닭) : too many function definitions\n"
     ]
    }
   ],
   "source": [
    "for (idx, style) in enumerate(fonts):\n",
    "    filename = './collection/img_kor/'+style[:-4]+'.png'\n",
    "    save_font_word(word, canvas_size, style, filename)"
   ]
  },
  {
   "cell_type": "markdown",
   "metadata": {},
   "source": [
    "> 2개의 폰트를 제외한 총 107개의 폰트 이미지 생성\n"
   ]
  },
  {
   "cell_type": "markdown",
   "metadata": {},
   "source": [
    "# 이미지를 obj 확장자로 변환"
   ]
  },
  {
   "cell_type": "code",
   "execution_count": null,
   "metadata": {},
   "outputs": [],
   "source": []
  },
  {
   "cell_type": "code",
   "execution_count": null,
   "metadata": {},
   "outputs": [],
   "source": []
  }
 ],
 "metadata": {
  "kernelspec": {
   "display_name": "Python 3",
   "language": "python",
   "name": "python3"
  },
  "language_info": {
   "codemirror_mode": {
    "name": "ipython",
    "version": 3
   },
   "file_extension": ".py",
   "mimetype": "text/x-python",
   "name": "python",
   "nbconvert_exporter": "python",
   "pygments_lexer": "ipython3",
   "version": "3.7.3"
  }
 },
 "nbformat": 4,
 "nbformat_minor": 4
}
