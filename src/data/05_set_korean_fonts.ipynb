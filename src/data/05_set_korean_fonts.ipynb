{
 "cells": [
  {
   "cell_type": "markdown",
   "metadata": {},
   "source": [
    "# Crawl Korean fonts\n",
    "\n",
    "한글 폰트를 대상으로 중간 실험을 하게 되었다. <br/>\n",
    "네이버 한글날 손글씨 폰트를 수집하여 테스트해보자. <br/>\n"
   ]
  },
  {
   "cell_type": "code",
   "execution_count": 43,
   "metadata": {},
   "outputs": [],
   "source": [
    "from time import sleep\n",
    "from tqdm import tqdm\n",
    "\n",
    "from selenium import webdriver\n",
    "from selenium.webdriver.chrome.options import Options\n",
    "from selenium.webdriver.common.keys import Keys\n",
    "from selenium.webdriver.support.ui import WebDriverWait\n",
    "from selenium.webdriver.common.action_chains import ActionChains\n",
    "from selenium.webdriver.common.by import By\n",
    "from selenium.webdriver.support import expected_conditions as EC\n",
    "\n",
    "from tqdm import tqdm\n",
    "\n",
    "import warnings\n",
    "warnings.filterwarnings('ignore')"
   ]
  },
  {
   "cell_type": "code",
   "execution_count": 29,
   "metadata": {},
   "outputs": [],
   "source": [
    "t = 0.5 # sleep time\n",
    "url = 'https://clova.ai/handwriting/list.html'\n",
    "download_link = 'https://ssl.pstatic.net/static/clova/service/clova_ai/event/handwriting/download/' # + 폰트명.ttf"
   ]
  },
  {
   "cell_type": "code",
   "execution_count": 45,
   "metadata": {},
   "outputs": [],
   "source": [
    "def font_crawler_kor():\n",
    "    options = webdriver.ChromeOptions()\n",
    "    CHROME_DIR = '/Users/youngerous/young/bin/chromedriver'\n",
    "    driver = webdriver.Chrome(CHROME_DIR, chrome_options=options)\n",
    "    driver.set_window_size(1800,1800)\n",
    "    driver.implicitly_wait(15)\n",
    "    driver.get(url)\n",
    "    sleep(t)\n",
    "    \n",
    "    body = driver.find_element_by_tag_name('body')\n",
    "    \n",
    "    # scroll down to the end\n",
    "    for i in range(5):\n",
    "        body.send_keys(Keys.CONTROL + Keys.END)\n",
    "        sleep(t*5)\n",
    "    \n",
    "    # move to the top of the page\n",
    "    body.send_keys(Keys.CONTROL + Keys.HOME)\n",
    "    sleep(t)\n",
    "\n",
    "    headers = {'User-Agent': 'Mozilla/5.0 (Macintosh; InteSl Mac O X 10_10_1) AppleWebKit/537.36 (KHTML, like Gecko) Chrome/39.0.2171.95 Safari/537.36'}\n",
    "    response = requests.get(url, headers=headers)\n",
    "    print('response code:', response.status_code)\n",
    "    sleep(t)\n",
    "    \n",
    "    # collect all font names\n",
    "    font_names = []\n",
    "    font_items = driver.find_elements_by_class_name('font_item')\n",
    "    for i in range(len(font_items)):\n",
    "        sleep(t)\n",
    "        font_names.append(font_items[i].text)\n",
    "    print('fonts: ', len(font_names))\n",
    "        \n",
    "    # download fonts\n",
    "    for i in tqdm(range(len(font_names))):\n",
    "        driver.get(download_link + font_names[i] + '.ttf')\n",
    "        sleep(t*2)\n",
    "    \n",
    "    sleep(5)\n",
    "    driver.quit()"
   ]
  },
  {
   "cell_type": "code",
   "execution_count": 46,
   "metadata": {},
   "outputs": [
    {
     "name": "stdout",
     "output_type": "stream",
     "text": [
      "response code: 200\n"
     ]
    },
    {
     "name": "stderr",
     "output_type": "stream",
     "text": [
      "  0%|          | 0/109 [00:00<?, ?it/s]"
     ]
    },
    {
     "name": "stdout",
     "output_type": "stream",
     "text": [
      "fonts:  109\n"
     ]
    },
    {
     "name": "stderr",
     "output_type": "stream",
     "text": [
      "100%|██████████| 109/109 [01:54<00:00,  1.05s/it]\n"
     ]
    }
   ],
   "source": [
    "font_crawler_kor() # 저장된 109개의 폰트는 gitignore로 처리하였습니다."
   ]
  },
  {
   "cell_type": "markdown",
   "metadata": {},
   "source": [
    "# Make img\n",
    "폰트 별로 구분하기 쉽도록 '닭'이라는 글자를 폰트별로 비교할 것이다."
   ]
  },
  {
   "cell_type": "code",
   "execution_count": null,
   "metadata": {},
   "outputs": [],
   "source": []
  },
  {
   "cell_type": "code",
   "execution_count": null,
   "metadata": {},
   "outputs": [],
   "source": []
  },
  {
   "cell_type": "code",
   "execution_count": null,
   "metadata": {},
   "outputs": [],
   "source": []
  },
  {
   "cell_type": "code",
   "execution_count": null,
   "metadata": {},
   "outputs": [],
   "source": []
  },
  {
   "cell_type": "code",
   "execution_count": null,
   "metadata": {},
   "outputs": [],
   "source": []
  },
  {
   "cell_type": "code",
   "execution_count": null,
   "metadata": {},
   "outputs": [],
   "source": []
  }
 ],
 "metadata": {
  "kernelspec": {
   "display_name": "Python 3",
   "language": "python",
   "name": "python3"
  },
  "language_info": {
   "codemirror_mode": {
    "name": "ipython",
    "version": 3
   },
   "file_extension": ".py",
   "mimetype": "text/x-python",
   "name": "python",
   "nbconvert_exporter": "python",
   "pygments_lexer": "ipython3",
   "version": "3.7.3"
  }
 },
 "nbformat": 4,
 "nbformat_minor": 4
}
