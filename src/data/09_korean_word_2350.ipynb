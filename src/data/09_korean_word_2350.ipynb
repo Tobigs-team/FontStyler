{
 "cells": [
  {
   "cell_type": "markdown",
   "metadata": {},
   "source": [
    "# Korean word 2350\n",
    "총 두 종류의 Dataset Class를 만들 것이다.\n",
    "\n",
    "### 1. 학습 input으로 사용할 Dataset\n",
    "기존 알파벳 클래스와 동일한 형태이다.\n",
    "\n",
    "- info (Category, Font, Alphbet Vector)\n",
    "- Normalized Image Vector\n",
    "- Length\n",
    "- 폰트마다 카테고리가 정해진 후 만들 것\n",
    "\n",
    "---\n",
    "\n",
    "\n",
    "### 2. 다용도로 사용될 Dataset (임베딩 등)\n",
    "\n",
    "- Image Vector\n",
    "- Label (예: 102 index / one-hot)\n",
    "- split 없이 2350의 길이를 갖는 데이터셋\n",
    "- 107 * 2350 = 251450개가 만들어질 것\n",
    "- 파일 이름은 '{폰트 인덱스}_{글자 인덱스}' <br/>\n",
    "    예) 108_2340.png"
   ]
  },
  {
   "cell_type": "code",
   "execution_count": 1,
   "metadata": {},
   "outputs": [],
   "source": [
    "import os\n",
    "import glob"
   ]
  },
  {
   "cell_type": "code",
   "execution_count": 2,
   "metadata": {},
   "outputs": [],
   "source": [
    "words = []\n",
    "with open('./dataset/kor/korean_2350.txt', 'r', encoding='cp949') as f:\n",
    "    kor_words = f.read()\n",
    "    for kor_word in kor_words:\n",
    "        words.append(kor_word)"
   ]
  },
  {
   "cell_type": "code",
   "execution_count": 3,
   "metadata": {},
   "outputs": [],
   "source": [
    "words = sorted(words)"
   ]
  },
  {
   "cell_type": "code",
   "execution_count": 4,
   "metadata": {},
   "outputs": [
    {
     "data": {
      "text/plain": [
       "['가', '각', '간', '갇', '갈', '갉', '갊', '감', '갑', '값']"
      ]
     },
     "execution_count": 4,
     "metadata": {},
     "output_type": "execute_result"
    }
   ],
   "source": [
    "words[:10]"
   ]
  },
  {
   "cell_type": "code",
   "execution_count": 5,
   "metadata": {},
   "outputs": [
    {
     "data": {
      "text/plain": [
       "2350"
      ]
     },
     "execution_count": 5,
     "metadata": {},
     "output_type": "execute_result"
    }
   ],
   "source": [
    "len(words)"
   ]
  },
  {
   "cell_type": "code",
   "execution_count": 6,
   "metadata": {},
   "outputs": [],
   "source": [
    "fonts = []\n",
    "for font in glob.glob('collection/fonts_kor/*.ttf'):\n",
    "    fonts.append(font[21:])"
   ]
  },
  {
   "cell_type": "code",
   "execution_count": 7,
   "metadata": {},
   "outputs": [],
   "source": [
    "fonts = sorted(fonts)"
   ]
  },
  {
   "cell_type": "code",
   "execution_count": 8,
   "metadata": {},
   "outputs": [
    {
     "data": {
      "text/plain": [
       "['나눔손글씨 가람연꽃.ttf',\n",
       " '나눔손글씨 갈맷글.ttf',\n",
       " '나눔손글씨 강부장님체.ttf',\n",
       " '나눔손글씨 강인한 위로.ttf',\n",
       " '나눔손글씨 고딕 아니고 고딩.ttf',\n",
       " '나눔손글씨 고려글꼴.ttf',\n",
       " '나눔손글씨 곰신체.ttf',\n",
       " '나눔손글씨 규리의 일기.ttf',\n",
       " '나눔손글씨 금은보화.ttf',\n",
       " '나눔손글씨 기쁨밝음.ttf']"
      ]
     },
     "execution_count": 8,
     "metadata": {},
     "output_type": "execute_result"
    }
   ],
   "source": [
    "fonts[:10]"
   ]
  },
  {
   "cell_type": "code",
   "execution_count": 9,
   "metadata": {},
   "outputs": [
    {
     "data": {
      "text/plain": [
       "109"
      ]
     },
     "execution_count": 9,
     "metadata": {},
     "output_type": "execute_result"
    }
   ],
   "source": [
    "len(fonts)"
   ]
  },
  {
   "cell_type": "code",
   "execution_count": 18,
   "metadata": {},
   "outputs": [],
   "source": [
    "# 하나손글씨, 동화또박 제거\n",
    "fonts.remove('나눔손글씨 동화또박.ttf')\n",
    "fonts.remove('나눔손글씨 하나손글씨.ttf')"
   ]
  },
  {
   "cell_type": "code",
   "execution_count": 24,
   "metadata": {},
   "outputs": [
    {
     "data": {
      "text/plain": [
       "107"
      ]
     },
     "execution_count": 24,
     "metadata": {},
     "output_type": "execute_result"
    }
   ],
   "source": [
    "len(fonts)"
   ]
  },
  {
   "cell_type": "markdown",
   "metadata": {},
   "source": [
    "### 폰트별 이미지 생성"
   ]
  },
  {
   "cell_type": "code",
   "execution_count": 26,
   "metadata": {},
   "outputs": [],
   "source": [
    "from PIL import Image,ImageDraw,ImageFont"
   ]
  },
  {
   "cell_type": "code",
   "execution_count": 25,
   "metadata": {},
   "outputs": [],
   "source": [
    "def save_kor_font_word(word, canvas_size, font_style, file_name):\n",
    "    canvas = Image.new('L', (canvas_size, canvas_size), color=255)\n",
    "    draw = ImageDraw.Draw(canvas)\n",
    "    \n",
    "    font_style = './collection/fonts_kor/' + font_style\n",
    "    try:\n",
    "        font = ImageFont.truetype(font_style, size=80) # 150\n",
    "        w, h = draw.textsize(word, font=font)    \n",
    "        draw.text(((canvas_size-w)/2,(canvas_size-h)/5), word, fill=(0), font=font)\n",
    "\n",
    "        canvas.save(file_name, \"PNG\")\n",
    "    except Exception as e:\n",
    "        print(font_style + '(' + word + ')' + ' : ' + str(e))"
   ]
  },
  {
   "cell_type": "code",
   "execution_count": 27,
   "metadata": {},
   "outputs": [],
   "source": [
    "canvas_size = 128\n",
    "for (idx, font) in enumerate(fonts):\n",
    "    for (jdx, word) in enumerate(words):\n",
    "        filename = './collection/img/korean/{}_{}.png'.format(idx, jdx)\n",
    "        save_kor_font_word(word, canvas_size, font, filename)"
   ]
  },
  {
   "cell_type": "code",
   "execution_count": 29,
   "metadata": {},
   "outputs": [
    {
     "data": {
      "text/plain": [
       "251450"
      ]
     },
     "execution_count": 29,
     "metadata": {},
     "output_type": "execute_result"
    }
   ],
   "source": [
    "len(glob.glob('./collection/img/korean/*.png')) # 107*2350"
   ]
  },
  {
   "cell_type": "markdown",
   "metadata": {},
   "source": []
  }
 ],
 "metadata": {
  "kernelspec": {
   "display_name": "Python 3",
   "language": "python",
   "name": "python3"
  },
  "language_info": {
   "codemirror_mode": {
    "name": "ipython",
    "version": 3
   },
   "file_extension": ".py",
   "mimetype": "text/x-python",
   "name": "python",
   "nbconvert_exporter": "python",
   "pygments_lexer": "ipython3",
   "version": "3.7.3"
  }
 },
 "nbformat": 4,
 "nbformat_minor": 4
}
