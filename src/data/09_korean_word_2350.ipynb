{
 "cells": [
  {
   "cell_type": "markdown",
   "metadata": {},
   "source": [
    "# Korean word 2350\n",
    "총 두 종류의 Dataset Class를 만들 것이다.\n",
    "\n",
    "### 1. 학습 input으로 사용할 Dataset\n",
    "기존 알파벳 클래스와 동일한 형태이다.\n",
    "\n",
    "- info (Category, Font, Alphbet Vector)\n",
    "- Normalized Image Vector\n",
    "- Length\n",
    "\n",
    "\n",
    "### 2. 다용도로 사용될 Dataset (임베딩 등)\n",
    "\n",
    "- Image Vector\n",
    "- Label (예: 102 index / one-hot)\n",
    "- split 없이 2350의 길이를 갖는 데이터셋"
   ]
  },
  {
   "cell_type": "code",
   "execution_count": 33,
   "metadata": {},
   "outputs": [],
   "source": [
    "words = []"
   ]
  },
  {
   "cell_type": "code",
   "execution_count": 34,
   "metadata": {},
   "outputs": [],
   "source": [
    "with open('./dataset/kor/korean_2350.txt', 'r', encoding='cp949') as f:\n",
    "    kor_words = f.read()\n",
    "    for kor_word in kor_words:\n",
    "        words.append(kor_word)"
   ]
  },
  {
   "cell_type": "code",
   "execution_count": 35,
   "metadata": {},
   "outputs": [
    {
     "data": {
      "text/plain": [
       "2350"
      ]
     },
     "execution_count": 35,
     "metadata": {},
     "output_type": "execute_result"
    }
   ],
   "source": [
    "len(words)"
   ]
  },
  {
   "cell_type": "code",
   "execution_count": null,
   "metadata": {},
   "outputs": [],
   "source": []
  }
 ],
 "metadata": {
  "kernelspec": {
   "display_name": "Python 3",
   "language": "python",
   "name": "python3"
  },
  "language_info": {
   "codemirror_mode": {
    "name": "ipython",
    "version": 3
   },
   "file_extension": ".py",
   "mimetype": "text/x-python",
   "name": "python",
   "nbconvert_exporter": "python",
   "pygments_lexer": "ipython3",
   "version": "3.7.3"
  }
 },
 "nbformat": 4,
 "nbformat_minor": 4
}
