{
 "cells": [
  {
   "cell_type": "markdown",
   "metadata": {},
   "source": [
    "# Crawling Fonts\n",
    "\n",
    "- Categories\n",
    "    1. Serif\n",
    "    2. Sans Serif\n",
    "    3. Display\n",
    "    4. Handwriting\n",
    "    5. Monospace"
   ]
  },
  {
   "cell_type": "code",
   "execution_count": 20,
   "metadata": {},
   "outputs": [],
   "source": [
    "from time import sleep\n",
    "from bs4 import BeautifulSoup as bs\n",
    "\n",
    "from selenium import webdriver\n",
    "from selenium.webdriver.chrome.options import Options\n",
    "from selenium.webdriver.common.keys import Keys\n",
    "from selenium.webdriver.support.ui import WebDriverWait\n",
    "from tqdm import tqdm\n",
    "\n",
    "import warnings\n",
    "warnings.filterwarnings('ignore')"
   ]
  },
  {
   "cell_type": "code",
   "execution_count": 21,
   "metadata": {},
   "outputs": [],
   "source": [
    "## 아래 함수를 실행하기 전에 먼저 실행해야 합니다.\n",
    "options = Options()\n",
    "CHROME_DIR = '/Users/youngerous/young/bin/chromedriver'\n",
    "driver = webdriver.Chrome(CHROME_DIR, chrome_options=options)"
   ]
  },
  {
   "cell_type": "code",
   "execution_count": 24,
   "metadata": {},
   "outputs": [],
   "source": [
    "time = 0.3"
   ]
  },
  {
   "cell_type": "code",
   "execution_count": 16,
   "metadata": {},
   "outputs": [],
   "source": [
    "def font_crawler(category):\n",
    "    driver.set_window_size(2000,1000) # 반응형 grid이기 때문에 넓이를 충분히 잡았습니다.\n",
    "    driver.implicitly_wait(15)\n",
    "    driver.get('https://fonts.google.com/?subset=latin&category='+category)\n",
    "    sleep(time)\n",
    "    \n",
    "    body = driver.find_element_by_tag_name('body')\n",
    "    \n",
    "    counts = driver.find_element_by_class_name('grid-list-results-count-value').text\n",
    "    print('폰트 개수: ', counts)\n",
    "    \n",
    "    ## 동적 페이지이기 때문에 최하단까지 스크롤합니다.\n",
    "    for i in range(40):\n",
    "        body.send_keys(Keys.PAGE_DOWN)\n",
    "        sleep(time)\n",
    "        \n",
    "    btns = driver.find_elements_by_class_name('selection-toggle-frame-mask')\n",
    "    print('버튼 개수: ', len(btns)) # 폰트 개수와 같아야 합니다.\n",
    "    sleep(3)\n",
    "    \n",
    "    ## 아래에서부터 폰트를 선택하면서 최상단으로 올라갑니다.\n",
    "    for i in range(len(btns)):\n",
    "        btns[len(btns)-i-1].click()\n",
    "        sleep(time*2)\n",
    "        if (i+1) % 4 == 0:\n",
    "            driver.execute_script('window.scrollBy(0, -330)')\n",
    "            sleep(3)\n",
    "            \n",
    "    sleep(time*10)"
   ]
  },
  {
   "cell_type": "markdown",
   "metadata": {},
   "source": [
    "### 폰트 수집 코드"
   ]
  },
  {
   "cell_type": "code",
   "execution_count": 17,
   "metadata": {},
   "outputs": [
    {
     "name": "stdout",
     "output_type": "stream",
     "text": [
      "폰트 개수:  192\n",
      "버튼 개수:  192\n"
     ]
    }
   ],
   "source": [
    "font_crawler(categories[0]) # Serif"
   ]
  },
  {
   "cell_type": "code",
   "execution_count": null,
   "metadata": {},
   "outputs": [],
   "source": [
    "font_crawler(categories[1]) # Sans Serif"
   ]
  },
  {
   "cell_type": "code",
   "execution_count": null,
   "metadata": {},
   "outputs": [],
   "source": [
    "font_crawler(categories[2]) # Display"
   ]
  },
  {
   "cell_type": "code",
   "execution_count": null,
   "metadata": {},
   "outputs": [],
   "source": [
    "font_crawler(categories[3]) # Handwriting"
   ]
  },
  {
   "cell_type": "code",
   "execution_count": 22,
   "metadata": {},
   "outputs": [
    {
     "name": "stdout",
     "output_type": "stream",
     "text": [
      "폰트 개수:  20\n",
      "버튼 개수:  20\n"
     ]
    }
   ],
   "source": [
    "font_crawler(categories[4]) # Monospace"
   ]
  },
  {
   "cell_type": "code",
   "execution_count": 23,
   "metadata": {},
   "outputs": [],
   "source": [
    "driver.quit() # 마지막에 이 코드를 실행시켜 브라우저를 완전히 종료합니다."
   ]
  },
  {
   "cell_type": "markdown",
   "metadata": {},
   "source": [
    "### 사용법\n",
    "- 함수 실행 전에 두 번째 셀을 먼저 실행한다.\n",
    "- 각 카테고리를 인자로 함수를 실행하면 카테고리에 해당되는 모든 폰트가 선택된 상태를 제공한다.\n",
    "\n",
    "---\n",
    "\n",
    "### Issue\n",
    "- 한 번에 다운로드받을 수 있는 폰트의 크기는 10MB이라 한 번에 받을 수 없다(흑흑)."
   ]
  }
 ],
 "metadata": {
  "kernelspec": {
   "display_name": "Python 3",
   "language": "python",
   "name": "python3"
  },
  "language_info": {
   "codemirror_mode": {
    "name": "ipython",
    "version": 3
   },
   "file_extension": ".py",
   "mimetype": "text/x-python",
   "name": "python",
   "nbconvert_exporter": "python",
   "pygments_lexer": "ipython3",
   "version": "3.7.3"
  }
 },
 "nbformat": 4,
 "nbformat_minor": 4
}
