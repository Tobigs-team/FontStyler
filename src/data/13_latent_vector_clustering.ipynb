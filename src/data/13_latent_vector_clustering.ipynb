{
 "cells": [
  {
   "cell_type": "markdown",
   "metadata": {
    "colab_type": "text",
    "id": "Q-S3YnBlhPKT"
   },
   "source": [
    "# Latent Vector Clustering\n",
    "\n",
    "1. 학습한 모델에서 나온 128차원 벡터를 클러스터링할 것이다.\n",
    "2. 같은 클러스터끼리 동일한 색으로 표시하여 2차원에 나타낼 것이다.\n",
    "3. 클러스터별 글자 모양을 확인할 것이다."
   ]
  },
  {
   "cell_type": "code",
   "execution_count": null,
   "metadata": {
    "colab": {
     "base_uri": "https://localhost:8080/",
     "height": 124
    },
    "colab_type": "code",
    "id": "zFk6afxxhVo-",
    "outputId": "2c4fd567-adc7-4cad-eea8-7ba345207584"
   },
   "outputs": [
    {
     "name": "stdout",
     "output_type": "stream",
     "text": [
      "Go to this URL in a browser: https://accounts.google.com/o/oauth2/auth?client_id=947318989803-6bn6qk8qdgf4n4g3pfee6491hc0brc4i.apps.googleusercontent.com&redirect_uri=urn%3aietf%3awg%3aoauth%3a2.0%3aoob&response_type=code&scope=email%20https%3a%2f%2fwww.googleapis.com%2fauth%2fdocs.test%20https%3a%2f%2fwww.googleapis.com%2fauth%2fdrive%20https%3a%2f%2fwww.googleapis.com%2fauth%2fdrive.photos.readonly%20https%3a%2f%2fwww.googleapis.com%2fauth%2fpeopleapi.readonly\n",
      "\n",
      "Enter your authorization code:\n",
      "··········\n",
      "Mounted at /content/drive\n"
     ]
    }
   ],
   "source": [
    "from google.colab import drive\n",
    "drive.mount('/content/drive')"
   ]
  },
  {
   "cell_type": "code",
   "execution_count": null,
   "metadata": {
    "colab": {},
    "colab_type": "code",
    "id": "NmrHZRTJhaHK"
   },
   "outputs": [],
   "source": [
    "import sys\n",
    "sys.path.insert(0, '/content/drive/My Drive/Colab Notebooks/FontStyler/src/data/')"
   ]
  },
  {
   "cell_type": "code",
   "execution_count": null,
   "metadata": {
    "colab": {},
    "colab_type": "code",
    "id": "Bj64ioanhPKV"
   },
   "outputs": [],
   "source": [
    "import numpy as np\n",
    "import os\n",
    "import io\n",
    "import csv\n",
    "from common.dataset import PickledImageProvider\n",
    "from common.dataset import KoreanFontDataset\n",
    "from common.utils import pad_seq, bytes_to_file, \\\n",
    "    read_split_image, shift_and_resize_image, normalize_image, \\\n",
    "    tight_crop_image, add_padding\n",
    "\n",
    "import matplotlib.pyplot as plt\n",
    "%matplotlib inline"
   ]
  },
  {
   "cell_type": "code",
   "execution_count": null,
   "metadata": {
    "colab": {},
    "colab_type": "code",
    "id": "1XThV7jxhPKl"
   },
   "outputs": [],
   "source": [
    "from PIL import Image\n",
    "import os\n",
    "import os.path\n",
    "\n",
    "import torch.utils.data\n",
    "import torchvision.transforms as transforms\n",
    "\n",
    "def default_image_loader(path):\n",
    "    return Image.open(path).convert('RGB')\n",
    "\n",
    "class TripletImageLoader(torch.utils.data.Dataset): \n",
    "    def __init__(self, pickled, triplets_file_name, base_path=None, filenames_filename=None, transform=None,\n",
    "                 loader=default_image_loader):\n",
    "        \"\"\" \n",
    "        filenames_filename: \n",
    "            A text file with each line containing the path to an image e.g.,\n",
    "            images/class1/sample.jpg\n",
    "                \n",
    "        triplets_file_name: \n",
    "            A text file with each line containing three integers, \n",
    "            where integer i refers to the i-th image in the filenames file. \n",
    "            For a line of intergers 'a b c', a triplet is defined such that image a is more \n",
    "            similar to image c than it is to image b, \n",
    "            e.g., 0 2017 42 \n",
    "        \"\"\"\n",
    "        self.dset = pickled.examples\n",
    "#         self.base_path = base_path  \n",
    "#         self.filenamelist = []\n",
    "#         for line in open(filenames_filename):\n",
    "#             self.filenamelist.append(line.rstrip('\\n'))\n",
    "        triplets = []\n",
    "        anchor_labels = [] #\n",
    "        for line in open(triplets_file_name):\n",
    "            triplets.append((line.split()[0], line.split()[1], line.split()[2])) # anchor, far, close\n",
    "            anchor_labels.append(int(line.split()[3])) #\n",
    "        self.triplets = triplets\n",
    "        self.labels = anchor_labels #\n",
    "        self.transform = transform\n",
    "        self.loader = loader\n",
    "\n",
    "    def __getitem__(self, index):\n",
    "        path1, path2, path3 = self.triplets[index]\n",
    "        anchor_label = self.labels[index]\n",
    "        img1_tuple = self.dset[int(path1)]\n",
    "        img2_tuple = self.dset[int(path2)]\n",
    "        img3_tuple = self.dset[int(path3)]\n",
    "        \n",
    "        info = {                         # clustering을 위해 anchor_index도 추가하였다.\n",
    "            'anchor_index': int(path1),\n",
    "            'anchor_label': anchor_label\n",
    "        }\n",
    "        \n",
    "        # byte만 사용할 예정\n",
    "        img1, byte_1 = img1_tuple[0], img1_tuple[1]\n",
    "        img2, byte_2 = img2_tuple[0], img2_tuple[1]\n",
    "        img3, byte_3 = img3_tuple[0], img3_tuple[1]\n",
    "        \n",
    "        # bytes 타입을 numpy array로 변경 후 normalize\n",
    "        img_arr_1 = np.array(Image.open(io.BytesIO(byte_1)))\n",
    "        img_arr_1 = normalize_image(img_arr_1)\n",
    "        \n",
    "        img_arr_2 = np.array(Image.open(io.BytesIO(byte_2)))\n",
    "        img_arr_2 = normalize_image(img_arr_2)\n",
    "        \n",
    "        img_arr_3 = np.array(Image.open(io.BytesIO(byte_3)))\n",
    "        img_arr_3 = normalize_image(img_arr_3)\n",
    "\n",
    "        cropped_image_1, cropped_image_size_1 = tight_crop_image(img_arr_1, verbose=False)\n",
    "        centered_image_1 = add_padding(cropped_image_1, verbose=False)\n",
    "        \n",
    "        cropped_image_2, cropped_image_size_2 = tight_crop_image(img_arr_2, verbose=False)\n",
    "        centered_image_2 = add_padding(cropped_image_2, verbose=False)\n",
    "        \n",
    "        cropped_image_3, cropped_image_size_3 = tight_crop_image(img_arr_3, verbose=False)\n",
    "        centered_image_3 = add_padding(cropped_image_3, verbose=False)\n",
    "            \n",
    "        return (centered_image_1, centered_image_2, centered_image_3), info #\n",
    "\n",
    "    def __len__(self):\n",
    "        return len(self.triplets)"
   ]
  },
  {
   "cell_type": "code",
   "execution_count": null,
   "metadata": {
    "colab": {},
    "colab_type": "code",
    "collapsed": true,
    "id": "OGXjxLQyhPKn",
    "jupyter": {
     "outputs_hidden": true
    }
   },
   "outputs": [],
   "source": [
    "pickled = PickledImageProvider('/content/drive/My Drive/Colab Notebooks/FontStyler/src/data/dataset/kor/latent.obj')\n",
    "triplet_loader = TripletImageLoader(pickled, '/content/drive/My Drive/Colab Notebooks/FontStyler/src/data/triplet_list_with_label.txt')"
   ]
  },
  {
   "cell_type": "code",
   "execution_count": null,
   "metadata": {
    "colab": {
     "base_uri": "https://localhost:8080/",
     "height": 35
    },
    "colab_type": "code",
    "id": "ItekngQEhPKp",
    "outputId": "429d06d7-fc2b-40c5-8a26-ddace7582de7"
   },
   "outputs": [
    {
     "data": {
      "text/plain": [
       "3"
      ]
     },
     "execution_count": 6,
     "metadata": {
      "tags": []
     },
     "output_type": "execute_result"
    }
   ],
   "source": [
    "len(triplet_loader[1][0]) # anchor, negative, positive images"
   ]
  },
  {
   "cell_type": "code",
   "execution_count": null,
   "metadata": {
    "colab": {
     "base_uri": "https://localhost:8080/",
     "height": 35
    },
    "colab_type": "code",
    "id": "KEPCc58RhPKq",
    "outputId": "110e3b67-f990-4879-e509-7bc29adc24aa"
   },
   "outputs": [
    {
     "data": {
      "text/plain": [
       "{'anchor_index': 1776, 'anchor_label': 0}"
      ]
     },
     "execution_count": 7,
     "metadata": {
      "tags": []
     },
     "output_type": "execute_result"
    }
   ],
   "source": [
    "triplet_loader[1][1] # anchor label == 0 ( ~ triplet_loader[2349][1])"
   ]
  },
  {
   "cell_type": "markdown",
   "metadata": {
    "colab_type": "text",
    "id": "hZ1dG4K-8kUN"
   },
   "source": [
    "### 전체 데이터셋 준비"
   ]
  },
  {
   "cell_type": "code",
   "execution_count": null,
   "metadata": {
    "colab": {},
    "colab_type": "code",
    "id": "I8fPiqle8jsd"
   },
   "outputs": [],
   "source": [
    "dset = KoreanFontDataset(PickledImageProvider('/content/drive/My Drive/Colab Notebooks/FontStyler/src/data/dataset/kor/latent.obj'), vector_size=10)"
   ]
  },
  {
   "cell_type": "code",
   "execution_count": null,
   "metadata": {
    "colab": {
     "base_uri": "https://localhost:8080/",
     "height": 35
    },
    "colab_type": "code",
    "id": "24psSjJ3-qB3",
    "outputId": "6238e5d9-d436-4a08-eac2-56339b1144bc"
   },
   "outputs": [
    {
     "data": {
      "text/plain": [
       "251450"
      ]
     },
     "execution_count": 93,
     "metadata": {
      "tags": []
     },
     "output_type": "execute_result"
    }
   ],
   "source": [
    "len(dset)"
   ]
  },
  {
   "cell_type": "code",
   "execution_count": null,
   "metadata": {
    "colab": {
     "base_uri": "https://localhost:8080/",
     "height": 345
    },
    "colab_type": "code",
    "id": "ERjY1VDD8jqO",
    "outputId": "1d20c3cd-c004-4c5f-cf84-94da481337a3"
   },
   "outputs": [
    {
     "data": {
      "text/plain": [
       "({'font_doc2vec': [2.2403063999999997,\n",
       "   -1.4756056999999998,\n",
       "   -0.593018,\n",
       "   -0.18605323,\n",
       "   -1.2381212,\n",
       "   -1.161201,\n",
       "   2.8255024,\n",
       "   0.10454782,\n",
       "   -0.16260550000000001,\n",
       "   1.2440913999999998],\n",
       "  'font_index': 0,\n",
       "  'word_index': 0},\n",
       " array([[1., 1., 1., ..., 1., 1., 1.],\n",
       "        [1., 1., 1., ..., 1., 1., 1.],\n",
       "        [1., 1., 1., ..., 1., 1., 1.],\n",
       "        ...,\n",
       "        [1., 1., 1., ..., 1., 1., 1.],\n",
       "        [1., 1., 1., ..., 1., 1., 1.],\n",
       "        [1., 1., 1., ..., 1., 1., 1.]]))"
      ]
     },
     "execution_count": 10,
     "metadata": {
      "tags": []
     },
     "output_type": "execute_result"
    }
   ],
   "source": [
    "dset[0] # 주의) 여기서의 font_index와 TripletLoader의 anchor_label은 다르다."
   ]
  },
  {
   "cell_type": "code",
   "execution_count": null,
   "metadata": {
    "colab": {
     "base_uri": "https://localhost:8080/",
     "height": 345
    },
    "colab_type": "code",
    "id": "gK6tOiaq8jn8",
    "outputId": "8f96a7e8-6b43-44ae-8214-ab84db56f5d7"
   },
   "outputs": [
    {
     "data": {
      "text/plain": [
       "({'font_doc2vec': [2.2403063999999997,\n",
       "   -1.4756056999999998,\n",
       "   -0.593018,\n",
       "   -0.18605323,\n",
       "   -1.2381212,\n",
       "   -1.161201,\n",
       "   2.8255024,\n",
       "   0.10454782,\n",
       "   -0.16260550000000001,\n",
       "   1.2440913999999998],\n",
       "  'font_index': 0,\n",
       "  'word_index': 482},\n",
       " array([[1., 1., 1., ..., 1., 1., 1.],\n",
       "        [1., 1., 1., ..., 1., 1., 1.],\n",
       "        [1., 1., 1., ..., 1., 1., 1.],\n",
       "        ...,\n",
       "        [1., 1., 1., ..., 1., 1., 1.],\n",
       "        [1., 1., 1., ..., 1., 1., 1.],\n",
       "        [1., 1., 1., ..., 1., 1., 1.]]))"
      ]
     },
     "execution_count": 11,
     "metadata": {
      "tags": []
     },
     "output_type": "execute_result"
    }
   ],
   "source": [
    "dset[1776] # anchor index 1776의 실제 img"
   ]
  },
  {
   "cell_type": "markdown",
   "metadata": {
    "colab_type": "text",
    "id": "VaBhOWElhPKt"
   },
   "source": [
    "---\n",
    "## Load Trained Model"
   ]
  },
  {
   "cell_type": "code",
   "execution_count": null,
   "metadata": {
    "colab": {},
    "colab_type": "code",
    "id": "YlisWu27hPKu"
   },
   "outputs": [],
   "source": [
    "import torch\n",
    "import torch.nn as nn\n",
    "import torch.nn.functional as F\n",
    "import numpy as np\n",
    "import shutil\n",
    "import os\n",
    "import io\n",
    "\n",
    "class Tripletnet(nn.Module):\n",
    "    def __init__(self, embeddingnet):\n",
    "        super(Tripletnet, self).__init__()\n",
    "        self.embeddingnet = embeddingnet\n",
    "\n",
    "    def forward(self, x, y, z):\n",
    "        embedded_x = self.embeddingnet(x)\n",
    "        embedded_y = self.embeddingnet(y)\n",
    "        embedded_z = self.embeddingnet(z)\n",
    "        dist_a = F.pairwise_distance(embedded_x, embedded_y, 2)\n",
    "        dist_b = F.pairwise_distance(embedded_x, embedded_z, 2)\n",
    "        return dist_a, dist_b, embedded_x, embedded_y, embedded_z"
   ]
  },
  {
   "cell_type": "code",
   "execution_count": null,
   "metadata": {
    "colab": {},
    "colab_type": "code",
    "id": "nWkE4PFgiJcP"
   },
   "outputs": [],
   "source": [
    "# FontStyler의 convAE 코드 (layers.py)\n",
    "class Encoder_conv(nn.Module):\n",
    "    \n",
    "    def __init__(self, img_dim=1, conv_dim=16): # output dim은 128이 될 것\n",
    "        super(Encoder_conv, self).__init__()\n",
    "        self.conv1 = conv2d(img_dim, conv_dim, k_size=5, stride=2, pad=2, dilation=2, lrelu=False, bn=False)\n",
    "        self.conv2 = conv2d(conv_dim, conv_dim*2, k_size=5, stride=4, pad=2, dilation=2)\n",
    "        self.conv3 = conv2d(conv_dim*2, conv_dim*4, k_size=4, stride=4, pad=1, dilation=1)\n",
    "        self.conv4 = conv2d(conv_dim*4, conv_dim*8)\n",
    "        self.conv5 = conv2d(conv_dim*8, conv_dim*8)\n",
    "    \n",
    "    def forward(self, images):\n",
    "        # |images| = (batch, img, img)\n",
    "        # print(images.shape)\n",
    "        images = images.unsqueeze(dim=1)\n",
    "        # |images| = (batch, 1, 128, 128)\n",
    "        # print(images.shape)\n",
    "        e1 = self.conv1(images)\n",
    "        # |e1| = (batch, conv_dim, 64, 64)\n",
    "        # print(e1.shape)\n",
    "        e2 = self.conv2(e1)\n",
    "        # |e2| = (batch, conv_dim*2, 16, 16)\n",
    "        # print(e2.shape)\n",
    "        e3 = self.conv3(e2)\n",
    "        # |e3| = (batch, conv_dim*4, 4, 4)\n",
    "        # print(e3.shape)\n",
    "        e4 = self.conv4(e3)\n",
    "        # |e4| = (batch, conv_dim*8, 2, 2)\n",
    "        # print(e4.shape)\n",
    "        encoded_source = self.conv5(e4)\n",
    "        # |encoded_source| = (batch, conv_dim*8, 1, 1)\n",
    "        # print(encoded_source.shape)\n",
    "        \n",
    "        return encoded_source"
   ]
  },
  {
   "cell_type": "code",
   "execution_count": null,
   "metadata": {
    "colab": {},
    "colab_type": "code",
    "id": "YWJkMdBUiLXC"
   },
   "outputs": [],
   "source": [
    "# function.py\n",
    "import torch.nn as nn\n",
    "\n",
    "def batch_norm(c_out, momentum=0.1):\n",
    "    return nn.BatchNorm2d(c_out, momentum=momentum)\n",
    "\n",
    "def conv2d(c_in, c_out, k_size=3, stride=2, pad=1, dilation=1, bn=True, lrelu=True, leak=0.2):\n",
    "    layers = []\n",
    "    if lrelu:\n",
    "        layers.append(nn.LeakyReLU(leak))\n",
    "    layers.append(nn.Conv2d(c_in, c_out, k_size, stride, pad))\n",
    "    if bn:\n",
    "        layers.append(nn.BatchNorm2d(c_out))\n",
    "    return nn.Sequential(*layers)\n",
    "\n",
    "def deconv2d(c_in, c_out, k_size=3, stride=1, pad=1, dilation=1, bn=True, dropout=False, p=0.5):\n",
    "    layers = []\n",
    "    layers.append(nn.LeakyReLU(0.2))\n",
    "    layers.append(nn.ConvTranspose2d(c_in, c_out, k_size, stride, pad))\n",
    "    if bn:\n",
    "        layers.append(nn.BatchNorm2d(c_out))\n",
    "    if dropout:\n",
    "        layers.append(nn.Dropout(p))\n",
    "    return nn.Sequential(*layers)\n",
    "\n",
    "def lrelu(leak=0.2):\n",
    "    return nn.LeakyReLU(leak)\n",
    "\n",
    "def dropout(p=0.2):\n",
    "    return nn.Dropout(p)"
   ]
  },
  {
   "cell_type": "code",
   "execution_count": null,
   "metadata": {
    "colab": {},
    "colab_type": "code",
    "id": "N_-bxI2KiMqD"
   },
   "outputs": [],
   "source": [
    "checkpoint_pth = '/content/drive/My Drive/Colab Notebooks/FontStyler/src/data/runs/TripleNet/model_best.pth.tar'"
   ]
  },
  {
   "cell_type": "code",
   "execution_count": null,
   "metadata": {
    "colab": {
     "base_uri": "https://localhost:8080/",
     "height": 35
    },
    "colab_type": "code",
    "id": "lSq0ksp6j5Ci",
    "outputId": "4972f6b2-dd81-42e8-e876-ef47459db618"
   },
   "outputs": [
    {
     "data": {
      "text/plain": [
       "<All keys matched successfully>"
      ]
     },
     "execution_count": 16,
     "metadata": {
      "tags": []
     },
     "output_type": "execute_result"
    }
   ],
   "source": [
    "device = 'cuda' if torch.cuda.is_available() else 'cpu'\n",
    "best = torch.load(checkpoint_pth)\n",
    "\n",
    "# 학습된 TripletNet 로드\n",
    "model = Encoder_conv()\n",
    "tnet  = Tripletnet(model)\n",
    "tnet.load_state_dict(best['state_dict'])"
   ]
  },
  {
   "cell_type": "code",
   "execution_count": null,
   "metadata": {
    "colab": {
     "base_uri": "https://localhost:8080/",
     "height": 484
    },
    "colab_type": "code",
    "id": "7N0QL7SxkB9I",
    "outputId": "5b6368b8-aded-4069-f8f4-ec8c9aa92a6c"
   },
   "outputs": [
    {
     "data": {
      "text/plain": [
       "Tripletnet(\n",
       "  (embeddingnet): Encoder_conv(\n",
       "    (conv1): Sequential(\n",
       "      (0): Conv2d(1, 16, kernel_size=(5, 5), stride=(2, 2), padding=(2, 2))\n",
       "    )\n",
       "    (conv2): Sequential(\n",
       "      (0): LeakyReLU(negative_slope=0.2)\n",
       "      (1): Conv2d(16, 32, kernel_size=(5, 5), stride=(4, 4), padding=(2, 2))\n",
       "      (2): BatchNorm2d(32, eps=1e-05, momentum=0.1, affine=True, track_running_stats=True)\n",
       "    )\n",
       "    (conv3): Sequential(\n",
       "      (0): LeakyReLU(negative_slope=0.2)\n",
       "      (1): Conv2d(32, 64, kernel_size=(4, 4), stride=(4, 4), padding=(1, 1))\n",
       "      (2): BatchNorm2d(64, eps=1e-05, momentum=0.1, affine=True, track_running_stats=True)\n",
       "    )\n",
       "    (conv4): Sequential(\n",
       "      (0): LeakyReLU(negative_slope=0.2)\n",
       "      (1): Conv2d(64, 128, kernel_size=(3, 3), stride=(2, 2), padding=(1, 1))\n",
       "      (2): BatchNorm2d(128, eps=1e-05, momentum=0.1, affine=True, track_running_stats=True)\n",
       "    )\n",
       "    (conv5): Sequential(\n",
       "      (0): LeakyReLU(negative_slope=0.2)\n",
       "      (1): Conv2d(128, 128, kernel_size=(3, 3), stride=(2, 2), padding=(1, 1))\n",
       "      (2): BatchNorm2d(128, eps=1e-05, momentum=0.1, affine=True, track_running_stats=True)\n",
       "    )\n",
       "  )\n",
       ")"
      ]
     },
     "execution_count": 17,
     "metadata": {
      "tags": []
     },
     "output_type": "execute_result"
    }
   ],
   "source": [
    "tnet.cuda()"
   ]
  },
  {
   "cell_type": "code",
   "execution_count": null,
   "metadata": {
    "colab": {},
    "colab_type": "code",
    "id": "L9WzEhLtiskN"
   },
   "outputs": [],
   "source": [
    "pickled = PickledImageProvider('/content/drive/My Drive/Colab Notebooks/FontStyler/src/data/dataset/kor/latent.obj')\n",
    "triplet_loader = TripletImageLoader(pickled, '/content/drive/My Drive/Colab Notebooks/FontStyler/src/data/triplet_list_with_label.txt')"
   ]
  },
  {
   "cell_type": "code",
   "execution_count": null,
   "metadata": {
    "colab": {
     "base_uri": "https://localhost:8080/",
     "height": 35
    },
    "colab_type": "code",
    "id": "qE6cd3xAi0Rk",
    "outputId": "20b609b4-240f-4770-d92a-dda57b09bec9"
   },
   "outputs": [
    {
     "data": {
      "text/plain": [
       "251450"
      ]
     },
     "execution_count": 19,
     "metadata": {
      "tags": []
     },
     "output_type": "execute_result"
    }
   ],
   "source": [
    "len(triplet_loader)"
   ]
  },
  {
   "cell_type": "code",
   "execution_count": null,
   "metadata": {
    "colab": {
     "base_uri": "https://localhost:8080/",
     "height": 35
    },
    "colab_type": "code",
    "id": "y08m0SbojCJP",
    "outputId": "d17d8831-794b-4076-848b-f7f8fbc86832"
   },
   "outputs": [
    {
     "data": {
      "text/plain": [
       "{'anchor_index': 42952, 'anchor_label': 1}"
      ]
     },
     "execution_count": 20,
     "metadata": {
      "tags": []
     },
     "output_type": "execute_result"
    }
   ],
   "source": [
    "triplet_loader[2350][1] # label이 출력되는지 확인"
   ]
  },
  {
   "cell_type": "code",
   "execution_count": null,
   "metadata": {
    "colab": {
     "base_uri": "https://localhost:8080/",
     "height": 166
    },
    "colab_type": "code",
    "id": "6HDTTpaCi4nX",
    "outputId": "3932f614-190a-40c4-8069-a560ebab943c"
   },
   "outputs": [
    {
     "data": {
      "image/png": "[encoded data removed]",
      "text/plain": [
       "<Figure size 1440x720 with 10 Axes>"
      ]
     },
     "metadata": {
      "tags": []
     },
     "output_type": "display_data"
    }
   ],
   "source": [
    "# anchor (이 이미지들을 Triplet network에 통과시켜 plotting할 것이다.)\n",
    "plt.figure(figsize=(20, 10))\n",
    "for idx in range(10):\n",
    "    plt.subplot(1, 10, idx+1)\n",
    "    plt.imshow(triplet_loader[idx+5000][0][0], cmap='gray', label=idx)\n",
    "plt.show()"
   ]
  },
  {
   "cell_type": "markdown",
   "metadata": {
    "colab_type": "text",
    "id": "NvSgow5GjR_6"
   },
   "source": [
    "---\n",
    "## Make Latent Vectors"
   ]
  },
  {
   "cell_type": "code",
   "execution_count": null,
   "metadata": {
    "colab": {
     "base_uri": "https://localhost:8080/",
     "height": 345
    },
    "colab_type": "code",
    "id": "Bc12YtI-C3rd",
    "outputId": "56f9cd0e-107b-4d03-abcd-0cbba75d3252"
   },
   "outputs": [
    {
     "data": {
      "text/plain": [
       "({'font_doc2vec': [2.2403063999999997,\n",
       "   -1.4756056999999998,\n",
       "   -0.593018,\n",
       "   -0.18605323,\n",
       "   -1.2381212,\n",
       "   -1.161201,\n",
       "   2.8255024,\n",
       "   0.10454782,\n",
       "   -0.16260550000000001,\n",
       "   1.2440913999999998],\n",
       "  'font_index': 0,\n",
       "  'word_index': 2143},\n",
       " array([[1., 1., 1., ..., 1., 1., 1.],\n",
       "        [1., 1., 1., ..., 1., 1., 1.],\n",
       "        [1., 1., 1., ..., 1., 1., 1.],\n",
       "        ...,\n",
       "        [1., 1., 1., ..., 1., 1., 1.],\n",
       "        [1., 1., 1., ..., 1., 1., 1.],\n",
       "        [1., 1., 1., ..., 1., 1., 1.]]))"
      ]
     },
     "execution_count": 22,
     "metadata": {
      "tags": []
     },
     "output_type": "execute_result"
    }
   ],
   "source": [
    "dset[1273]"
   ]
  },
  {
   "cell_type": "code",
   "execution_count": null,
   "metadata": {
    "colab": {
     "base_uri": "https://localhost:8080/",
     "height": 363
    },
    "colab_type": "code",
    "id": "SV0XwLraC3ox",
    "outputId": "ade418f2-18c9-45b7-c6ca-fc4eddfe4265"
   },
   "outputs": [
    {
     "data": {
      "text/plain": [
       "((array([[1., 1., 1., ..., 1., 1., 1.],\n",
       "         [1., 1., 1., ..., 1., 1., 1.],\n",
       "         [1., 1., 1., ..., 1., 1., 1.],\n",
       "         ...,\n",
       "         [1., 1., 1., ..., 1., 1., 1.],\n",
       "         [1., 1., 1., ..., 1., 1., 1.],\n",
       "         [1., 1., 1., ..., 1., 1., 1.]]), array([[1., 1., 1., ..., 1., 1., 1.],\n",
       "         [1., 1., 1., ..., 1., 1., 1.],\n",
       "         [1., 1., 1., ..., 1., 1., 1.],\n",
       "         ...,\n",
       "         [1., 1., 1., ..., 1., 1., 1.],\n",
       "         [1., 1., 1., ..., 1., 1., 1.],\n",
       "         [1., 1., 1., ..., 1., 1., 1.]]), array([[1., 1., 1., ..., 1., 1., 1.],\n",
       "         [1., 1., 1., ..., 1., 1., 1.],\n",
       "         [1., 1., 1., ..., 1., 1., 1.],\n",
       "         ...,\n",
       "         [1., 1., 1., ..., 1., 1., 1.],\n",
       "         [1., 1., 1., ..., 1., 1., 1.],\n",
       "         [1., 1., 1., ..., 1., 1., 1.]])),\n",
       " {'anchor_index': 1273, 'anchor_label': 0})"
      ]
     },
     "execution_count": 23,
     "metadata": {
      "tags": []
     },
     "output_type": "execute_result"
    }
   ],
   "source": [
    "triplet_loader[0]"
   ]
  },
  {
   "cell_type": "code",
   "execution_count": null,
   "metadata": {
    "colab": {
     "base_uri": "https://localhost:8080/",
     "height": 52
    },
    "colab_type": "code",
    "id": "Yfux0oUyDF8D",
    "outputId": "47b99167-208f-4938-e5e0-c164410c5c06"
   },
   "outputs": [
    {
     "name": "stdout",
     "output_type": "stream",
     "text": [
      "(128, 128)\n",
      "(128, 128)\n"
     ]
    }
   ],
   "source": [
    "print(dset[0][1].shape)\n",
    "print(triplet_loader[0][0][0].shape)"
   ]
  },
  {
   "cell_type": "markdown",
   "metadata": {
    "colab_type": "text",
    "id": "CmLMdLYPFBeK"
   },
   "source": [
    "# K-means clustering\n",
    "메모리상의 문제로 50000개만 테스트"
   ]
  },
  {
   "cell_type": "code",
   "execution_count": null,
   "metadata": {
    "colab": {},
    "colab_type": "code",
    "id": "v51mf4JcE_uN"
   },
   "outputs": [],
   "source": [
    "import pandas as pd\n",
    "from sklearn.cluster import KMeans"
   ]
  },
  {
   "cell_type": "code",
   "execution_count": null,
   "metadata": {
    "colab": {},
    "colab_type": "code",
    "id": "gQhEOgJhMhpb"
   },
   "outputs": [],
   "source": [
    "import torch\n",
    "import torch.nn as nn\n",
    "import torch.nn.functional as F\n",
    "from torch.utils.data.sampler import SubsetRandomSampler\n",
    "\n",
    "idxs = list(range(len(triplet_loader)))\n",
    "np.random.shuffle(idxs)\n",
    "batch_size = 32\n",
    "\n",
    "sampler = SubsetRandomSampler(idxs) # 전체 샘플링\n",
    "loader = torch.utils.data.DataLoader(\n",
    "        triplet_loader,\n",
    "        batch_size = batch_size,\n",
    "        sampler = sampler\n",
    "    )"
   ]
  },
  {
   "cell_type": "code",
   "execution_count": null,
   "metadata": {
    "colab": {},
    "colab_type": "code",
    "id": "7_5QsxRQI6yz"
   },
   "outputs": [],
   "source": [
    "tnet.eval()\n",
    "with torch.no_grad():\n",
    "    anchors = []\n",
    "    labels  = []\n",
    "    indexes = []\n",
    "    for idx, ((img1, img2, img3), info) in enumerate(loader): \n",
    "        if device == 'cuda':\n",
    "            img1, img2, img3 = img1.cuda(), img2.cuda(), img3.cuda()\n",
    "        img1, img2, img3 = img1.float(), img2.float(), img3.float()\n",
    "\n",
    "        _, _, anchor, _, _ = tnet(img1, img2, img3)\n",
    "        anchors.append(anchor) \n",
    "        labels.append(info['anchor_label'])\n",
    "        indexes.append(info['anchor_index'])\n",
    "        # if idx == 1000:\n",
    "        #     break"
   ]
  },
  {
   "cell_type": "code",
   "execution_count": null,
   "metadata": {
    "colab": {
     "base_uri": "https://localhost:8080/",
     "height": 35
    },
    "colab_type": "code",
    "id": "2qJJKICeMyMG",
    "outputId": "54b00f67-58d9-406e-c593-c11adaa3087a"
   },
   "outputs": [
    {
     "data": {
      "text/plain": [
       "(7858, 7858, 7858)"
      ]
     },
     "execution_count": 28,
     "metadata": {
      "tags": []
     },
     "output_type": "execute_result"
    }
   ],
   "source": [
    "len(anchors), len(labels), len(indexes)"
   ]
  },
  {
   "cell_type": "code",
   "execution_count": null,
   "metadata": {
    "colab": {
     "base_uri": "https://localhost:8080/",
     "height": 35
    },
    "colab_type": "code",
    "id": "UIYm-6-6MyJd",
    "outputId": "6e058ee5-a5d8-4701-d9ea-19d7b69801c4"
   },
   "outputs": [
    {
     "data": {
      "text/plain": [
       "torch.Size([32, 128, 1, 1])"
      ]
     },
     "execution_count": 29,
     "metadata": {
      "tags": []
     },
     "output_type": "execute_result"
    }
   ],
   "source": [
    "anchors[0].shape"
   ]
  },
  {
   "cell_type": "code",
   "execution_count": null,
   "metadata": {
    "colab": {
     "base_uri": "https://localhost:8080/",
     "height": 69
    },
    "colab_type": "code",
    "id": "0XwP96-dMyGw",
    "outputId": "38080f18-fb47-49f4-a9be-60334ce549a3"
   },
   "outputs": [
    {
     "name": "stdout",
     "output_type": "stream",
     "text": [
      "latent shape: (251450, 128, 1, 1)\n",
      "label shape: (251450,)\n",
      "index shape: (251450,)\n"
     ]
    }
   ],
   "source": [
    "latent = np.zeros((1, 128, 1, 1))\n",
    "for i in range(len(anchors)):\n",
    "    latent = np.concatenate([latent, anchors[i].cpu()])\n",
    "latent = latent[1:]\n",
    "print('latent shape: {}'.format(latent.shape))\n",
    "\n",
    "tmp_label = np.zeros((1))\n",
    "for i in range(len(labels)):\n",
    "    tmp_label = np.concatenate([tmp_label, labels[i].cpu()])\n",
    "tmp_label = tmp_label[1:]\n",
    "print('label shape: {}'.format(tmp_label.shape))\n",
    "\n",
    "tmp_index = np.zeros((1))\n",
    "for i in range(len(indexes)):\n",
    "    tmp_index = np.concatenate([tmp_index, indexes[i].cpu()])\n",
    "tmp_index = tmp_index[1:]\n",
    "print('index shape: {}'.format(tmp_index.shape))"
   ]
  },
  {
   "cell_type": "code",
   "execution_count": null,
   "metadata": {
    "colab": {
     "base_uri": "https://localhost:8080/",
     "height": 35
    },
    "colab_type": "code",
    "id": "VGuBhx8GNQUc",
    "outputId": "8e481dbc-9e46-4154-d2bf-9648383a8910"
   },
   "outputs": [
    {
     "data": {
      "text/plain": [
       "(2.0, 69096.0)"
      ]
     },
     "execution_count": 31,
     "metadata": {
      "tags": []
     },
     "output_type": "execute_result"
    }
   ],
   "source": [
    "tmp_label[0], tmp_index[0] # dset[116740]과 대응"
   ]
  },
  {
   "cell_type": "code",
   "execution_count": null,
   "metadata": {
    "colab": {
     "base_uri": "https://localhost:8080/",
     "height": 35
    },
    "colab_type": "code",
    "id": "ADTzYpkJNQRg",
    "outputId": "f7a36bc0-9177-403b-b12b-4f7904f49ea8"
   },
   "outputs": [
    {
     "data": {
      "text/plain": [
       "(251450, 128)"
      ]
     },
     "execution_count": 49,
     "metadata": {
      "tags": []
     },
     "output_type": "execute_result"
    }
   ],
   "source": [
    "latent = latent.reshape(251450,128)\n",
    "latent.shape"
   ]
  },
  {
   "cell_type": "code",
   "execution_count": null,
   "metadata": {
    "colab": {
     "base_uri": "https://localhost:8080/",
     "height": 466
    },
    "colab_type": "code",
    "id": "uyD3ekccNQPI",
    "outputId": "193cc947-7b30-49e4-fb63-10ca95e512a6"
   },
   "outputs": [
    {
     "data": {
      "text/plain": [
       "(array([ 0.06715689, -0.05768156, -0.00412684, -0.11365774,  0.00564228,\n",
       "        -0.12406905, -0.05142889,  0.05743443,  0.09971364,  0.01493433,\n",
       "        -0.00884482, -0.08293482, -0.04955475,  0.01091369,  0.00503379,\n",
       "         0.01716181,  0.00556268, -0.00960979, -0.02602595,  0.03764322,\n",
       "        -0.0227161 ,  0.0430159 , -0.04669191,  0.00834034,  0.01048747,\n",
       "        -0.00459874,  0.07823171, -0.00161625,  0.0584276 , -0.0078498 ,\n",
       "         0.03145668,  0.05510917, -0.01737026,  0.00082929, -0.02661196,\n",
       "        -0.11266394, -0.08947451, -0.02035593,  0.0057288 , -0.02367881,\n",
       "         0.03945861,  0.05679487,  0.01551635, -0.05154809, -0.15161981,\n",
       "         0.01303685,  0.04867334,  0.04642671, -0.00109911, -0.04089551,\n",
       "        -0.00973028,  0.04226191,  0.0060075 , -0.06047244, -0.01485223,\n",
       "         0.00285084,  0.00699041, -0.05667721,  0.01423659, -0.04967143,\n",
       "        -0.00694296,  0.00784096, -0.02635893, -0.0460146 ,  0.10419799,\n",
       "        -0.01734038, -0.02719552, -0.16383737, -0.01808992,  0.1046382 ,\n",
       "         0.03868286, -0.01020483, -0.10305923,  0.04574469, -0.02898499,\n",
       "         0.02569567,  0.01481558,  0.02880124,  0.00160548,  0.06733007,\n",
       "         0.00589904, -0.02141723, -0.03266197, -0.04268606, -0.10285679,\n",
       "         0.00081988,  0.00176472, -0.0274453 ,  0.01618324, -0.03471695,\n",
       "         0.06478483,  0.00873118, -0.07050927,  0.05813137,  0.02135223,\n",
       "        -0.02420999,  0.1346518 , -0.22256058, -0.02694775,  0.01283334,\n",
       "        -0.04632431, -0.22042118, -0.07620278, -0.00390078,  0.27628994,\n",
       "         0.14544997, -0.0919196 ,  0.01184001,  0.01012606, -0.04840392,\n",
       "        -0.03140649, -0.0194303 ,  0.03122263,  0.06077861, -0.02531248,\n",
       "         0.04411254,  0.00705899,  0.02238038, -0.08969954,  0.03239601,\n",
       "        -0.08902209, -0.05824075,  0.00891022,  0.01092625, -0.01482033,\n",
       "        -0.03866235, -0.05431101, -0.04927602]), 69096.0)"
      ]
     },
     "execution_count": 33,
     "metadata": {
      "tags": []
     },
     "output_type": "execute_result"
    }
   ],
   "source": [
    "latent[0], tmp_index[0]"
   ]
  },
  {
   "cell_type": "markdown",
   "metadata": {
    "colab_type": "text",
    "id": "EN56xoB_TZlX"
   },
   "source": [
    "### Elbow Point 확인"
   ]
  },
  {
   "cell_type": "code",
   "execution_count": null,
   "metadata": {
    "colab": {
     "base_uri": "https://localhost:8080/",
     "height": 354
    },
    "colab_type": "code",
    "id": "ExzCiMN6OUXv",
    "outputId": "263f7e6d-de37-4bb0-de98-af37969267d5"
   },
   "outputs": [
    {
     "data": {
      "text/plain": [
       "Text(0.5, 1.0, 'Elbow curve')"
      ]
     },
     "execution_count": 37,
     "metadata": {
      "tags": []
     },
     "output_type": "execute_result"
    },
    {
     "data": {
      "image/png": "[encoded data removed]",
      "text/plain": [
       "<Figure size 1080x360 with 1 Axes>"
      ]
     },
     "metadata": {
      "tags": []
     },
     "output_type": "display_data"
    }
   ],
   "source": [
    "X = latent\n",
    "distorsions = []\n",
    "for k in range(2, 20):\n",
    "    kmeans = KMeans(n_clusters=k)\n",
    "    kmeans.fit(X)\n",
    "    distorsions.append(kmeans.inertia_)\n",
    "\n",
    "fig = plt.figure(figsize=(15,5))\n",
    "plt.plot(range(2,20), distorsions)\n",
    "plt.grid(True)\n",
    "plt.title('Elbow curve')"
   ]
  },
  {
   "cell_type": "markdown",
   "metadata": {
    "colab_type": "text",
    "id": "ojbWuUFYHULd"
   },
   "source": [
    "k = 5 정도가 괜찮아 보인다."
   ]
  },
  {
   "cell_type": "code",
   "execution_count": null,
   "metadata": {
    "colab": {},
    "colab_type": "code",
    "id": "Trx2-XTHE_sM"
   },
   "outputs": [],
   "source": [
    "model = KMeans(n_clusters=5)\n",
    "model.fit(latent)\n",
    "\n",
    "y_predict = model.fit_predict(latent)"
   ]
  },
  {
   "cell_type": "code",
   "execution_count": null,
   "metadata": {
    "colab": {
     "base_uri": "https://localhost:8080/",
     "height": 69
    },
    "colab_type": "code",
    "id": "BBkZJQNJE_pa",
    "outputId": "a670524d-07da-4546-d2f5-f84d9797805d"
   },
   "outputs": [
    {
     "name": "stdout",
     "output_type": "stream",
     "text": [
      "[0 0 1 4 1 4 2 4 3 4 0 4 1 4 4 1 3 1 4 0 1 1 2 4 2 0 2 2 4 1 0 1 3 2 4 1 0\n",
      " 1 2 2 4 0 3 4 3 2 2 3 1 2 4 1 0 1 4 1 4 1 4 2 1 2 1 1 4 2 3 4 4 2 1 2 0 1\n",
      " 2 4 2 4 2 4 4 3 2 3 4 0 2 1 2 2 0 3 2 1 1 3 1 1 2 1]\n"
     ]
    }
   ],
   "source": [
    "print(y_predict[:100])"
   ]
  },
  {
   "cell_type": "code",
   "execution_count": null,
   "metadata": {
    "colab": {},
    "colab_type": "code",
    "id": "KYqMcDikE_m1"
   },
   "outputs": [],
   "source": [
    "colors = {0:'red', 1:'blue', 2: 'yellow', 3: 'pink' , 4:'green'}"
   ]
  },
  {
   "cell_type": "code",
   "execution_count": null,
   "metadata": {
    "colab": {
     "base_uri": "https://localhost:8080/",
     "height": 35
    },
    "colab_type": "code",
    "id": "6GSX4SUiE_fL",
    "outputId": "9a2ba562-92da-4e47-dd09-ad3f5a00bc38"
   },
   "outputs": [
    {
     "data": {
      "text/plain": [
       "[39654, 73993, 58224, 27795, 51784]"
      ]
     },
     "execution_count": 41,
     "metadata": {
      "tags": []
     },
     "output_type": "execute_result"
    }
   ],
   "source": [
    "[np.sum(y_predict==i) for i in range(5)]"
   ]
  },
  {
   "cell_type": "code",
   "execution_count": null,
   "metadata": {
    "colab": {},
    "colab_type": "code",
    "id": "qR74Np9cfkpD"
   },
   "outputs": [],
   "source": [
    "from matplotlib import pyplot as plt"
   ]
  },
  {
   "cell_type": "code",
   "execution_count": null,
   "metadata": {
    "colab": {},
    "colab_type": "code",
    "id": "eYVlB4y_Q9qs"
   },
   "outputs": [],
   "source": [
    "# cluster 0\n",
    "plt.figure(figsize=(10, 10))\n",
    "s = 0\n",
    "count = 0\n",
    "cluster = 0\n",
    "\n",
    "for i, (idx, c) in enumerate(zip(tmp_index, y_predict)): \n",
    "    if c == cluster:\n",
    "        # print(idx)\n",
    "        plt.subplot(5,5, s+1)                # (5,5)에 s+1번째에 그림을 그려라\n",
    "        image = dset[int(idx)][1].astype('uint8')\n",
    "        plt.imshow(image)\n",
    "        plt.tick_params(axis='both', labelsize=0, length = 0)\n",
    "        s += 1\n",
    "        if s % 25 == 0: \n",
    "            filename = '{}_{}'.format(cluster, count) \n",
    "            count += 1\n",
    "            plt.savefig('/content/drive/My Drive/Colab Notebooks/FontStyler/src/data/cluster/{}/{}'.format(cluster, filename), bbox_inches='tight')\n",
    "            # print('saved img')\n",
    "            s = 0\n",
    "        if count == 100:\n",
    "            break\n",
    "print('saved {} images for cluster {}'.format(count, cluster))\n",
    "plt.show()\n",
    "plt.close()"
   ]
  },
  {
   "cell_type": "code",
   "execution_count": null,
   "metadata": {
    "colab": {},
    "colab_type": "code",
    "id": "nHNgtNyjcVFi"
   },
   "outputs": [],
   "source": [
    "# cluster 1\n",
    "plt.figure(figsize=(10, 10))\n",
    "s = 0\n",
    "count = 0\n",
    "cluster = 1\n",
    "\n",
    "for i, (idx, c) in enumerate(zip(tmp_index, y_predict)): \n",
    "    if c == cluster:\n",
    "        # print(idx)\n",
    "        plt.subplot(5,5, s+1)                # (5,5)에 s+1번째에 그림을 그려라\n",
    "        image = dset[int(idx)][1].astype('uint8')\n",
    "        plt.imshow(image)\n",
    "        plt.tick_params(axis='both', labelsize=0, length = 0)\n",
    "        s += 1\n",
    "        if s % 25 == 0: \n",
    "            filename = '{}_{}'.format(cluster, count)\n",
    "            count += 1\n",
    "            plt.savefig('/content/drive/My Drive/Colab Notebooks/FontStyler/src/data/cluster/{}/{}'.format(cluster, filename), bbox_inches='tight')\n",
    "            # print('saved img')\n",
    "            s = 0\n",
    "        if count == 100:\n",
    "            break\n",
    "print('saved {} images for cluster {}'.format(count, cluster))\n",
    "plt.show()\n",
    "plt.close()"
   ]
  },
  {
   "cell_type": "code",
   "execution_count": null,
   "metadata": {
    "colab": {
     "base_uri": "https://localhost:8080/",
     "height": 651
    },
    "colab_type": "code",
    "id": "BMJZDQHTcVBs",
    "outputId": "edff361f-a0d3-471d-ae81-411caea7cc14"
   },
   "outputs": [
    {
     "name": "stderr",
     "output_type": "stream",
     "text": [
      "/usr/local/lib/python3.6/dist-packages/ipykernel_launcher.py:9: MatplotlibDeprecationWarning: Adding an axes using the same arguments as a previous axes currently reuses the earlier instance.  In a future version, a new instance will always be created and returned.  Meanwhile, this warning can be suppressed, and the future behavior ensured, by passing a unique label to each axes instance.\n",
      "  if __name__ == '__main__':\n"
     ]
    },
    {
     "name": "stdout",
     "output_type": "stream",
     "text": [
      "saved 100 images for cluster 2\n"
     ]
    },
    {
     "data": {
      "image/png": "[encoded data removed]",
      "text/plain": [
       "<Figure size 720x720 with 25 Axes>"
      ]
     },
     "metadata": {
      "tags": []
     },
     "output_type": "display_data"
    }
   ],
   "source": [
    "# cluster 2\n",
    "plt.figure(figsize=(10, 10))\n",
    "s = 0\n",
    "count = 0\n",
    "cluster = 2\n",
    "\n",
    "for i, (idx, c) in enumerate(zip(tmp_index, y_predict)): \n",
    "    if c == cluster:\n",
    "        # print(idx)\n",
    "        plt.subplot(5,5, s+1)                # (5,5)에 s+1번째에 그림을 그려라\n",
    "        image = dset[int(idx)][1].astype('uint8')\n",
    "        plt.imshow(image)\n",
    "        plt.tick_params(axis='both', labelsize=0, length = 0)\n",
    "        s += 1\n",
    "        if s % 25 == 0: \n",
    "            filename = '{}_{}'.format(cluster, count)\n",
    "            count += 1\n",
    "            plt.savefig('/content/drive/My Drive/Colab Notebooks/FontStyler/src/data/cluster/{}/{}'.format(cluster, filename), bbox_inches='tight')\n",
    "            # print('saved img')\n",
    "            s = 0\n",
    "        if count == 100:\n",
    "            break\n",
    "print('saved {} images for cluster {}'.format(count, cluster))\n",
    "plt.show()\n",
    "plt.close()"
   ]
  },
  {
   "cell_type": "code",
   "execution_count": null,
   "metadata": {
    "colab": {
     "base_uri": "https://localhost:8080/",
     "height": 651
    },
    "colab_type": "code",
    "id": "5-RPhWy-cU9l",
    "outputId": "6c29a9d1-ef29-470d-c0a1-6372617c9146"
   },
   "outputs": [
    {
     "name": "stderr",
     "output_type": "stream",
     "text": [
      "/usr/local/lib/python3.6/dist-packages/ipykernel_launcher.py:9: MatplotlibDeprecationWarning: Adding an axes using the same arguments as a previous axes currently reuses the earlier instance.  In a future version, a new instance will always be created and returned.  Meanwhile, this warning can be suppressed, and the future behavior ensured, by passing a unique label to each axes instance.\n",
      "  if __name__ == '__main__':\n"
     ]
    },
    {
     "name": "stdout",
     "output_type": "stream",
     "text": [
      "saved 100 images for cluster 3\n"
     ]
    },
    {
     "data": {
      "image/png": "[encoded data removed]",
      "text/plain": [
       "<Figure size 720x720 with 25 Axes>"
      ]
     },
     "metadata": {
      "tags": []
     },
     "output_type": "display_data"
    }
   ],
   "source": [
    "# cluster 3\n",
    "plt.figure(figsize=(10, 10))\n",
    "s = 0\n",
    "count = 0\n",
    "cluster = 3\n",
    "\n",
    "for i, (idx, c) in enumerate(zip(tmp_index, y_predict)): \n",
    "    if c == cluster:\n",
    "        # print(idx)\n",
    "        plt.subplot(5,5, s+1)                # (5,5)에 s+1번째에 그림을 그려라\n",
    "        image = dset[int(idx)][1].astype('uint8')\n",
    "        plt.imshow(image)\n",
    "        plt.tick_params(axis='both', labelsize=0, length = 0)\n",
    "        s += 1\n",
    "        if s % 25 == 0: \n",
    "            filename = '{}_{}'.format(cluster, count)\n",
    "            count += 1\n",
    "            plt.savefig('/content/drive/My Drive/Colab Notebooks/FontStyler/src/data/cluster/{}/{}'.format(cluster, filename), bbox_inches='tight')\n",
    "            # print('saved img')\n",
    "            s = 0\n",
    "        if count == 100:\n",
    "            break\n",
    "print('saved {} images for cluster {}'.format(count, cluster))\n",
    "plt.show()\n",
    "plt.close()"
   ]
  },
  {
   "cell_type": "code",
   "execution_count": null,
   "metadata": {
    "colab": {
     "base_uri": "https://localhost:8080/",
     "height": 651
    },
    "colab_type": "code",
    "id": "dVK3VCQvneKe",
    "outputId": "0314c343-01ac-43ba-dfab-f5f8fc9bc34b"
   },
   "outputs": [
    {
     "name": "stderr",
     "output_type": "stream",
     "text": [
      "/usr/local/lib/python3.6/dist-packages/ipykernel_launcher.py:9: MatplotlibDeprecationWarning: Adding an axes using the same arguments as a previous axes currently reuses the earlier instance.  In a future version, a new instance will always be created and returned.  Meanwhile, this warning can be suppressed, and the future behavior ensured, by passing a unique label to each axes instance.\n",
      "  if __name__ == '__main__':\n"
     ]
    },
    {
     "name": "stdout",
     "output_type": "stream",
     "text": [
      "saved 100 images for cluster 4\n"
     ]
    },
    {
     "data": {
      "image/png": "[encoded data removed]",
      "text/plain": [
       "<Figure size 720x720 with 25 Axes>"
      ]
     },
     "metadata": {
      "tags": []
     },
     "output_type": "display_data"
    }
   ],
   "source": [
    "# cluster 4\n",
    "plt.figure(figsize=(10, 10))\n",
    "s = 0\n",
    "count = 0\n",
    "cluster = 4\n",
    "\n",
    "for i, (idx, c) in enumerate(zip(tmp_index, y_predict)): \n",
    "    if c == cluster:\n",
    "        # print(idx)\n",
    "        plt.subplot(5,5, s+1)                # (5,5)에 s+1번째에 그림을 그려라\n",
    "        image = dset[int(idx)][1].astype('uint8')\n",
    "        plt.imshow(image)\n",
    "        plt.tick_params(axis='both', labelsize=0, length = 0)\n",
    "        s += 1\n",
    "        if s % 25 == 0: \n",
    "            filename = '{}_{}'.format(cluster, count)\n",
    "            count += 1\n",
    "            plt.savefig('/content/drive/My Drive/Colab Notebooks/FontStyler/src/data/cluster/{}/{}'.format(cluster, filename), bbox_inches='tight')\n",
    "            # print('saved img')\n",
    "            s = 0\n",
    "        if count == 100:\n",
    "            break\n",
    "print('saved {} images for cluster {}'.format(count, cluster))\n",
    "plt.show()\n",
    "plt.close()"
   ]
  },
  {
   "cell_type": "markdown",
   "metadata": {
    "colab_type": "text",
    "id": "eTsecOzNK3fQ"
   },
   "source": [
    "---\n",
    "## Cluster별 latent vector의 평균 구하기"
   ]
  },
  {
   "cell_type": "code",
   "execution_count": null,
   "metadata": {
    "colab": {
     "base_uri": "https://localhost:8080/",
     "height": 35
    },
    "colab_type": "code",
    "id": "Jg1fxhSdTnHh",
    "outputId": "02fe0603-57cd-40b8-98c0-8da6d70979e2"
   },
   "outputs": [
    {
     "name": "stdout",
     "output_type": "stream",
     "text": [
      "average vector for cluster 0 with 39654 data\n"
     ]
    }
   ],
   "source": [
    "# cluster 0\n",
    "count = 0\n",
    "cluster = 0\n",
    "vector_size = 128\n",
    "vectors = np.zeros(vector_size,)\n",
    "\n",
    "for i, (idx, c) in enumerate(zip(tmp_index, y_predict)): \n",
    "    if c == cluster:\n",
    "        vectors += latent[int(idx)]\n",
    "        count += 1\n",
    "avg_vector_0 = vectors / count\n",
    "print('average vector for cluster {} with {} data'.format(cluster, count))"
   ]
  },
  {
   "cell_type": "code",
   "execution_count": null,
   "metadata": {
    "colab": {
     "base_uri": "https://localhost:8080/",
     "height": 35
    },
    "colab_type": "code",
    "id": "2zl8vOO_LWdH",
    "outputId": "3d99bd9f-97a1-49a7-923b-494bce32891c"
   },
   "outputs": [
    {
     "name": "stdout",
     "output_type": "stream",
     "text": [
      "average vector for cluster 1 with 73993 data\n"
     ]
    }
   ],
   "source": [
    "# cluster 1\n",
    "count = 0\n",
    "cluster = 1\n",
    "vector_size = 128\n",
    "vectors = np.zeros(vector_size,)\n",
    "\n",
    "for i, (idx, c) in enumerate(zip(tmp_index, y_predict)): \n",
    "    if c == cluster:\n",
    "        vectors += latent[int(idx)]\n",
    "        count += 1\n",
    "avg_vector_1 = vectors / count\n",
    "print('average vector for cluster {} with {} data'.format(cluster, count))"
   ]
  },
  {
   "cell_type": "code",
   "execution_count": null,
   "metadata": {
    "colab": {
     "base_uri": "https://localhost:8080/",
     "height": 35
    },
    "colab_type": "code",
    "id": "LbmGPBgBOLlU",
    "outputId": "067b92ce-6820-4703-f55f-748b1d9b8bef"
   },
   "outputs": [
    {
     "name": "stdout",
     "output_type": "stream",
     "text": [
      "average vector for cluster 2 with 58224 data\n"
     ]
    }
   ],
   "source": [
    "# cluster 2\n",
    "count = 0\n",
    "cluster = 2\n",
    "vector_size = 128\n",
    "vectors = np.zeros(vector_size,)\n",
    "\n",
    "for i, (idx, c) in enumerate(zip(tmp_index, y_predict)): \n",
    "    if c == cluster:\n",
    "        vectors += latent[int(idx)]\n",
    "        count += 1\n",
    "avg_vector_2 = vectors / count\n",
    "print('average vector for cluster {} with {} data'.format(cluster, count))"
   ]
  },
  {
   "cell_type": "code",
   "execution_count": null,
   "metadata": {
    "colab": {
     "base_uri": "https://localhost:8080/",
     "height": 35
    },
    "colab_type": "code",
    "id": "z7Wc5ynpPxPL",
    "outputId": "ac4db9d0-3f73-44ba-e468-8203ec067f10"
   },
   "outputs": [
    {
     "name": "stdout",
     "output_type": "stream",
     "text": [
      "average vector for cluster 3 with 27795 data\n"
     ]
    }
   ],
   "source": [
    "# cluster 3\n",
    "count = 0\n",
    "cluster = 3\n",
    "vector_size = 128\n",
    "vectors = np.zeros(vector_size,)\n",
    "\n",
    "for i, (idx, c) in enumerate(zip(tmp_index, y_predict)): \n",
    "    if c == cluster:\n",
    "        vectors += latent[int(idx)]\n",
    "        count += 1\n",
    "avg_vector_3 = vectors / count\n",
    "print('average vector for cluster {} with {} data'.format(cluster, count))"
   ]
  },
  {
   "cell_type": "code",
   "execution_count": null,
   "metadata": {
    "colab": {
     "base_uri": "https://localhost:8080/",
     "height": 35
    },
    "colab_type": "code",
    "id": "Mj5i_FP9Pzf9",
    "outputId": "ba727323-04a3-4bda-fd2c-e771836ca1ac"
   },
   "outputs": [
    {
     "name": "stdout",
     "output_type": "stream",
     "text": [
      "average vector for cluster 4 with 51784 data\n"
     ]
    }
   ],
   "source": [
    "# cluster 4\n",
    "count = 0\n",
    "cluster = 4\n",
    "vector_size = 128\n",
    "vectors = np.zeros(vector_size,)\n",
    "\n",
    "for i, (idx, c) in enumerate(zip(tmp_index, y_predict)): \n",
    "    if c == cluster:\n",
    "        vectors += latent[int(idx)]\n",
    "        count += 1\n",
    "avg_vector_4 = vectors / count\n",
    "print('average vector for cluster {} with {} data'.format(cluster, count))"
   ]
  },
  {
   "cell_type": "code",
   "execution_count": null,
   "metadata": {
    "colab": {},
    "colab_type": "code",
    "id": "NFD58O9rQDAz"
   },
   "outputs": [],
   "source": [
    "cluster_vector = {\n",
    "    0: avg_vector_0,\n",
    "    1: avg_vector_1,\n",
    "    2: avg_vector_2,\n",
    "    3: avg_vector_3,\n",
    "    4: avg_vector_4,\n",
    "}"
   ]
  },
  {
   "cell_type": "markdown",
   "metadata": {
    "colab_type": "text",
    "id": "9duCW3a1Tjwc"
   },
   "source": [
    "### 딕셔너리를 pickle로 저장"
   ]
  },
  {
   "cell_type": "code",
   "execution_count": null,
   "metadata": {
    "colab": {},
    "colab_type": "code",
    "id": "IZ1IqPJiS-Dn"
   },
   "outputs": [],
   "source": [
    "import pickle\n",
    "\n",
    "with open('/content/drive/My Drive/Colab Notebooks/FontStyler/src/data/cluster_vector.p', 'wb') as file:\n",
    "    pickle.dump(cluster_vector, file)"
   ]
  },
  {
   "cell_type": "code",
   "execution_count": null,
   "metadata": {
    "colab": {
     "base_uri": "https://localhost:8080/",
     "height": 35
    },
    "colab_type": "code",
    "id": "rszhJAsxS_vo",
    "outputId": "2f7fc6fe-65dc-4049-b951-e9200d2ca5f9"
   },
   "outputs": [
    {
     "name": "stdout",
     "output_type": "stream",
     "text": [
      "5\n"
     ]
    }
   ],
   "source": [
    "# 확인\n",
    "with open('/content/drive/My Drive/Colab Notebooks/FontStyler/src/data/cluster_vector.p', 'rb') as file:\n",
    "    vec_test = pickle.load(file)\n",
    "    print(len(vec_test))"
   ]
  },
  {
   "cell_type": "code",
   "execution_count": null,
   "metadata": {
    "colab": {},
    "colab_type": "code",
    "id": "IocrpiqOUOSP"
   },
   "outputs": [],
   "source": []
  }
 ],
 "metadata": {
  "accelerator": "GPU",
  "colab": {
   "collapsed_sections": [],
   "machine_shape": "hm",
   "name": "13_latent_vector_clustering.ipynb",
   "provenance": []
  },
  "kernelspec": {
   "display_name": "Python 3",
   "language": "python",
   "name": "python3"
  },
  "language_info": {
   "codemirror_mode": {
    "name": "ipython",
    "version": 3
   },
   "file_extension": ".py",
   "mimetype": "text/x-python",
   "name": "python",
   "nbconvert_exporter": "python",
   "pygments_lexer": "ipython3",
   "version": "3.7.3"
  }
 },
 "nbformat": 4,
 "nbformat_minor": 4
}
