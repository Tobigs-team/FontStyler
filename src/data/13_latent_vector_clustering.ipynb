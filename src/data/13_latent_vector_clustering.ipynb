{
  "nbformat": 4,
  "nbformat_minor": 0,
  "metadata": {
    "kernelspec": {
      "name": "python3",
      "display_name": "Python 3"
    },
    "language_info": {
      "codemirror_mode": {
        "name": "ipython",
        "version": 3
      },
      "file_extension": ".py",
      "mimetype": "text/x-python",
      "name": "python",
      "nbconvert_exporter": "python",
      "pygments_lexer": "ipython3",
      "version": "3.7.3"
    },
    "colab": {
      "name": "13_latent_vector_clustering.ipynb",
      "provenance": [],
      "collapsed_sections": [],
      "machine_shape": "hm"
    },
    "accelerator": "GPU"
  },
  "cells": [
    {
      "cell_type": "markdown",
      "metadata": {
        "id": "Q-S3YnBlhPKT",
        "colab_type": "text"
      },
      "source": [
        "# Latent Vector Clustering\n",
        "\n",
        "1. 학습한 모델에서 나온 128차원 벡터를 클러스터링할 것이다.\n",
        "2. 같은 클러스터끼리 동일한 색으로 표시하여 2차원에 나타낼 것이다.\n",
        "3. 클러스터별 글자 모양을 확인할 것이다."
      ]
    },
    {
      "cell_type": "code",
      "metadata": {
        "id": "zFk6afxxhVo-",
        "colab_type": "code",
        "colab": {
          "base_uri": "https://localhost:8080/",
          "height": 124
        },
        "outputId": "c423097a-6a0e-4574-a8d1-a765e72f1ac7"
      },
      "source": [
        "from google.colab import drive\n",
        "drive.mount('/content/drive')"
      ],
      "execution_count": 1,
      "outputs": [
        {
          "output_type": "stream",
          "text": [
            "Go to this URL in a browser: https://accounts.google.com/o/oauth2/auth?client_id=947318989803-6bn6qk8qdgf4n4g3pfee6491hc0brc4i.apps.googleusercontent.com&redirect_uri=urn%3aietf%3awg%3aoauth%3a2.0%3aoob&response_type=code&scope=email%20https%3a%2f%2fwww.googleapis.com%2fauth%2fdocs.test%20https%3a%2f%2fwww.googleapis.com%2fauth%2fdrive%20https%3a%2f%2fwww.googleapis.com%2fauth%2fdrive.photos.readonly%20https%3a%2f%2fwww.googleapis.com%2fauth%2fpeopleapi.readonly\n",
            "\n",
            "Enter your authorization code:\n",
            "··········\n",
            "Mounted at /content/drive\n"
          ],
          "name": "stdout"
        }
      ]
    },
    {
      "cell_type": "code",
      "metadata": {
        "id": "NmrHZRTJhaHK",
        "colab_type": "code",
        "colab": {}
      },
      "source": [
        "import sys\n",
        "sys.path.insert(0, '/content/drive/My Drive/Colab Notebooks/FontStyler/src/data/')"
      ],
      "execution_count": 0,
      "outputs": []
    },
    {
      "cell_type": "code",
      "metadata": {
        "id": "Bj64ioanhPKV",
        "colab_type": "code",
        "colab": {}
      },
      "source": [
        "import numpy as np\n",
        "import os\n",
        "import io\n",
        "import csv\n",
        "from common.dataset import PickledImageProvider\n",
        "from common.dataset import KoreanFontDataset\n",
        "from common.utils import pad_seq, bytes_to_file, \\\n",
        "    read_split_image, shift_and_resize_image, normalize_image, \\\n",
        "    tight_crop_image, add_padding\n",
        "\n",
        "import matplotlib.pyplot as plt\n",
        "%matplotlib inline"
      ],
      "execution_count": 0,
      "outputs": []
    },
    {
      "cell_type": "code",
      "metadata": {
        "id": "1XThV7jxhPKl",
        "colab_type": "code",
        "colab": {}
      },
      "source": [
        "from PIL import Image\n",
        "import os\n",
        "import os.path\n",
        "\n",
        "import torch.utils.data\n",
        "import torchvision.transforms as transforms\n",
        "\n",
        "def default_image_loader(path):\n",
        "    return Image.open(path).convert('RGB')\n",
        "\n",
        "class TripletImageLoader(torch.utils.data.Dataset): \n",
        "    def __init__(self, pickled, triplets_file_name, base_path=None, filenames_filename=None, transform=None,\n",
        "                 loader=default_image_loader):\n",
        "        \"\"\" \n",
        "        filenames_filename: \n",
        "            A text file with each line containing the path to an image e.g.,\n",
        "            images/class1/sample.jpg\n",
        "                \n",
        "        triplets_file_name: \n",
        "            A text file with each line containing three integers, \n",
        "            where integer i refers to the i-th image in the filenames file. \n",
        "            For a line of intergers 'a b c', a triplet is defined such that image a is more \n",
        "            similar to image c than it is to image b, \n",
        "            e.g., 0 2017 42 \n",
        "        \"\"\"\n",
        "        self.dset = pickled.examples\n",
        "#         self.base_path = base_path  \n",
        "#         self.filenamelist = []\n",
        "#         for line in open(filenames_filename):\n",
        "#             self.filenamelist.append(line.rstrip('\\n'))\n",
        "        triplets = []\n",
        "        anchor_labels = [] #\n",
        "        for line in open(triplets_file_name):\n",
        "            triplets.append((line.split()[0], line.split()[1], line.split()[2])) # anchor, far, close\n",
        "            anchor_labels.append(int(line.split()[3])) #\n",
        "        self.triplets = triplets\n",
        "        self.labels = anchor_labels #\n",
        "        self.transform = transform\n",
        "        self.loader = loader\n",
        "\n",
        "    def __getitem__(self, index):\n",
        "        path1, path2, path3 = self.triplets[index]\n",
        "        anchor_label = self.labels[index]\n",
        "        img1_tuple = self.dset[int(path1)]\n",
        "        img2_tuple = self.dset[int(path2)]\n",
        "        img3_tuple = self.dset[int(path3)]\n",
        "        \n",
        "        info = {                         # clustering을 위해 anchor_index도 추가하였다.\n",
        "            'anchor_index': int(path1),\n",
        "            'anchor_label': anchor_label\n",
        "        }\n",
        "        \n",
        "        # byte만 사용할 예정\n",
        "        img1, byte_1 = img1_tuple[0], img1_tuple[1]\n",
        "        img2, byte_2 = img2_tuple[0], img2_tuple[1]\n",
        "        img3, byte_3 = img3_tuple[0], img3_tuple[1]\n",
        "        \n",
        "        # bytes 타입을 numpy array로 변경 후 normalize\n",
        "        img_arr_1 = np.array(Image.open(io.BytesIO(byte_1)))\n",
        "        img_arr_1 = normalize_image(img_arr_1)\n",
        "        \n",
        "        img_arr_2 = np.array(Image.open(io.BytesIO(byte_2)))\n",
        "        img_arr_2 = normalize_image(img_arr_2)\n",
        "        \n",
        "        img_arr_3 = np.array(Image.open(io.BytesIO(byte_3)))\n",
        "        img_arr_3 = normalize_image(img_arr_3)\n",
        "\n",
        "        cropped_image_1, cropped_image_size_1 = tight_crop_image(img_arr_1, verbose=False)\n",
        "        centered_image_1 = add_padding(cropped_image_1, verbose=False)\n",
        "        \n",
        "        cropped_image_2, cropped_image_size_2 = tight_crop_image(img_arr_2, verbose=False)\n",
        "        centered_image_2 = add_padding(cropped_image_2, verbose=False)\n",
        "        \n",
        "        cropped_image_3, cropped_image_size_3 = tight_crop_image(img_arr_3, verbose=False)\n",
        "        centered_image_3 = add_padding(cropped_image_3, verbose=False)\n",
        "            \n",
        "        return (centered_image_1, centered_image_2, centered_image_3), info #\n",
        "\n",
        "    def __len__(self):\n",
        "        return len(self.triplets)"
      ],
      "execution_count": 0,
      "outputs": []
    },
    {
      "cell_type": "code",
      "metadata": {
        "jupyter": {
          "outputs_hidden": true
        },
        "id": "OGXjxLQyhPKn",
        "colab_type": "code",
        "outputId": "3b5d18b0-1f14-4785-fe5c-5190f7f3f119",
        "colab": {
          "base_uri": "https://localhost:8080/",
          "height": 1000
        }
      },
      "source": [
        "pickled = PickledImageProvider('/content/drive/My Drive/Colab Notebooks/FontStyler/src/data/dataset/kor/latent.obj')\n",
        "triplet_loader = TripletImageLoader(pickled, '/content/drive/My Drive/Colab Notebooks/FontStyler/src/data/triplet_list_with_label.txt')"
      ],
      "execution_count": 5,
      "outputs": [
        {
          "output_type": "stream",
          "text": [
            "processed 10000 examples\n",
            "processed 20000 examples\n",
            "processed 30000 examples\n",
            "processed 40000 examples\n",
            "processed 50000 examples\n",
            "processed 60000 examples\n",
            "processed 70000 examples\n",
            "processed 80000 examples\n",
            "processed 90000 examples\n",
            "processed 100000 examples\n",
            "processed 110000 examples\n",
            "processed 120000 examples\n",
            "processed 130000 examples\n",
            "processed 140000 examples\n",
            "processed 150000 examples\n",
            "processed 160000 examples\n",
            "processed 170000 examples\n",
            "processed 180000 examples\n",
            "processed 190000 examples\n",
            "processed 200000 examples\n",
            "processed 210000 examples\n",
            "processed 220000 examples\n",
            "processed 230000 examples\n",
            "processed 240000 examples\n",
            "processed 250000 examples\n",
            "processed 260000 examples\n",
            "processed 270000 examples\n",
            "processed 280000 examples\n",
            "processed 290000 examples\n",
            "processed 300000 examples\n",
            "processed 310000 examples\n",
            "processed 320000 examples\n",
            "processed 330000 examples\n",
            "processed 340000 examples\n",
            "processed 350000 examples\n",
            "processed 360000 examples\n",
            "processed 370000 examples\n",
            "processed 380000 examples\n",
            "processed 390000 examples\n",
            "processed 400000 examples\n",
            "processed 410000 examples\n",
            "processed 420000 examples\n",
            "processed 430000 examples\n",
            "processed 440000 examples\n",
            "processed 450000 examples\n",
            "processed 460000 examples\n",
            "processed 470000 examples\n",
            "processed 480000 examples\n",
            "processed 490000 examples\n",
            "processed 500000 examples\n",
            "processed 510000 examples\n",
            "processed 520000 examples\n",
            "processed 530000 examples\n",
            "processed 540000 examples\n",
            "processed 550000 examples\n",
            "processed 560000 examples\n",
            "processed 570000 examples\n",
            "processed 580000 examples\n",
            "processed 590000 examples\n",
            "processed 600000 examples\n",
            "processed 610000 examples\n",
            "processed 620000 examples\n",
            "processed 630000 examples\n",
            "processed 640000 examples\n",
            "processed 650000 examples\n",
            "processed 660000 examples\n",
            "processed 670000 examples\n",
            "processed 680000 examples\n",
            "processed 690000 examples\n",
            "processed 700000 examples\n",
            "processed 710000 examples\n",
            "processed 720000 examples\n",
            "processed 730000 examples\n",
            "processed 740000 examples\n",
            "processed 750000 examples\n",
            "processed 760000 examples\n",
            "processed 770000 examples\n",
            "processed 780000 examples\n",
            "processed 790000 examples\n",
            "processed 800000 examples\n",
            "processed 810000 examples\n",
            "processed 820000 examples\n",
            "processed 830000 examples\n",
            "processed 840000 examples\n",
            "processed 850000 examples\n",
            "processed 860000 examples\n",
            "processed 870000 examples\n",
            "processed 880000 examples\n",
            "processed 890000 examples\n",
            "processed 900000 examples\n",
            "processed 910000 examples\n",
            "processed 920000 examples\n",
            "processed 930000 examples\n",
            "processed 940000 examples\n",
            "processed 950000 examples\n",
            "processed 960000 examples\n",
            "processed 970000 examples\n",
            "processed 980000 examples\n",
            "processed 990000 examples\n",
            "processed 1000000 examples\n",
            "processed 1010000 examples\n",
            "processed 1020000 examples\n",
            "processed 1030000 examples\n",
            "processed 1040000 examples\n",
            "processed 1050000 examples\n",
            "processed 1060000 examples\n",
            "processed 1070000 examples\n",
            "processed 1080000 examples\n",
            "processed 1090000 examples\n",
            "processed 1100000 examples\n",
            "processed 1110000 examples\n",
            "processed 1120000 examples\n",
            "processed 1130000 examples\n",
            "processed 1140000 examples\n",
            "processed 1150000 examples\n",
            "processed 1160000 examples\n",
            "processed 1170000 examples\n",
            "processed 1180000 examples\n",
            "processed 1190000 examples\n",
            "processed 1200000 examples\n",
            "processed 1210000 examples\n",
            "processed 1220000 examples\n",
            "processed 1230000 examples\n",
            "processed 1240000 examples\n",
            "processed 1250000 examples\n",
            "unpickled total 1257250 examples\n",
            "saved total 251450 examples only for byte\n"
          ],
          "name": "stdout"
        }
      ]
    },
    {
      "cell_type": "code",
      "metadata": {
        "id": "ItekngQEhPKp",
        "colab_type": "code",
        "outputId": "ca8e1271-3763-4aac-b2bc-c6f27da6d493",
        "colab": {
          "base_uri": "https://localhost:8080/",
          "height": 35
        }
      },
      "source": [
        "len(triplet_loader[1][0]) # anchor, negative, positive images"
      ],
      "execution_count": 6,
      "outputs": [
        {
          "output_type": "execute_result",
          "data": {
            "text/plain": [
              "3"
            ]
          },
          "metadata": {
            "tags": []
          },
          "execution_count": 6
        }
      ]
    },
    {
      "cell_type": "code",
      "metadata": {
        "id": "KEPCc58RhPKq",
        "colab_type": "code",
        "outputId": "da1ecd3d-1c87-440b-ee9a-8055d81862cf",
        "colab": {
          "base_uri": "https://localhost:8080/",
          "height": 35
        }
      },
      "source": [
        "triplet_loader[1][1] # anchor label == 0 ( ~ triplet_loader[2349][1])"
      ],
      "execution_count": 7,
      "outputs": [
        {
          "output_type": "execute_result",
          "data": {
            "text/plain": [
              "{'anchor_index': 1776, 'anchor_label': 0}"
            ]
          },
          "metadata": {
            "tags": []
          },
          "execution_count": 7
        }
      ]
    },
    {
      "cell_type": "markdown",
      "metadata": {
        "id": "hZ1dG4K-8kUN",
        "colab_type": "text"
      },
      "source": [
        "### 전체 데이터셋 준비"
      ]
    },
    {
      "cell_type": "code",
      "metadata": {
        "id": "I8fPiqle8jsd",
        "colab_type": "code",
        "outputId": "5c068409-6ea4-4d72-baac-04f7c8f8763d",
        "colab": {
          "base_uri": "https://localhost:8080/",
          "height": 1000
        }
      },
      "source": [
        "dset = KoreanFontDataset(PickledImageProvider('/content/drive/My Drive/Colab Notebooks/FontStyler/src/data/dataset/kor/latent.obj'), vector_size=10)"
      ],
      "execution_count": 8,
      "outputs": [
        {
          "output_type": "stream",
          "text": [
            "processed 10000 examples\n",
            "processed 20000 examples\n",
            "processed 30000 examples\n",
            "processed 40000 examples\n",
            "processed 50000 examples\n",
            "processed 60000 examples\n",
            "processed 70000 examples\n",
            "processed 80000 examples\n",
            "processed 90000 examples\n",
            "processed 100000 examples\n",
            "processed 110000 examples\n",
            "processed 120000 examples\n",
            "processed 130000 examples\n",
            "processed 140000 examples\n",
            "processed 150000 examples\n",
            "processed 160000 examples\n",
            "processed 170000 examples\n",
            "processed 180000 examples\n",
            "processed 190000 examples\n",
            "processed 200000 examples\n",
            "processed 210000 examples\n",
            "processed 220000 examples\n",
            "processed 230000 examples\n",
            "processed 240000 examples\n",
            "processed 250000 examples\n",
            "processed 260000 examples\n",
            "processed 270000 examples\n",
            "processed 280000 examples\n",
            "processed 290000 examples\n",
            "processed 300000 examples\n",
            "processed 310000 examples\n",
            "processed 320000 examples\n",
            "processed 330000 examples\n",
            "processed 340000 examples\n",
            "processed 350000 examples\n",
            "processed 360000 examples\n",
            "processed 370000 examples\n",
            "processed 380000 examples\n",
            "processed 390000 examples\n",
            "processed 400000 examples\n",
            "processed 410000 examples\n",
            "processed 420000 examples\n",
            "processed 430000 examples\n",
            "processed 440000 examples\n",
            "processed 450000 examples\n",
            "processed 460000 examples\n",
            "processed 470000 examples\n",
            "processed 480000 examples\n",
            "processed 490000 examples\n",
            "processed 500000 examples\n",
            "processed 510000 examples\n",
            "processed 520000 examples\n",
            "processed 530000 examples\n",
            "processed 540000 examples\n",
            "processed 550000 examples\n",
            "processed 560000 examples\n",
            "processed 570000 examples\n",
            "processed 580000 examples\n",
            "processed 590000 examples\n",
            "processed 600000 examples\n",
            "processed 610000 examples\n",
            "processed 620000 examples\n",
            "processed 630000 examples\n",
            "processed 640000 examples\n",
            "processed 650000 examples\n",
            "processed 660000 examples\n",
            "processed 670000 examples\n",
            "processed 680000 examples\n",
            "processed 690000 examples\n",
            "processed 700000 examples\n",
            "processed 710000 examples\n",
            "processed 720000 examples\n",
            "processed 730000 examples\n",
            "processed 740000 examples\n",
            "processed 750000 examples\n",
            "processed 760000 examples\n",
            "processed 770000 examples\n",
            "processed 780000 examples\n",
            "processed 790000 examples\n",
            "processed 800000 examples\n",
            "processed 810000 examples\n",
            "processed 820000 examples\n",
            "processed 830000 examples\n",
            "processed 840000 examples\n",
            "processed 850000 examples\n",
            "processed 860000 examples\n",
            "processed 870000 examples\n",
            "processed 880000 examples\n",
            "processed 890000 examples\n",
            "processed 900000 examples\n",
            "processed 910000 examples\n",
            "processed 920000 examples\n",
            "processed 930000 examples\n",
            "processed 940000 examples\n",
            "processed 950000 examples\n",
            "processed 960000 examples\n",
            "processed 970000 examples\n",
            "processed 980000 examples\n",
            "processed 990000 examples\n",
            "processed 1000000 examples\n",
            "processed 1010000 examples\n",
            "processed 1020000 examples\n",
            "processed 1030000 examples\n",
            "processed 1040000 examples\n",
            "processed 1050000 examples\n",
            "processed 1060000 examples\n",
            "processed 1070000 examples\n",
            "processed 1080000 examples\n",
            "processed 1090000 examples\n",
            "processed 1100000 examples\n",
            "processed 1110000 examples\n",
            "processed 1120000 examples\n",
            "processed 1130000 examples\n",
            "processed 1140000 examples\n",
            "processed 1150000 examples\n",
            "processed 1160000 examples\n",
            "processed 1170000 examples\n",
            "processed 1180000 examples\n",
            "processed 1190000 examples\n",
            "processed 1200000 examples\n",
            "processed 1210000 examples\n",
            "processed 1220000 examples\n",
            "processed 1230000 examples\n",
            "processed 1240000 examples\n",
            "processed 1250000 examples\n",
            "unpickled total 1257250 examples\n",
            "saved total 251450 examples only for byte\n"
          ],
          "name": "stdout"
        }
      ]
    },
    {
      "cell_type": "code",
      "metadata": {
        "id": "24psSjJ3-qB3",
        "colab_type": "code",
        "outputId": "12d7fcf2-5ec8-4354-8ef8-b01dc6ca46e6",
        "colab": {
          "base_uri": "https://localhost:8080/",
          "height": 35
        }
      },
      "source": [
        "len(dset)"
      ],
      "execution_count": 9,
      "outputs": [
        {
          "output_type": "execute_result",
          "data": {
            "text/plain": [
              "251450"
            ]
          },
          "metadata": {
            "tags": []
          },
          "execution_count": 9
        }
      ]
    },
    {
      "cell_type": "code",
      "metadata": {
        "id": "ERjY1VDD8jqO",
        "colab_type": "code",
        "outputId": "e1f48dd9-b283-4aed-db33-6c24b4e9df7f",
        "colab": {
          "base_uri": "https://localhost:8080/",
          "height": 345
        }
      },
      "source": [
        "dset[0] # 주의) 여기서의 font_index와 TripletLoader의 anchor_label은 다르다."
      ],
      "execution_count": 10,
      "outputs": [
        {
          "output_type": "execute_result",
          "data": {
            "text/plain": [
              "({'font_doc2vec': [2.2403063999999997,\n",
              "   -1.4756056999999998,\n",
              "   -0.593018,\n",
              "   -0.18605323,\n",
              "   -1.2381212,\n",
              "   -1.161201,\n",
              "   2.8255024,\n",
              "   0.10454782,\n",
              "   -0.16260550000000001,\n",
              "   1.2440913999999998],\n",
              "  'font_index': 0,\n",
              "  'word_index': 0},\n",
              " array([[1., 1., 1., ..., 1., 1., 1.],\n",
              "        [1., 1., 1., ..., 1., 1., 1.],\n",
              "        [1., 1., 1., ..., 1., 1., 1.],\n",
              "        ...,\n",
              "        [1., 1., 1., ..., 1., 1., 1.],\n",
              "        [1., 1., 1., ..., 1., 1., 1.],\n",
              "        [1., 1., 1., ..., 1., 1., 1.]]))"
            ]
          },
          "metadata": {
            "tags": []
          },
          "execution_count": 10
        }
      ]
    },
    {
      "cell_type": "code",
      "metadata": {
        "id": "gK6tOiaq8jn8",
        "colab_type": "code",
        "outputId": "8c94ed85-edc3-42fa-8462-022086186730",
        "colab": {
          "base_uri": "https://localhost:8080/",
          "height": 345
        }
      },
      "source": [
        "dset[1776] # anchor index 1776의 실제 img"
      ],
      "execution_count": 11,
      "outputs": [
        {
          "output_type": "execute_result",
          "data": {
            "text/plain": [
              "({'font_doc2vec': [2.2403063999999997,\n",
              "   -1.4756056999999998,\n",
              "   -0.593018,\n",
              "   -0.18605323,\n",
              "   -1.2381212,\n",
              "   -1.161201,\n",
              "   2.8255024,\n",
              "   0.10454782,\n",
              "   -0.16260550000000001,\n",
              "   1.2440913999999998],\n",
              "  'font_index': 0,\n",
              "  'word_index': 482},\n",
              " array([[1., 1., 1., ..., 1., 1., 1.],\n",
              "        [1., 1., 1., ..., 1., 1., 1.],\n",
              "        [1., 1., 1., ..., 1., 1., 1.],\n",
              "        ...,\n",
              "        [1., 1., 1., ..., 1., 1., 1.],\n",
              "        [1., 1., 1., ..., 1., 1., 1.],\n",
              "        [1., 1., 1., ..., 1., 1., 1.]]))"
            ]
          },
          "metadata": {
            "tags": []
          },
          "execution_count": 11
        }
      ]
    },
    {
      "cell_type": "markdown",
      "metadata": {
        "id": "VaBhOWElhPKt",
        "colab_type": "text"
      },
      "source": [
        "---\n",
        "## Load Trained Model"
      ]
    },
    {
      "cell_type": "code",
      "metadata": {
        "id": "YlisWu27hPKu",
        "colab_type": "code",
        "colab": {}
      },
      "source": [
        "import torch\n",
        "import torch.nn as nn\n",
        "import torch.nn.functional as F\n",
        "import numpy as np\n",
        "import shutil\n",
        "import os\n",
        "import io\n",
        "\n",
        "class Tripletnet(nn.Module):\n",
        "    def __init__(self, embeddingnet):\n",
        "        super(Tripletnet, self).__init__()\n",
        "        self.embeddingnet = embeddingnet\n",
        "\n",
        "    def forward(self, x, y, z):\n",
        "        embedded_x = self.embeddingnet(x)\n",
        "        embedded_y = self.embeddingnet(y)\n",
        "        embedded_z = self.embeddingnet(z)\n",
        "        dist_a = F.pairwise_distance(embedded_x, embedded_y, 2)\n",
        "        dist_b = F.pairwise_distance(embedded_x, embedded_z, 2)\n",
        "        return dist_a, dist_b, embedded_x, embedded_y, embedded_z"
      ],
      "execution_count": 0,
      "outputs": []
    },
    {
      "cell_type": "code",
      "metadata": {
        "id": "nWkE4PFgiJcP",
        "colab_type": "code",
        "colab": {}
      },
      "source": [
        "# FontStyler의 convAE 코드 (layers.py)\n",
        "class Encoder_conv(nn.Module):\n",
        "    \n",
        "    def __init__(self, img_dim=1, conv_dim=16): # output dim은 128이 될 것\n",
        "        super(Encoder_conv, self).__init__()\n",
        "        self.conv1 = conv2d(img_dim, conv_dim, k_size=5, stride=2, pad=2, dilation=2, lrelu=False, bn=False)\n",
        "        self.conv2 = conv2d(conv_dim, conv_dim*2, k_size=5, stride=4, pad=2, dilation=2)\n",
        "        self.conv3 = conv2d(conv_dim*2, conv_dim*4, k_size=4, stride=4, pad=1, dilation=1)\n",
        "        self.conv4 = conv2d(conv_dim*4, conv_dim*8)\n",
        "        self.conv5 = conv2d(conv_dim*8, conv_dim*8)\n",
        "    \n",
        "    def forward(self, images):\n",
        "        # |images| = (batch, img, img)\n",
        "        # print(images.shape)\n",
        "        images = images.unsqueeze(dim=1)\n",
        "        # |images| = (batch, 1, 128, 128)\n",
        "        # print(images.shape)\n",
        "        e1 = self.conv1(images)\n",
        "        # |e1| = (batch, conv_dim, 64, 64)\n",
        "        # print(e1.shape)\n",
        "        e2 = self.conv2(e1)\n",
        "        # |e2| = (batch, conv_dim*2, 16, 16)\n",
        "        # print(e2.shape)\n",
        "        e3 = self.conv3(e2)\n",
        "        # |e3| = (batch, conv_dim*4, 4, 4)\n",
        "        # print(e3.shape)\n",
        "        e4 = self.conv4(e3)\n",
        "        # |e4| = (batch, conv_dim*8, 2, 2)\n",
        "        # print(e4.shape)\n",
        "        encoded_source = self.conv5(e4)\n",
        "        # |encoded_source| = (batch, conv_dim*8, 1, 1)\n",
        "        # print(encoded_source.shape)\n",
        "        \n",
        "        return encoded_source"
      ],
      "execution_count": 0,
      "outputs": []
    },
    {
      "cell_type": "code",
      "metadata": {
        "id": "YWJkMdBUiLXC",
        "colab_type": "code",
        "colab": {}
      },
      "source": [
        "# function.py\n",
        "import torch.nn as nn\n",
        "\n",
        "def batch_norm(c_out, momentum=0.1):\n",
        "    return nn.BatchNorm2d(c_out, momentum=momentum)\n",
        "\n",
        "def conv2d(c_in, c_out, k_size=3, stride=2, pad=1, dilation=1, bn=True, lrelu=True, leak=0.2):\n",
        "    layers = []\n",
        "    if lrelu:\n",
        "        layers.append(nn.LeakyReLU(leak))\n",
        "    layers.append(nn.Conv2d(c_in, c_out, k_size, stride, pad))\n",
        "    if bn:\n",
        "        layers.append(nn.BatchNorm2d(c_out))\n",
        "    return nn.Sequential(*layers)\n",
        "\n",
        "def deconv2d(c_in, c_out, k_size=3, stride=1, pad=1, dilation=1, bn=True, dropout=False, p=0.5):\n",
        "    layers = []\n",
        "    layers.append(nn.LeakyReLU(0.2))\n",
        "    layers.append(nn.ConvTranspose2d(c_in, c_out, k_size, stride, pad))\n",
        "    if bn:\n",
        "        layers.append(nn.BatchNorm2d(c_out))\n",
        "    if dropout:\n",
        "        layers.append(nn.Dropout(p))\n",
        "    return nn.Sequential(*layers)\n",
        "\n",
        "def lrelu(leak=0.2):\n",
        "    return nn.LeakyReLU(leak)\n",
        "\n",
        "def dropout(p=0.2):\n",
        "    return nn.Dropout(p)"
      ],
      "execution_count": 0,
      "outputs": []
    },
    {
      "cell_type": "code",
      "metadata": {
        "id": "N_-bxI2KiMqD",
        "colab_type": "code",
        "colab": {}
      },
      "source": [
        "checkpoint_pth = '/content/drive/My Drive/Colab Notebooks/FontStyler/src/data/runs/TripleNet/model_best.pth.tar'"
      ],
      "execution_count": 0,
      "outputs": []
    },
    {
      "cell_type": "code",
      "metadata": {
        "id": "lSq0ksp6j5Ci",
        "colab_type": "code",
        "outputId": "ab89efb0-d8e0-4c74-d322-4df8e72316ec",
        "colab": {
          "base_uri": "https://localhost:8080/",
          "height": 35
        }
      },
      "source": [
        "device = 'cuda' if torch.cuda.is_available() else 'cpu'\n",
        "best = torch.load(checkpoint_pth)\n",
        "\n",
        "# 학습된 TripletNet 로드\n",
        "model = Encoder_conv()\n",
        "tnet  = Tripletnet(model)\n",
        "tnet.load_state_dict(best['state_dict'])"
      ],
      "execution_count": 16,
      "outputs": [
        {
          "output_type": "execute_result",
          "data": {
            "text/plain": [
              "<All keys matched successfully>"
            ]
          },
          "metadata": {
            "tags": []
          },
          "execution_count": 16
        }
      ]
    },
    {
      "cell_type": "code",
      "metadata": {
        "id": "7N0QL7SxkB9I",
        "colab_type": "code",
        "outputId": "2e54c998-8da8-4de7-927a-7d70dba8515f",
        "colab": {
          "base_uri": "https://localhost:8080/",
          "height": 484
        }
      },
      "source": [
        "tnet.cuda()"
      ],
      "execution_count": 17,
      "outputs": [
        {
          "output_type": "execute_result",
          "data": {
            "text/plain": [
              "Tripletnet(\n",
              "  (embeddingnet): Encoder_conv(\n",
              "    (conv1): Sequential(\n",
              "      (0): Conv2d(1, 16, kernel_size=(5, 5), stride=(2, 2), padding=(2, 2))\n",
              "    )\n",
              "    (conv2): Sequential(\n",
              "      (0): LeakyReLU(negative_slope=0.2)\n",
              "      (1): Conv2d(16, 32, kernel_size=(5, 5), stride=(4, 4), padding=(2, 2))\n",
              "      (2): BatchNorm2d(32, eps=1e-05, momentum=0.1, affine=True, track_running_stats=True)\n",
              "    )\n",
              "    (conv3): Sequential(\n",
              "      (0): LeakyReLU(negative_slope=0.2)\n",
              "      (1): Conv2d(32, 64, kernel_size=(4, 4), stride=(4, 4), padding=(1, 1))\n",
              "      (2): BatchNorm2d(64, eps=1e-05, momentum=0.1, affine=True, track_running_stats=True)\n",
              "    )\n",
              "    (conv4): Sequential(\n",
              "      (0): LeakyReLU(negative_slope=0.2)\n",
              "      (1): Conv2d(64, 128, kernel_size=(3, 3), stride=(2, 2), padding=(1, 1))\n",
              "      (2): BatchNorm2d(128, eps=1e-05, momentum=0.1, affine=True, track_running_stats=True)\n",
              "    )\n",
              "    (conv5): Sequential(\n",
              "      (0): LeakyReLU(negative_slope=0.2)\n",
              "      (1): Conv2d(128, 128, kernel_size=(3, 3), stride=(2, 2), padding=(1, 1))\n",
              "      (2): BatchNorm2d(128, eps=1e-05, momentum=0.1, affine=True, track_running_stats=True)\n",
              "    )\n",
              "  )\n",
              ")"
            ]
          },
          "metadata": {
            "tags": []
          },
          "execution_count": 17
        }
      ]
    },
    {
      "cell_type": "code",
      "metadata": {
        "id": "L9WzEhLtiskN",
        "colab_type": "code",
        "outputId": "c8adfd86-291e-45f4-d664-db76f2b62605",
        "colab": {
          "base_uri": "https://localhost:8080/",
          "height": 1000
        }
      },
      "source": [
        "pickled = PickledImageProvider('/content/drive/My Drive/Colab Notebooks/FontStyler/src/data/dataset/kor/latent.obj')\n",
        "triplet_loader = TripletImageLoader(pickled, '/content/drive/My Drive/Colab Notebooks/FontStyler/src/data/triplet_list_with_label.txt')"
      ],
      "execution_count": 18,
      "outputs": [
        {
          "output_type": "stream",
          "text": [
            "processed 10000 examples\n",
            "processed 20000 examples\n",
            "processed 30000 examples\n",
            "processed 40000 examples\n",
            "processed 50000 examples\n",
            "processed 60000 examples\n",
            "processed 70000 examples\n",
            "processed 80000 examples\n",
            "processed 90000 examples\n",
            "processed 100000 examples\n",
            "processed 110000 examples\n",
            "processed 120000 examples\n",
            "processed 130000 examples\n",
            "processed 140000 examples\n",
            "processed 150000 examples\n",
            "processed 160000 examples\n",
            "processed 170000 examples\n",
            "processed 180000 examples\n",
            "processed 190000 examples\n",
            "processed 200000 examples\n",
            "processed 210000 examples\n",
            "processed 220000 examples\n",
            "processed 230000 examples\n",
            "processed 240000 examples\n",
            "processed 250000 examples\n",
            "processed 260000 examples\n",
            "processed 270000 examples\n",
            "processed 280000 examples\n",
            "processed 290000 examples\n",
            "processed 300000 examples\n",
            "processed 310000 examples\n",
            "processed 320000 examples\n",
            "processed 330000 examples\n",
            "processed 340000 examples\n",
            "processed 350000 examples\n",
            "processed 360000 examples\n",
            "processed 370000 examples\n",
            "processed 380000 examples\n",
            "processed 390000 examples\n",
            "processed 400000 examples\n",
            "processed 410000 examples\n",
            "processed 420000 examples\n",
            "processed 430000 examples\n",
            "processed 440000 examples\n",
            "processed 450000 examples\n",
            "processed 460000 examples\n",
            "processed 470000 examples\n",
            "processed 480000 examples\n",
            "processed 490000 examples\n",
            "processed 500000 examples\n",
            "processed 510000 examples\n",
            "processed 520000 examples\n",
            "processed 530000 examples\n",
            "processed 540000 examples\n",
            "processed 550000 examples\n",
            "processed 560000 examples\n",
            "processed 570000 examples\n",
            "processed 580000 examples\n",
            "processed 590000 examples\n",
            "processed 600000 examples\n",
            "processed 610000 examples\n",
            "processed 620000 examples\n",
            "processed 630000 examples\n",
            "processed 640000 examples\n",
            "processed 650000 examples\n",
            "processed 660000 examples\n",
            "processed 670000 examples\n",
            "processed 680000 examples\n",
            "processed 690000 examples\n",
            "processed 700000 examples\n",
            "processed 710000 examples\n",
            "processed 720000 examples\n",
            "processed 730000 examples\n",
            "processed 740000 examples\n",
            "processed 750000 examples\n",
            "processed 760000 examples\n",
            "processed 770000 examples\n",
            "processed 780000 examples\n",
            "processed 790000 examples\n",
            "processed 800000 examples\n",
            "processed 810000 examples\n",
            "processed 820000 examples\n",
            "processed 830000 examples\n",
            "processed 840000 examples\n",
            "processed 850000 examples\n",
            "processed 860000 examples\n",
            "processed 870000 examples\n",
            "processed 880000 examples\n",
            "processed 890000 examples\n",
            "processed 900000 examples\n",
            "processed 910000 examples\n",
            "processed 920000 examples\n",
            "processed 930000 examples\n",
            "processed 940000 examples\n",
            "processed 950000 examples\n",
            "processed 960000 examples\n",
            "processed 970000 examples\n",
            "processed 980000 examples\n",
            "processed 990000 examples\n",
            "processed 1000000 examples\n",
            "processed 1010000 examples\n",
            "processed 1020000 examples\n",
            "processed 1030000 examples\n",
            "processed 1040000 examples\n",
            "processed 1050000 examples\n",
            "processed 1060000 examples\n",
            "processed 1070000 examples\n",
            "processed 1080000 examples\n",
            "processed 1090000 examples\n",
            "processed 1100000 examples\n",
            "processed 1110000 examples\n",
            "processed 1120000 examples\n",
            "processed 1130000 examples\n",
            "processed 1140000 examples\n",
            "processed 1150000 examples\n",
            "processed 1160000 examples\n",
            "processed 1170000 examples\n",
            "processed 1180000 examples\n",
            "processed 1190000 examples\n",
            "processed 1200000 examples\n",
            "processed 1210000 examples\n",
            "processed 1220000 examples\n",
            "processed 1230000 examples\n",
            "processed 1240000 examples\n",
            "processed 1250000 examples\n",
            "unpickled total 1257250 examples\n",
            "saved total 251450 examples only for byte\n"
          ],
          "name": "stdout"
        }
      ]
    },
    {
      "cell_type": "code",
      "metadata": {
        "id": "qE6cd3xAi0Rk",
        "colab_type": "code",
        "outputId": "3753a6c0-3aaf-4aaa-8b26-e9b799116ef2",
        "colab": {
          "base_uri": "https://localhost:8080/",
          "height": 35
        }
      },
      "source": [
        "len(triplet_loader)"
      ],
      "execution_count": 19,
      "outputs": [
        {
          "output_type": "execute_result",
          "data": {
            "text/plain": [
              "251450"
            ]
          },
          "metadata": {
            "tags": []
          },
          "execution_count": 19
        }
      ]
    },
    {
      "cell_type": "code",
      "metadata": {
        "id": "y08m0SbojCJP",
        "colab_type": "code",
        "outputId": "7c80c1f2-f4b7-4acb-ab2e-7fe4635bb042",
        "colab": {
          "base_uri": "https://localhost:8080/",
          "height": 35
        }
      },
      "source": [
        "triplet_loader[2350][1] # label이 출력되는지 확인"
      ],
      "execution_count": 20,
      "outputs": [
        {
          "output_type": "execute_result",
          "data": {
            "text/plain": [
              "{'anchor_index': 42952, 'anchor_label': 1}"
            ]
          },
          "metadata": {
            "tags": []
          },
          "execution_count": 20
        }
      ]
    },
    {
      "cell_type": "code",
      "metadata": {
        "id": "6HDTTpaCi4nX",
        "colab_type": "code",
        "outputId": "8512bec0-f933-4c75-975d-c2c2b8c21bcd",
        "colab": {
          "base_uri": "https://localhost:8080/",
          "height": 166
        }
      },
      "source": [
        "# anchor (이 이미지들을 Triplet network에 통과시켜 plotting할 것이다.)\n",
        "plt.figure(figsize=(20, 10))\n",
        "for idx in range(10):\n",
        "    plt.subplot(1, 10, idx+1)\n",
        "    plt.imshow(triplet_loader[idx+5000][0][0], cmap='gray', label=idx)\n",
        "plt.show()"
      ],
      "execution_count": 21,
      "outputs": [
        {
          "output_type": "display_data",
          "data": {
            "image/png": "[encoded data removed]",
            "text/plain": [
              "<Figure size 1440x720 with 10 Axes>"
            ]
          },
          "metadata": {
            "tags": []
          }
        }
      ]
    },
    {
      "cell_type": "markdown",
      "metadata": {
        "id": "NvSgow5GjR_6",
        "colab_type": "text"
      },
      "source": [
        "---\n",
        "## Make Latent Vectors"
      ]
    },
    {
      "cell_type": "code",
      "metadata": {
        "id": "Bc12YtI-C3rd",
        "colab_type": "code",
        "outputId": "fdade67c-b468-439d-8459-5267b8c29487",
        "colab": {
          "base_uri": "https://localhost:8080/",
          "height": 345
        }
      },
      "source": [
        "dset[1273]"
      ],
      "execution_count": 22,
      "outputs": [
        {
          "output_type": "execute_result",
          "data": {
            "text/plain": [
              "({'font_doc2vec': [2.2403063999999997,\n",
              "   -1.4756056999999998,\n",
              "   -0.593018,\n",
              "   -0.18605323,\n",
              "   -1.2381212,\n",
              "   -1.161201,\n",
              "   2.8255024,\n",
              "   0.10454782,\n",
              "   -0.16260550000000001,\n",
              "   1.2440913999999998],\n",
              "  'font_index': 0,\n",
              "  'word_index': 2143},\n",
              " array([[1., 1., 1., ..., 1., 1., 1.],\n",
              "        [1., 1., 1., ..., 1., 1., 1.],\n",
              "        [1., 1., 1., ..., 1., 1., 1.],\n",
              "        ...,\n",
              "        [1., 1., 1., ..., 1., 1., 1.],\n",
              "        [1., 1., 1., ..., 1., 1., 1.],\n",
              "        [1., 1., 1., ..., 1., 1., 1.]]))"
            ]
          },
          "metadata": {
            "tags": []
          },
          "execution_count": 22
        }
      ]
    },
    {
      "cell_type": "code",
      "metadata": {
        "id": "SV0XwLraC3ox",
        "colab_type": "code",
        "outputId": "28f21bf6-48c8-405c-db3a-350d061f3836",
        "colab": {
          "base_uri": "https://localhost:8080/",
          "height": 363
        }
      },
      "source": [
        "triplet_loader[0]"
      ],
      "execution_count": 23,
      "outputs": [
        {
          "output_type": "execute_result",
          "data": {
            "text/plain": [
              "((array([[1., 1., 1., ..., 1., 1., 1.],\n",
              "         [1., 1., 1., ..., 1., 1., 1.],\n",
              "         [1., 1., 1., ..., 1., 1., 1.],\n",
              "         ...,\n",
              "         [1., 1., 1., ..., 1., 1., 1.],\n",
              "         [1., 1., 1., ..., 1., 1., 1.],\n",
              "         [1., 1., 1., ..., 1., 1., 1.]]), array([[1., 1., 1., ..., 1., 1., 1.],\n",
              "         [1., 1., 1., ..., 1., 1., 1.],\n",
              "         [1., 1., 1., ..., 1., 1., 1.],\n",
              "         ...,\n",
              "         [1., 1., 1., ..., 1., 1., 1.],\n",
              "         [1., 1., 1., ..., 1., 1., 1.],\n",
              "         [1., 1., 1., ..., 1., 1., 1.]]), array([[1., 1., 1., ..., 1., 1., 1.],\n",
              "         [1., 1., 1., ..., 1., 1., 1.],\n",
              "         [1., 1., 1., ..., 1., 1., 1.],\n",
              "         ...,\n",
              "         [1., 1., 1., ..., 1., 1., 1.],\n",
              "         [1., 1., 1., ..., 1., 1., 1.],\n",
              "         [1., 1., 1., ..., 1., 1., 1.]])),\n",
              " {'anchor_index': 1273, 'anchor_label': 0})"
            ]
          },
          "metadata": {
            "tags": []
          },
          "execution_count": 23
        }
      ]
    },
    {
      "cell_type": "code",
      "metadata": {
        "id": "Yfux0oUyDF8D",
        "colab_type": "code",
        "outputId": "68bd3fc8-ce3b-4603-f8ee-766f13597558",
        "colab": {
          "base_uri": "https://localhost:8080/",
          "height": 52
        }
      },
      "source": [
        "print(dset[0][1].shape)\n",
        "print(triplet_loader[0][0][0].shape)"
      ],
      "execution_count": 24,
      "outputs": [
        {
          "output_type": "stream",
          "text": [
            "(128, 128)\n",
            "(128, 128)\n"
          ],
          "name": "stdout"
        }
      ]
    },
    {
      "cell_type": "markdown",
      "metadata": {
        "id": "CmLMdLYPFBeK",
        "colab_type": "text"
      },
      "source": [
        "# K-means clustering\n",
        "메모리상의 문제로 50000개만 테스트"
      ]
    },
    {
      "cell_type": "code",
      "metadata": {
        "id": "v51mf4JcE_uN",
        "colab_type": "code",
        "colab": {}
      },
      "source": [
        "import pandas as pd\n",
        "from sklearn.cluster import KMeans"
      ],
      "execution_count": 0,
      "outputs": []
    },
    {
      "cell_type": "code",
      "metadata": {
        "id": "gQhEOgJhMhpb",
        "colab_type": "code",
        "colab": {}
      },
      "source": [
        "import torch\n",
        "import torch.nn as nn\n",
        "import torch.nn.functional as F\n",
        "from torch.utils.data.sampler import SubsetRandomSampler\n",
        "\n",
        "idxs = list(range(len(triplet_loader)))\n",
        "np.random.shuffle(idxs)\n",
        "batch_size = 32\n",
        "\n",
        "sampler = SubsetRandomSampler(idxs) # 전체 샘플링\n",
        "loader = torch.utils.data.DataLoader(\n",
        "        triplet_loader,\n",
        "        batch_size = batch_size,\n",
        "        sampler = sampler\n",
        "    )"
      ],
      "execution_count": 0,
      "outputs": []
    },
    {
      "cell_type": "code",
      "metadata": {
        "id": "7_5QsxRQI6yz",
        "colab_type": "code",
        "colab": {}
      },
      "source": [
        "tnet.eval()\n",
        "with torch.no_grad():\n",
        "    anchors = []\n",
        "    labels  = []\n",
        "    indexes = []\n",
        "    for idx, ((img1, img2, img3), info) in enumerate(loader): \n",
        "        if device == 'cuda':\n",
        "            img1, img2, img3 = img1.cuda(), img2.cuda(), img3.cuda()\n",
        "        img1, img2, img3 = img1.float(), img2.float(), img3.float()\n",
        "\n",
        "        _, _, anchor, _, _ = tnet(img1, img2, img3)\n",
        "        anchors.append(anchor) \n",
        "        labels.append(info['anchor_label'])\n",
        "        indexes.append(info['anchor_index'])\n",
        "        if idx == 1000:\n",
        "            break"
      ],
      "execution_count": 0,
      "outputs": []
    },
    {
      "cell_type": "code",
      "metadata": {
        "id": "2qJJKICeMyMG",
        "colab_type": "code",
        "outputId": "bf8cc3ad-a0e6-41e7-d0bc-7d89a46bddb7",
        "colab": {
          "base_uri": "https://localhost:8080/",
          "height": 35
        }
      },
      "source": [
        "len(anchors), len(labels), len(indexes)"
      ],
      "execution_count": 30,
      "outputs": [
        {
          "output_type": "execute_result",
          "data": {
            "text/plain": [
              "(1001, 1001, 1001)"
            ]
          },
          "metadata": {
            "tags": []
          },
          "execution_count": 30
        }
      ]
    },
    {
      "cell_type": "code",
      "metadata": {
        "id": "UIYm-6-6MyJd",
        "colab_type": "code",
        "outputId": "ba87c0ae-01c3-45a3-ddf4-0e441238a5b2",
        "colab": {
          "base_uri": "https://localhost:8080/",
          "height": 35
        }
      },
      "source": [
        "anchors[0].shape"
      ],
      "execution_count": 31,
      "outputs": [
        {
          "output_type": "execute_result",
          "data": {
            "text/plain": [
              "torch.Size([32, 128, 1, 1])"
            ]
          },
          "metadata": {
            "tags": []
          },
          "execution_count": 31
        }
      ]
    },
    {
      "cell_type": "code",
      "metadata": {
        "id": "0XwP96-dMyGw",
        "colab_type": "code",
        "outputId": "e66593b2-4292-43eb-948b-d332b6a703b0",
        "colab": {
          "base_uri": "https://localhost:8080/",
          "height": 69
        }
      },
      "source": [
        "latent = np.zeros((1, 128, 1, 1))\n",
        "for i in range(len(anchors)):\n",
        "    latent = np.concatenate([latent, anchors[i].cpu()])\n",
        "latent = latent[1:]\n",
        "print('latent shape: {}'.format(latent.shape))\n",
        "\n",
        "tmp_label = np.zeros((1))\n",
        "for i in range(len(labels)):\n",
        "    tmp_label = np.concatenate([tmp_label, labels[i].cpu()])\n",
        "tmp_label = tmp_label[1:]\n",
        "print('label shape: {}'.format(tmp_label.shape))\n",
        "\n",
        "tmp_index = np.zeros((1))\n",
        "for i in range(len(indexes)):\n",
        "    tmp_index = np.concatenate([tmp_index, indexes[i].cpu()])\n",
        "tmp_index = tmp_index[1:]\n",
        "print('index shape: {}'.format(tmp_index.shape))"
      ],
      "execution_count": 32,
      "outputs": [
        {
          "output_type": "stream",
          "text": [
            "latent shape: (32032, 128, 1, 1)\n",
            "label shape: (32032,)\n",
            "index shape: (32032,)\n"
          ],
          "name": "stdout"
        }
      ]
    },
    {
      "cell_type": "code",
      "metadata": {
        "id": "VGuBhx8GNQUc",
        "colab_type": "code",
        "outputId": "2ce28dd9-4106-40fc-86e3-709337c6146f",
        "colab": {
          "base_uri": "https://localhost:8080/",
          "height": 35
        }
      },
      "source": [
        "tmp_label[0], tmp_index[0] # dset[116740]과 대응"
      ],
      "execution_count": 33,
      "outputs": [
        {
          "output_type": "execute_result",
          "data": {
            "text/plain": [
              "(56.0, 136870.0)"
            ]
          },
          "metadata": {
            "tags": []
          },
          "execution_count": 33
        }
      ]
    },
    {
      "cell_type": "code",
      "metadata": {
        "id": "ADTzYpkJNQRg",
        "colab_type": "code",
        "outputId": "da800876-fffc-4083-ed8a-888fe1e4caed",
        "colab": {
          "base_uri": "https://localhost:8080/",
          "height": 35
        }
      },
      "source": [
        "latent = latent.reshape(32032,128)\n",
        "latent.shape"
      ],
      "execution_count": 34,
      "outputs": [
        {
          "output_type": "execute_result",
          "data": {
            "text/plain": [
              "(32032, 128)"
            ]
          },
          "metadata": {
            "tags": []
          },
          "execution_count": 34
        }
      ]
    },
    {
      "cell_type": "code",
      "metadata": {
        "id": "uyD3ekccNQPI",
        "colab_type": "code",
        "outputId": "5a7c5d44-6fea-498f-aff8-9c97149aa8bc",
        "colab": {
          "base_uri": "https://localhost:8080/",
          "height": 466
        }
      },
      "source": [
        "latent[0], tmp_index[0]"
      ],
      "execution_count": 35,
      "outputs": [
        {
          "output_type": "execute_result",
          "data": {
            "text/plain": [
              "(array([ 0.09998119, -0.23477261,  0.0284244 , -0.04939822,  0.05614762,\n",
              "        -0.08159187, -0.07194305,  0.02998504,  0.06461191,  0.06553785,\n",
              "        -0.04296161, -0.0820726 , -0.06225835,  0.09571861, -0.04297545,\n",
              "         0.04530541,  0.0519364 , -0.03115962, -0.00736579,  0.0795498 ,\n",
              "        -0.07766343,  0.06100911, -0.0443666 ,  0.02238349,  0.03598484,\n",
              "         0.05194227,  0.07002579,  0.04455588,  0.12528896, -0.07289457,\n",
              "         0.05872232,  0.07927836, -0.03075837,  0.03951452,  0.03508534,\n",
              "        -0.10058144, -0.07055721,  0.02602098,  0.03485351, -0.02826598,\n",
              "         0.0218322 ,  0.04194805,  0.04754282, -0.03062513,  0.0354114 ,\n",
              "         0.02249434, -0.01455066,  0.00645548, -0.04824299,  0.012326  ,\n",
              "        -0.03009254,  0.07248993, -0.01899367, -0.09518386,  0.02427388,\n",
              "        -0.0293817 ,  0.00151176, -0.05130066,  0.04127216, -0.06465775,\n",
              "         0.02766302, -0.00227006, -0.05456667, -0.04986493,  0.07029536,\n",
              "         0.00801632, -0.04146087, -0.13539861,  0.01488678,  0.04013355,\n",
              "         0.03418308,  0.01915759, -0.06649835,  0.02226972,  0.02863421,\n",
              "         0.03530456,  0.04753167,  0.06256752, -0.03501735,  0.08997285,\n",
              "        -0.02343314, -0.03735284, -0.02233443, -0.06312964,  0.09440285,\n",
              "         0.03615434, -0.04169673, -0.05090137,  0.11570094,  0.05135154,\n",
              "         0.01837412,  0.04821348, -0.07020366,  0.08985374, -0.03895675,\n",
              "         0.09328838, -0.01810526, -0.04861116,  0.03615976,  0.02239137,\n",
              "         0.05836705, -0.01143975, -0.06567756,  0.05011553,  0.04950747,\n",
              "         0.09786882, -0.02215587,  0.04506708,  0.05448879, -0.05900265,\n",
              "         0.04250039, -0.04821792,  0.03569475,  0.11502051, -0.05273486,\n",
              "        -0.07887203,  0.02009559,  0.03545351, -0.13697256, -0.06669344,\n",
              "        -0.10318017, -0.04935323, -0.02418448, -0.03677152, -0.06458689,\n",
              "        -0.04086515, -0.01691116, -0.10483907]), 136870.0)"
            ]
          },
          "metadata": {
            "tags": []
          },
          "execution_count": 35
        }
      ]
    },
    {
      "cell_type": "code",
      "metadata": {
        "id": "ExzCiMN6OUXv",
        "colab_type": "code",
        "colab": {}
      },
      "source": [
        ""
      ],
      "execution_count": 0,
      "outputs": []
    },
    {
      "cell_type": "code",
      "metadata": {
        "id": "Trx2-XTHE_sM",
        "colab_type": "code",
        "colab": {}
      },
      "source": [
        "model = KMeans(n_clusters=4)\n",
        "model.fit(latent)\n",
        "\n",
        "y_predict = model.fit_predict(latent)"
      ],
      "execution_count": 0,
      "outputs": []
    },
    {
      "cell_type": "code",
      "metadata": {
        "id": "BBkZJQNJE_pa",
        "colab_type": "code",
        "outputId": "9d34e81d-1bdc-4de4-9b84-ff8bd5aa9d51",
        "colab": {
          "base_uri": "https://localhost:8080/",
          "height": 69
        }
      },
      "source": [
        "print(y_predict[:100])"
      ],
      "execution_count": 74,
      "outputs": [
        {
          "output_type": "stream",
          "text": [
            "[3 0 1 2 1 1 0 0 0 1 1 3 0 1 1 3 3 3 1 0 1 0 0 0 0 1 1 3 3 0 3 2 3 2 1 1 2\n",
            " 1 3 3 3 0 0 1 0 2 1 0 0 2 1 1 0 1 0 0 0 3 3 3 0 2 1 0 3 1 0 3 3 2 2 1 1 0\n",
            " 2 1 1 3 2 1 1 3 1 1 0 1 0 1 1 1 0 0 2 3 1 2 1 0 0 1]\n"
          ],
          "name": "stdout"
        }
      ]
    },
    {
      "cell_type": "code",
      "metadata": {
        "id": "KYqMcDikE_m1",
        "colab_type": "code",
        "colab": {}
      },
      "source": [
        "colors = {0:'red', 1:'blue', 2: 'yellow', 3: 'pink'} #, 4:'green'}"
      ],
      "execution_count": 0,
      "outputs": []
    },
    {
      "cell_type": "code",
      "metadata": {
        "id": "6GSX4SUiE_fL",
        "colab_type": "code",
        "outputId": "e0a26d90-736f-4057-9735-22df8d44457f",
        "colab": {
          "base_uri": "https://localhost:8080/",
          "height": 35
        }
      },
      "source": [
        "[np.sum(y_predict==i) for i in range(4)]"
      ],
      "execution_count": 76,
      "outputs": [
        {
          "output_type": "execute_result",
          "data": {
            "text/plain": [
              "[10714, 10660, 3619, 7039]"
            ]
          },
          "metadata": {
            "tags": []
          },
          "execution_count": 76
        }
      ]
    },
    {
      "cell_type": "code",
      "metadata": {
        "id": "eYVlB4y_Q9qs",
        "colab_type": "code",
        "outputId": "24ddff81-e145-49aa-b8b6-0b9ea4e0ef62",
        "colab": {
          "base_uri": "https://localhost:8080/",
          "height": 680
        }
      },
      "source": [
        "plt.figure(figsize=(10, 20))\n",
        "s = 0\n",
        "for i, (idx, c) in enumerate(zip(tmp_index, y_predict)): \n",
        "    if c==0:\n",
        "        # print(idx)\n",
        "        plt.subplot(10,5,s+1)\n",
        "        image = dset[int(idx)][1].astype('uint8')\n",
        "        plt.imshow(image)\n",
        "        plt.tick_params(axis='both', labelsize=0, length = 0)\n",
        "        s += 1\n",
        "    if i == 100:\n",
        "        break\n",
        "        # for j in range(int(idx)):\n",
        "        #     plt.subplot(17, 9, 9*s + j+1)\n",
        "        #     plt.imshow(dset[i])\n",
        "        #     plt.tick_params(axis='both', labelsize=0, length = 0)\n",
        "#         plt.subplot(17, 9, 9*s + 9)\n",
        "#         plt.plot(np.arange(10), color=colors[c])\n",
        "#         plt.tick_params(axis='both', labelsize=0, length = 0)\n",
        "        # s += 1\n",
        "plt.show()\n",
        "plt.close()"
      ],
      "execution_count": 77,
      "outputs": [
        {
          "output_type": "display_data",
          "data": {
            "image/png": "[encoded data removed]",
            "text/plain": [
              "<Figure size 720x1440 with 30 Axes>"
            ]
          },
          "metadata": {
            "tags": []
          }
        }
      ]
    },
    {
      "cell_type": "code",
      "metadata": {
        "id": "nHNgtNyjcVFi",
        "colab_type": "code",
        "colab": {
          "base_uri": "https://localhost:8080/",
          "height": 902
        },
        "outputId": "2ae794c2-b27f-4afe-8eb2-eeedc62536e8"
      },
      "source": [
        "plt.figure(figsize=(10, 20))\n",
        "s = 0\n",
        "for i, (idx, c) in enumerate(zip(tmp_index, y_predict)): \n",
        "    if c==1:\n",
        "        # print(idx)\n",
        "        plt.subplot(10,5,s+1)\n",
        "        image = dset[int(idx)][1].astype('uint8')\n",
        "        plt.imshow(image)\n",
        "        plt.tick_params(axis='both', labelsize=0, length = 0)\n",
        "        s += 1\n",
        "    if i == 100:\n",
        "        break\n",
        "        # for j in range(int(idx)):\n",
        "        #     plt.subplot(17, 9, 9*s + j+1)\n",
        "        #     plt.imshow(dset[i])\n",
        "        #     plt.tick_params(axis='both', labelsize=0, length = 0)\n",
        "#         plt.subplot(17, 9, 9*s + 9)\n",
        "#         plt.plot(np.arange(10), color=colors[c])\n",
        "#         plt.tick_params(axis='both', labelsize=0, length = 0)\n",
        "        # s += 1\n",
        "plt.show()\n",
        "plt.close()"
      ],
      "execution_count": 78,
      "outputs": [
        {
          "output_type": "display_data",
          "data": {
            "image/png": "[encoded data removed]",
            "text/plain": [
              "<Figure size 720x1440 with 36 Axes>"
            ]
          },
          "metadata": {
            "tags": []
          }
        }
      ]
    },
    {
      "cell_type": "code",
      "metadata": {
        "id": "BMJZDQHTcVBs",
        "colab_type": "code",
        "colab": {
          "base_uri": "https://localhost:8080/",
          "height": 574
        },
        "outputId": "51998e64-6ac1-457f-a9f3-2c5e88f373c1"
      },
      "source": [
        "plt.figure(figsize=(10, 20))\n",
        "s = 0\n",
        "for i, (idx, c) in enumerate(zip(tmp_index, y_predict)): \n",
        "    if c==2:\n",
        "        print(idx)\n",
        "        plt.subplot(10,5,s+1)\n",
        "        image = dset[int(idx)][1].astype('uint8')\n",
        "        plt.imshow(image)\n",
        "        plt.tick_params(axis='both', labelsize=0, length = 0)\n",
        "        s += 1\n",
        "    if i == 100:\n",
        "        break\n",
        "        # for j in range(int(idx)):\n",
        "        #     plt.subplot(17, 9, 9*s + j+1)\n",
        "        #     plt.imshow(dset[i])\n",
        "        #     plt.tick_params(axis='both', labelsize=0, length = 0)\n",
        "#         plt.subplot(17, 9, 9*s + 9)\n",
        "#         plt.plot(np.arange(10), color=colors[c])\n",
        "#         plt.tick_params(axis='both', labelsize=0, length = 0)\n",
        "        # s += 1\n",
        "plt.show()\n",
        "plt.close()"
      ],
      "execution_count": 79,
      "outputs": [
        {
          "output_type": "stream",
          "text": [
            "17459.0\n",
            "160947.0\n",
            "247972.0\n",
            "217974.0\n",
            "133268.0\n",
            "192389.0\n",
            "192061.0\n",
            "133752.0\n",
            "43461.0\n",
            "49310.0\n",
            "133792.0\n",
            "43995.0\n",
            "123634.0\n"
          ],
          "name": "stdout"
        },
        {
          "output_type": "display_data",
          "data": {
            "image/png": "[encoded data removed]",
            "text/plain": [
              "<Figure size 720x1440 with 13 Axes>"
            ]
          },
          "metadata": {
            "tags": []
          }
        }
      ]
    },
    {
      "cell_type": "code",
      "metadata": {
        "id": "5-RPhWy-cU9l",
        "colab_type": "code",
        "colab": {
          "base_uri": "https://localhost:8080/",
          "height": 570
        },
        "outputId": "b50712ea-e362-4596-89b7-cc34eaa41422"
      },
      "source": [
        "plt.figure(figsize=(10, 20))\n",
        "s = 0\n",
        "for i, (idx, c) in enumerate(zip(tmp_index, y_predict)): \n",
        "    if c==3:\n",
        "        # print(idx)\n",
        "        plt.subplot(10,5,s+1)\n",
        "        image = dset[int(idx)][1].astype('uint8')\n",
        "        plt.imshow(image)\n",
        "        plt.tick_params(axis='both', labelsize=0, length = 0)\n",
        "        s += 1\n",
        "    if i == 100:\n",
        "        break\n",
        "        # for j in range(int(idx)):\n",
        "        #     plt.subplot(17, 9, 9*s + j+1)\n",
        "        #     plt.imshow(dset[i])\n",
        "        #     plt.tick_params(axis='both', labelsize=0, length = 0)\n",
        "#         plt.subplot(17, 9, 9*s + 9)\n",
        "#         plt.plot(np.arange(10), color=colors[c])\n",
        "#         plt.tick_params(axis='both', labelsize=0, length = 0)\n",
        "        # s += 1\n",
        "plt.show()\n",
        "plt.close()"
      ],
      "execution_count": 82,
      "outputs": [
        {
          "output_type": "display_data",
          "data": {
            "image/png": "[encoded data removed]",
            "text/plain": [
              "<Figure size 720x1440 with 22 Axes>"
            ]
          },
          "metadata": {
            "tags": []
          }
        }
      ]
    },
    {
      "cell_type": "code",
      "metadata": {
        "id": "dVK3VCQvneKe",
        "colab_type": "code",
        "colab": {}
      },
      "source": [
        ""
      ],
      "execution_count": 0,
      "outputs": []
    }
  ]
}